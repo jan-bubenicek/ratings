{
 "cells": [
  {
   "cell_type": "markdown",
   "metadata": {
    "papermill": {
     "duration": 0.017844,
     "end_time": "2020-12-07T10:30:54.731785",
     "exception": false,
     "start_time": "2020-12-07T10:30:54.713941",
     "status": "completed"
    },
    "tags": []
   },
   "source": [
    "# Recommender system"
   ]
  },
  {
   "cell_type": "code",
   "execution_count": 1,
   "metadata": {
    "execution": {
     "iopub.execute_input": "2020-12-07T10:30:54.796676Z",
     "iopub.status.busy": "2020-12-07T10:30:54.794463Z",
     "iopub.status.idle": "2020-12-07T10:30:57.260418Z",
     "shell.execute_reply": "2020-12-07T10:30:57.257678Z"
    },
    "papermill": {
     "duration": 2.510358,
     "end_time": "2020-12-07T10:30:57.260640",
     "exception": false,
     "start_time": "2020-12-07T10:30:54.750282",
     "status": "completed"
    },
    "tags": []
   },
   "outputs": [
    {
     "name": "stderr",
     "output_type": "stream",
     "text": [
      "── \u001b[1mAttaching packages\u001b[22m ─────────────────────────────────────── tidyverse 1.3.0 ──\n",
      "\n",
      "\u001b[32m✔\u001b[39m \u001b[34mggplot2\u001b[39m 3.3.2     \u001b[32m✔\u001b[39m \u001b[34mpurrr  \u001b[39m 0.3.4\n",
      "\u001b[32m✔\u001b[39m \u001b[34mtibble \u001b[39m 3.0.4     \u001b[32m✔\u001b[39m \u001b[34mdplyr  \u001b[39m 1.0.2\n",
      "\u001b[32m✔\u001b[39m \u001b[34mtidyr  \u001b[39m 1.1.2     \u001b[32m✔\u001b[39m \u001b[34mstringr\u001b[39m 1.4.0\n",
      "\u001b[32m✔\u001b[39m \u001b[34mreadr  \u001b[39m 1.4.0     \u001b[32m✔\u001b[39m \u001b[34mforcats\u001b[39m 0.5.0\n",
      "\n",
      "── \u001b[1mConflicts\u001b[22m ────────────────────────────────────────── tidyverse_conflicts() ──\n",
      "\u001b[31m✖\u001b[39m \u001b[34mdplyr\u001b[39m::\u001b[32mfilter()\u001b[39m masks \u001b[34mstats\u001b[39m::filter()\n",
      "\u001b[31m✖\u001b[39m \u001b[34mdplyr\u001b[39m::\u001b[32mlag()\u001b[39m    masks \u001b[34mstats\u001b[39m::lag()\n",
      "\n",
      "\n",
      "Attaching package: ‘reshape’\n",
      "\n",
      "\n",
      "The following object is masked from ‘package:dplyr’:\n",
      "\n",
      "    rename\n",
      "\n",
      "\n",
      "The following objects are masked from ‘package:tidyr’:\n",
      "\n",
      "    expand, smiths\n",
      "\n",
      "\n"
     ]
    }
   ],
   "source": [
    "library(tidyverse)\n",
    "library(keras)\n",
    "library(reshape)\n",
    "library(tensorflow)"
   ]
  },
  {
   "cell_type": "code",
   "execution_count": 2,
   "metadata": {
    "execution": {
     "iopub.execute_input": "2020-12-07T10:30:57.380844Z",
     "iopub.status.busy": "2020-12-07T10:30:57.320695Z",
     "iopub.status.idle": "2020-12-07T10:30:58.806745Z",
     "shell.execute_reply": "2020-12-07T10:30:58.804747Z"
    },
    "papermill": {
     "duration": 1.520462,
     "end_time": "2020-12-07T10:30:58.806887",
     "exception": false,
     "start_time": "2020-12-07T10:30:57.286425",
     "status": "completed"
    },
    "tags": []
   },
   "outputs": [],
   "source": [
    "# data loading\n",
    "url <- \"https://raw.githubusercontent.com/simecek/dspracticum2020/master/lecture_09/assignment/fake_v1_100x252.csv\"\n",
    "\n",
    "data_entry <- read.csv(url)"
   ]
  },
  {
   "cell_type": "code",
   "execution_count": 3,
   "metadata": {
    "execution": {
     "iopub.execute_input": "2020-12-07T10:30:58.848338Z",
     "iopub.status.busy": "2020-12-07T10:30:58.846753Z",
     "iopub.status.idle": "2020-12-07T10:30:58.869477Z",
     "shell.execute_reply": "2020-12-07T10:30:58.868262Z"
    },
    "papermill": {
     "duration": 0.04348,
     "end_time": "2020-12-07T10:30:58.869590",
     "exception": false,
     "start_time": "2020-12-07T10:30:58.826110",
     "status": "completed"
    },
    "tags": []
   },
   "outputs": [
    {
     "data": {
      "text/html": [
       "5000"
      ],
      "text/latex": [
       "5000"
      ],
      "text/markdown": [
       "5000"
      ],
      "text/plain": [
       "[1] 5000"
      ]
     },
     "metadata": {},
     "output_type": "display_data"
    },
    {
     "data": {
      "text/html": [
       "0.198412698412698"
      ],
      "text/latex": [
       "0.198412698412698"
      ],
      "text/markdown": [
       "0.198412698412698"
      ],
      "text/plain": [
       "[1] 0.1984127"
      ]
     },
     "metadata": {},
     "output_type": "display_data"
    }
   ],
   "source": [
    "# number of ratings\n",
    "sum(!is.na(data_entry[,-1]))\n",
    "\n",
    "# percentage of ratings\n",
    "sum(!is.na(data_entry[,-1])) / (dim(data_entry[,-1])[1] * dim(data_entry[,-1])[2]) "
   ]
  },
  {
   "cell_type": "code",
   "execution_count": 4,
   "metadata": {
    "execution": {
     "iopub.execute_input": "2020-12-07T10:30:58.913198Z",
     "iopub.status.busy": "2020-12-07T10:30:58.911588Z",
     "iopub.status.idle": "2020-12-07T10:30:59.115222Z",
     "shell.execute_reply": "2020-12-07T10:30:59.114079Z"
    },
    "papermill": {
     "duration": 0.226025,
     "end_time": "2020-12-07T10:30:59.115362",
     "exception": false,
     "start_time": "2020-12-07T10:30:58.889337",
     "status": "completed"
    },
    "tags": []
   },
   "outputs": [
    {
     "name": "stderr",
     "output_type": "stream",
     "text": [
      "Using X as id variables\n",
      "\n"
     ]
    }
   ],
   "source": [
    "n_users <- dim(data_entry)[1]  # num. of users\n",
    "n_tweets <- dim(data_entry)[2] - 1  # num. of tweets\n",
    "\n",
    "data <- melt(as.data.frame(data_entry)) %>%\n",
    "  select(user_id = X, tweet_id = variable, rating = value) %>%\n",
    "  mutate(user_id = rep(1:n_users, n_tweets), tweet_id = rep(1:n_tweets, rep(n_users, n_tweets))) %>%\n",
    "  na.omit()"
   ]
  },
  {
   "cell_type": "code",
   "execution_count": 5,
   "metadata": {
    "execution": {
     "iopub.execute_input": "2020-12-07T10:30:59.161629Z",
     "iopub.status.busy": "2020-12-07T10:30:59.160167Z",
     "iopub.status.idle": "2020-12-07T10:30:59.181109Z",
     "shell.execute_reply": "2020-12-07T10:30:59.179769Z"
    },
    "papermill": {
     "duration": 0.044523,
     "end_time": "2020-12-07T10:30:59.181230",
     "exception": false,
     "start_time": "2020-12-07T10:30:59.136707",
     "status": "completed"
    },
    "tags": []
   },
   "outputs": [
    {
     "data": {
      "text/html": [
       "<table class=\"dataframe\">\n",
       "<caption>A data.frame: 6 × 3</caption>\n",
       "<thead>\n",
       "\t<tr><th></th><th scope=col>user_id</th><th scope=col>tweet_id</th><th scope=col>rating</th></tr>\n",
       "\t<tr><th></th><th scope=col>&lt;int&gt;</th><th scope=col>&lt;int&gt;</th><th scope=col>&lt;int&gt;</th></tr>\n",
       "</thead>\n",
       "<tbody>\n",
       "\t<tr><th scope=row>1</th><td> 1</td><td>1</td><td>4</td></tr>\n",
       "\t<tr><th scope=row>4</th><td> 4</td><td>1</td><td>4</td></tr>\n",
       "\t<tr><th scope=row>18</th><td>18</td><td>1</td><td>3</td></tr>\n",
       "\t<tr><th scope=row>22</th><td>22</td><td>1</td><td>4</td></tr>\n",
       "\t<tr><th scope=row>30</th><td>30</td><td>1</td><td>5</td></tr>\n",
       "\t<tr><th scope=row>43</th><td>43</td><td>1</td><td>5</td></tr>\n",
       "</tbody>\n",
       "</table>\n"
      ],
      "text/latex": [
       "A data.frame: 6 × 3\n",
       "\\begin{tabular}{r|lll}\n",
       "  & user\\_id & tweet\\_id & rating\\\\\n",
       "  & <int> & <int> & <int>\\\\\n",
       "\\hline\n",
       "\t1 &  1 & 1 & 4\\\\\n",
       "\t4 &  4 & 1 & 4\\\\\n",
       "\t18 & 18 & 1 & 3\\\\\n",
       "\t22 & 22 & 1 & 4\\\\\n",
       "\t30 & 30 & 1 & 5\\\\\n",
       "\t43 & 43 & 1 & 5\\\\\n",
       "\\end{tabular}\n"
      ],
      "text/markdown": [
       "\n",
       "A data.frame: 6 × 3\n",
       "\n",
       "| <!--/--> | user_id &lt;int&gt; | tweet_id &lt;int&gt; | rating &lt;int&gt; |\n",
       "|---|---|---|---|\n",
       "| 1 |  1 | 1 | 4 |\n",
       "| 4 |  4 | 1 | 4 |\n",
       "| 18 | 18 | 1 | 3 |\n",
       "| 22 | 22 | 1 | 4 |\n",
       "| 30 | 30 | 1 | 5 |\n",
       "| 43 | 43 | 1 | 5 |\n",
       "\n"
      ],
      "text/plain": [
       "   user_id tweet_id rating\n",
       "1   1      1        4     \n",
       "4   4      1        4     \n",
       "18 18      1        3     \n",
       "22 22      1        4     \n",
       "30 30      1        5     \n",
       "43 43      1        5     "
      ]
     },
     "metadata": {},
     "output_type": "display_data"
    }
   ],
   "source": [
    "head(data)"
   ]
  },
  {
   "cell_type": "code",
   "execution_count": 6,
   "metadata": {
    "execution": {
     "iopub.execute_input": "2020-12-07T10:30:59.227971Z",
     "iopub.status.busy": "2020-12-07T10:30:59.226358Z",
     "iopub.status.idle": "2020-12-07T10:30:59.255899Z",
     "shell.execute_reply": "2020-12-07T10:30:59.254714Z"
    },
    "papermill": {
     "duration": 0.053586,
     "end_time": "2020-12-07T10:30:59.256063",
     "exception": false,
     "start_time": "2020-12-07T10:30:59.202477",
     "status": "completed"
    },
    "tags": []
   },
   "outputs": [],
   "source": [
    "set.seed(1234)\n",
    "data <- data %>% sample_frac() # nahodne prohazi radky\n",
    "\n",
    "x_train <- data %>% select(c(user_id, tweet_id)) %>% as.matrix()\n",
    "y_train <- data %>% pull(rating)"
   ]
  },
  {
   "cell_type": "code",
   "execution_count": 7,
   "metadata": {
    "execution": {
     "iopub.execute_input": "2020-12-07T10:30:59.303642Z",
     "iopub.status.busy": "2020-12-07T10:30:59.302036Z",
     "iopub.status.idle": "2020-12-07T10:30:59.318546Z",
     "shell.execute_reply": "2020-12-07T10:30:59.317273Z"
    },
    "papermill": {
     "duration": 0.041099,
     "end_time": "2020-12-07T10:30:59.318658",
     "exception": false,
     "start_time": "2020-12-07T10:30:59.277559",
     "status": "completed"
    },
    "tags": []
   },
   "outputs": [
    {
     "data": {
      "text/html": [
       "<table class=\"dataframe\">\n",
       "<caption>A matrix: 6 × 2 of type int</caption>\n",
       "<thead>\n",
       "\t<tr><th scope=col>user_id</th><th scope=col>tweet_id</th></tr>\n",
       "</thead>\n",
       "<tbody>\n",
       "\t<tr><td>16</td><td> 53</td></tr>\n",
       "\t<tr><td>38</td><td> 33</td></tr>\n",
       "\t<tr><td>70</td><td>136</td></tr>\n",
       "\t<tr><td>86</td><td> 49</td></tr>\n",
       "\t<tr><td>91</td><td>226</td></tr>\n",
       "\t<tr><td>79</td><td>149</td></tr>\n",
       "</tbody>\n",
       "</table>\n"
      ],
      "text/latex": [
       "A matrix: 6 × 2 of type int\n",
       "\\begin{tabular}{ll}\n",
       " user\\_id & tweet\\_id\\\\\n",
       "\\hline\n",
       "\t 16 &  53\\\\\n",
       "\t 38 &  33\\\\\n",
       "\t 70 & 136\\\\\n",
       "\t 86 &  49\\\\\n",
       "\t 91 & 226\\\\\n",
       "\t 79 & 149\\\\\n",
       "\\end{tabular}\n"
      ],
      "text/markdown": [
       "\n",
       "A matrix: 6 × 2 of type int\n",
       "\n",
       "| user_id | tweet_id |\n",
       "|---|---|\n",
       "| 16 |  53 |\n",
       "| 38 |  33 |\n",
       "| 70 | 136 |\n",
       "| 86 |  49 |\n",
       "| 91 | 226 |\n",
       "| 79 | 149 |\n",
       "\n"
      ],
      "text/plain": [
       "     user_id tweet_id\n",
       "[1,] 16       53     \n",
       "[2,] 38       33     \n",
       "[3,] 70      136     \n",
       "[4,] 86       49     \n",
       "[5,] 91      226     \n",
       "[6,] 79      149     "
      ]
     },
     "metadata": {},
     "output_type": "display_data"
    }
   ],
   "source": [
    "head(x_train)"
   ]
  },
  {
   "cell_type": "markdown",
   "metadata": {
    "papermill": {
     "duration": 0.02158,
     "end_time": "2020-12-07T10:30:59.362173",
     "exception": false,
     "start_time": "2020-12-07T10:30:59.340593",
     "status": "completed"
    },
    "tags": []
   },
   "source": [
    "# Basic model"
   ]
  },
  {
   "cell_type": "markdown",
   "metadata": {
    "papermill": {
     "duration": 0.021807,
     "end_time": "2020-12-07T10:30:59.406029",
     "exception": false,
     "start_time": "2020-12-07T10:30:59.384222",
     "status": "completed"
    },
    "tags": []
   },
   "source": [
    "Collaborative filtering"
   ]
  },
  {
   "cell_type": "code",
   "execution_count": 8,
   "metadata": {
    "execution": {
     "iopub.execute_input": "2020-12-07T10:30:59.455304Z",
     "iopub.status.busy": "2020-12-07T10:30:59.453759Z",
     "iopub.status.idle": "2020-12-07T10:30:59.463969Z",
     "shell.execute_reply": "2020-12-07T10:30:59.462583Z"
    },
    "papermill": {
     "duration": 0.035283,
     "end_time": "2020-12-07T10:30:59.464090",
     "exception": false,
     "start_time": "2020-12-07T10:30:59.428807",
     "status": "completed"
    },
    "tags": []
   },
   "outputs": [],
   "source": [
    "embedding_dim <- 5"
   ]
  },
  {
   "cell_type": "code",
   "execution_count": 9,
   "metadata": {
    "execution": {
     "iopub.execute_input": "2020-12-07T10:30:59.514528Z",
     "iopub.status.busy": "2020-12-07T10:30:59.512845Z",
     "iopub.status.idle": "2020-12-07T10:31:09.072410Z",
     "shell.execute_reply": "2020-12-07T10:31:09.068352Z"
    },
    "papermill": {
     "duration": 9.586129,
     "end_time": "2020-12-07T10:31:09.072612",
     "exception": false,
     "start_time": "2020-12-07T10:30:59.486483",
     "status": "completed"
    },
    "tags": []
   },
   "outputs": [],
   "source": [
    "input_users <- layer_input(shape = 1, name = \"users\")\n",
    "input_tweets <- layer_input(shape = 1, name = \"tweets\")\n",
    "\n",
    "user_embeddings <- input_users %>% \n",
    "  layer_embedding(\n",
    "    input_dim = n_users + 1,\n",
    "    output_dim = embedding_dim,\n",
    "    name = \"user_embeddings\"\n",
    "  ) \n",
    "\n",
    "tweets_embeddings <- input_tweets %>% \n",
    "  layer_embedding(\n",
    "    input_dim = n_tweets + 1,\n",
    "    output_dim = embedding_dim,\n",
    "    name = \"tweets_embeddings\"\n",
    "  ) "
   ]
  },
  {
   "cell_type": "code",
   "execution_count": 10,
   "metadata": {
    "execution": {
     "iopub.execute_input": "2020-12-07T10:31:09.139103Z",
     "iopub.status.busy": "2020-12-07T10:31:09.136674Z",
     "iopub.status.idle": "2020-12-07T10:31:09.510238Z",
     "shell.execute_reply": "2020-12-07T10:31:09.508239Z"
    },
    "papermill": {
     "duration": 0.402474,
     "end_time": "2020-12-07T10:31:09.510377",
     "exception": false,
     "start_time": "2020-12-07T10:31:09.107903",
     "status": "completed"
    },
    "tags": []
   },
   "outputs": [],
   "source": [
    "dot <- layer_dot(\n",
    "  inputs = list(user_embeddings, tweets_embeddings),\n",
    "  axes = 2,\n",
    "  name = \"dot_product\"\n",
    ")\n",
    "\n",
    "pred <- dot %>% layer_dense(\n",
    "  units = 1, \n",
    "  activation = \"relu\",\n",
    "  name = \"rating_prediction\"\n",
    ")"
   ]
  },
  {
   "cell_type": "code",
   "execution_count": 11,
   "metadata": {
    "execution": {
     "iopub.execute_input": "2020-12-07T10:31:09.559797Z",
     "iopub.status.busy": "2020-12-07T10:31:09.558178Z",
     "iopub.status.idle": "2020-12-07T10:31:09.623266Z",
     "shell.execute_reply": "2020-12-07T10:31:09.621813Z"
    },
    "papermill": {
     "duration": 0.090475,
     "end_time": "2020-12-07T10:31:09.623386",
     "exception": false,
     "start_time": "2020-12-07T10:31:09.532911",
     "status": "completed"
    },
    "tags": []
   },
   "outputs": [
    {
     "name": "stdout",
     "output_type": "stream",
     "text": [
      "Model: \"functional_1\"\n",
      "________________________________________________________________________________\n",
      "Layer (type)              Output Shape      Param #  Connected to               \n",
      "================================================================================\n",
      "users (InputLayer)        [(None, 1)]       0                                   \n",
      "________________________________________________________________________________\n",
      "tweets (InputLayer)       [(None, 1)]       0                                   \n",
      "________________________________________________________________________________\n",
      "user_embeddings (Embeddin (None, 1, 5)      505      users[0][0]                \n",
      "________________________________________________________________________________\n",
      "tweets_embeddings (Embedd (None, 1, 5)      1265     tweets[0][0]               \n",
      "________________________________________________________________________________\n",
      "dot_product (Dot)         (None, 1, 1)      0        user_embeddings[0][0]      \n",
      "                                                     tweets_embeddings[0][0]    \n",
      "________________________________________________________________________________\n",
      "rating_prediction (Dense) (None, 1, 1)      2        dot_product[0][0]          \n",
      "================================================================================\n",
      "Total params: 1,772\n",
      "Trainable params: 1,772\n",
      "Non-trainable params: 0\n",
      "________________________________________________________________________________\n"
     ]
    }
   ],
   "source": [
    "model <- keras_model(inputs = c(input_users, input_tweets), outputs = pred)\n",
    "\n",
    "model %>% compile(\n",
    "  optimizer = \"rmsprop\",\n",
    "  loss = \"mse\",\n",
    "  metric = \"mae\"\n",
    ")\n",
    "\n",
    "summary(model)"
   ]
  },
  {
   "cell_type": "code",
   "execution_count": 12,
   "metadata": {
    "execution": {
     "iopub.execute_input": "2020-12-07T10:31:09.673984Z",
     "iopub.status.busy": "2020-12-07T10:31:09.672344Z",
     "iopub.status.idle": "2020-12-07T10:31:19.800122Z",
     "shell.execute_reply": "2020-12-07T10:31:19.798440Z"
    },
    "papermill": {
     "duration": 10.153555,
     "end_time": "2020-12-07T10:31:19.800310",
     "exception": false,
     "start_time": "2020-12-07T10:31:09.646755",
     "status": "completed"
    },
    "tags": []
   },
   "outputs": [],
   "source": [
    "history <- model %>% fit(\n",
    "  x = list(\n",
    "    x_train[, \"user_id\", drop = FALSE],\n",
    "    x_train[, \"tweet_id\", drop = FALSE]\n",
    "  ),\n",
    "  y = y_train,\n",
    "  epochs = 20,\n",
    "  batch_size = 32, \n",
    "  validation_split = 0.2,\n",
    "  callbacks = list(callback_early_stopping(patience = 2))\n",
    ")"
   ]
  },
  {
   "cell_type": "code",
   "execution_count": 13,
   "metadata": {
    "execution": {
     "iopub.execute_input": "2020-12-07T10:31:19.853431Z",
     "iopub.status.busy": "2020-12-07T10:31:19.851613Z",
     "iopub.status.idle": "2020-12-07T10:31:19.867915Z",
     "shell.execute_reply": "2020-12-07T10:31:19.866575Z"
    },
    "papermill": {
     "duration": 0.043023,
     "end_time": "2020-12-07T10:31:19.868062",
     "exception": false,
     "start_time": "2020-12-07T10:31:19.825039",
     "status": "completed"
    },
    "tags": []
   },
   "outputs": [
    {
     "data": {
      "text/plain": [
       "\n",
       "Final epoch (plot to see history):\n",
       "    loss: 0.3563\n",
       "     mae: 0.4095\n",
       "val_loss: 0.4161\n",
       " val_mae: 0.445 "
      ]
     },
     "metadata": {},
     "output_type": "display_data"
    }
   ],
   "source": [
    "history\n",
    "# plot(history)"
   ]
  },
  {
   "cell_type": "code",
   "execution_count": 14,
   "metadata": {
    "execution": {
     "iopub.execute_input": "2020-12-07T10:31:19.920603Z",
     "iopub.status.busy": "2020-12-07T10:31:19.919076Z",
     "iopub.status.idle": "2020-12-07T10:31:19.938079Z",
     "shell.execute_reply": "2020-12-07T10:31:19.936783Z"
    },
    "papermill": {
     "duration": 0.046234,
     "end_time": "2020-12-07T10:31:19.938196",
     "exception": false,
     "start_time": "2020-12-07T10:31:19.891962",
     "status": "completed"
    },
    "tags": []
   },
   "outputs": [
    {
     "data": {
      "text/html": [
       "<span style=white-space:pre-wrap>'The best epoch had a loss of  0.4161  and mean absolute error of  0.445'</span>"
      ],
      "text/latex": [
       "'The best epoch had a loss of  0.4161  and mean absolute error of  0.445'"
      ],
      "text/markdown": [
       "<span style=white-space:pre-wrap>'The best epoch had a loss of  0.4161  and mean absolute error of  0.445'</span>"
      ],
      "text/plain": [
       "[1] \"The best epoch had a loss of  0.4161  and mean absolute error of  0.445\""
      ]
     },
     "metadata": {},
     "output_type": "display_data"
    }
   ],
   "source": [
    "best_epoch <- which(history$metrics$val_loss == min(history$metrics$val_loss))\n",
    "loss <- history$metrics$val_loss[best_epoch] %>% round(4)\n",
    "mae <- history$metrics$val_mae[best_epoch] %>% round(4)\n",
    "\n",
    "paste(\"The best epoch had a loss of \", loss, \" and mean absolute error of \", mae)"
   ]
  },
  {
   "cell_type": "markdown",
   "metadata": {
    "papermill": {
     "duration": 0.025147,
     "end_time": "2020-12-07T10:31:19.988275",
     "exception": false,
     "start_time": "2020-12-07T10:31:19.963128",
     "status": "completed"
    },
    "tags": []
   },
   "source": [
    "# Biased model"
   ]
  },
  {
   "cell_type": "code",
   "execution_count": 15,
   "metadata": {
    "execution": {
     "iopub.execute_input": "2020-12-07T10:31:20.042470Z",
     "iopub.status.busy": "2020-12-07T10:31:20.040970Z",
     "iopub.status.idle": "2020-12-07T10:31:20.067229Z",
     "shell.execute_reply": "2020-12-07T10:31:20.065834Z"
    },
    "papermill": {
     "duration": 0.054164,
     "end_time": "2020-12-07T10:31:20.067344",
     "exception": false,
     "start_time": "2020-12-07T10:31:20.013180",
     "status": "completed"
    },
    "tags": []
   },
   "outputs": [],
   "source": [
    "user_bias <- input_users %>%\n",
    "  layer_embedding(\n",
    "    input_dim = n_users + 1,\n",
    "    output_dim = 1,\n",
    "    name = \"user_bias\"\n",
    "  ) \n",
    "\n",
    "tweets_bias <- input_tweets %>%\n",
    "  layer_embedding(\n",
    "    input_dim = n_tweets + 1,\n",
    "    output_dim = 1,\n",
    "    name = \"tweets_bias\"\n",
    "  )"
   ]
  },
  {
   "cell_type": "code",
   "execution_count": 16,
   "metadata": {
    "execution": {
     "iopub.execute_input": "2020-12-07T10:31:20.122439Z",
     "iopub.status.busy": "2020-12-07T10:31:20.120883Z",
     "iopub.status.idle": "2020-12-07T10:31:20.156544Z",
     "shell.execute_reply": "2020-12-07T10:31:20.155338Z"
    },
    "papermill": {
     "duration": 0.0639,
     "end_time": "2020-12-07T10:31:20.156775",
     "exception": false,
     "start_time": "2020-12-07T10:31:20.092875",
     "status": "completed"
    },
    "tags": []
   },
   "outputs": [],
   "source": [
    "dot_bias <- layer_add(list(dot, user_bias, tweets_bias), name = \"add_bias\")\n",
    "\n",
    "pred_bias <- dot_bias %>% layer_dense(units = 1, activation = \"relu\", \n",
    "                                 name = \"rating_prediction\")"
   ]
  },
  {
   "cell_type": "markdown",
   "metadata": {
    "papermill": {
     "duration": 0.02586,
     "end_time": "2020-12-07T10:31:20.209264",
     "exception": false,
     "start_time": "2020-12-07T10:31:20.183404",
     "status": "completed"
    },
    "tags": []
   },
   "source": [
    "Model"
   ]
  },
  {
   "cell_type": "code",
   "execution_count": 17,
   "metadata": {
    "execution": {
     "iopub.execute_input": "2020-12-07T10:31:20.264344Z",
     "iopub.status.busy": "2020-12-07T10:31:20.262793Z",
     "iopub.status.idle": "2020-12-07T10:31:20.330100Z",
     "shell.execute_reply": "2020-12-07T10:31:20.327048Z"
    },
    "papermill": {
     "duration": 0.095851,
     "end_time": "2020-12-07T10:31:20.330243",
     "exception": false,
     "start_time": "2020-12-07T10:31:20.234392",
     "status": "completed"
    },
    "tags": []
   },
   "outputs": [
    {
     "name": "stdout",
     "output_type": "stream",
     "text": [
      "Model: \"functional_3\"\n",
      "________________________________________________________________________________\n",
      "Layer (type)              Output Shape      Param #  Connected to               \n",
      "================================================================================\n",
      "users (InputLayer)        [(None, 1)]       0                                   \n",
      "________________________________________________________________________________\n",
      "tweets (InputLayer)       [(None, 1)]       0                                   \n",
      "________________________________________________________________________________\n",
      "user_embeddings (Embeddin (None, 1, 5)      505      users[0][0]                \n",
      "________________________________________________________________________________\n",
      "tweets_embeddings (Embedd (None, 1, 5)      1265     tweets[0][0]               \n",
      "________________________________________________________________________________\n",
      "dot_product (Dot)         (None, 1, 1)      0        user_embeddings[0][0]      \n",
      "                                                     tweets_embeddings[0][0]    \n",
      "________________________________________________________________________________\n",
      "user_bias (Embedding)     (None, 1, 1)      101      users[0][0]                \n",
      "________________________________________________________________________________\n",
      "tweets_bias (Embedding)   (None, 1, 1)      253      tweets[0][0]               \n",
      "________________________________________________________________________________\n",
      "add_bias (Add)            (None, 1, 1)      0        dot_product[0][0]          \n",
      "                                                     user_bias[0][0]            \n",
      "                                                     tweets_bias[0][0]          \n",
      "________________________________________________________________________________\n",
      "rating_prediction (Dense) (None, 1, 1)      2        add_bias[0][0]             \n",
      "================================================================================\n",
      "Total params: 2,126\n",
      "Trainable params: 2,126\n",
      "Non-trainable params: 0\n",
      "________________________________________________________________________________\n"
     ]
    }
   ],
   "source": [
    "model_bias <- keras_model(inputs = c(input_users, input_tweets), outputs = pred_bias)\n",
    "\n",
    "model_bias %>% compile(\n",
    "  optimizer = \"rmsprop\",\n",
    "  loss = \"mse\",\n",
    "  metric = \"mae\"\n",
    ")\n",
    "\n",
    "summary(model_bias)"
   ]
  },
  {
   "cell_type": "code",
   "execution_count": 18,
   "metadata": {
    "execution": {
     "iopub.execute_input": "2020-12-07T10:31:20.391732Z",
     "iopub.status.busy": "2020-12-07T10:31:20.390149Z",
     "iopub.status.idle": "2020-12-07T10:31:29.199316Z",
     "shell.execute_reply": "2020-12-07T10:31:29.197667Z"
    },
    "papermill": {
     "duration": 8.838451,
     "end_time": "2020-12-07T10:31:29.199560",
     "exception": false,
     "start_time": "2020-12-07T10:31:20.361109",
     "status": "completed"
    },
    "tags": []
   },
   "outputs": [
    {
     "data": {
      "text/plain": [
       "\n",
       "Final epoch (plot to see history):\n",
       "    loss: 17.56\n",
       "     mae: 4.144\n",
       "val_loss: 17.55\n",
       " val_mae: 4.142 "
      ]
     },
     "metadata": {},
     "output_type": "display_data"
    }
   ],
   "source": [
    "history_bias <- model_bias %>% fit(\n",
    "  x = list(\n",
    "    x_train[, \"user_id\", drop = FALSE],\n",
    "    x_train[, \"tweet_id\", drop = FALSE]\n",
    "  ),\n",
    "  y = y_train,\n",
    "  epochs = 20,\n",
    "  batch_size = 32, \n",
    "  validation_split = 0.2,\n",
    "  # callbacks = list(callback_early_stopping(patience = 2))\n",
    ")\n",
    "\n",
    "history_bias"
   ]
  },
  {
   "cell_type": "code",
   "execution_count": 19,
   "metadata": {
    "execution": {
     "iopub.execute_input": "2020-12-07T10:31:29.257310Z",
     "iopub.status.busy": "2020-12-07T10:31:29.255802Z",
     "iopub.status.idle": "2020-12-07T10:31:29.275658Z",
     "shell.execute_reply": "2020-12-07T10:31:29.274419Z"
    },
    "papermill": {
     "duration": 0.048719,
     "end_time": "2020-12-07T10:31:29.275774",
     "exception": false,
     "start_time": "2020-12-07T10:31:29.227055",
     "status": "completed"
    },
    "tags": []
   },
   "outputs": [
    {
     "data": {
      "text/html": [
       "<style>\n",
       ".list-inline {list-style: none; margin:0; padding: 0}\n",
       ".list-inline>li {display: inline-block}\n",
       ".list-inline>li:not(:last-child)::after {content: \"\\00b7\"; padding: 0 .5ex}\n",
       "</style>\n",
       "<ol class=list-inline><li><span style=white-space:pre-wrap>'The best epoch had a loss of  17.546  and mean absolute error of  4.142'</span></li><li><span style=white-space:pre-wrap>'The best epoch had a loss of  17.546  and mean absolute error of  4.142'</span></li><li><span style=white-space:pre-wrap>'The best epoch had a loss of  17.546  and mean absolute error of  4.142'</span></li><li><span style=white-space:pre-wrap>'The best epoch had a loss of  17.546  and mean absolute error of  4.142'</span></li><li><span style=white-space:pre-wrap>'The best epoch had a loss of  17.546  and mean absolute error of  4.142'</span></li><li><span style=white-space:pre-wrap>'The best epoch had a loss of  17.546  and mean absolute error of  4.142'</span></li><li><span style=white-space:pre-wrap>'The best epoch had a loss of  17.546  and mean absolute error of  4.142'</span></li><li><span style=white-space:pre-wrap>'The best epoch had a loss of  17.546  and mean absolute error of  4.142'</span></li><li><span style=white-space:pre-wrap>'The best epoch had a loss of  17.546  and mean absolute error of  4.142'</span></li><li><span style=white-space:pre-wrap>'The best epoch had a loss of  17.546  and mean absolute error of  4.142'</span></li><li><span style=white-space:pre-wrap>'The best epoch had a loss of  17.546  and mean absolute error of  4.142'</span></li><li><span style=white-space:pre-wrap>'The best epoch had a loss of  17.546  and mean absolute error of  4.142'</span></li><li><span style=white-space:pre-wrap>'The best epoch had a loss of  17.546  and mean absolute error of  4.142'</span></li><li><span style=white-space:pre-wrap>'The best epoch had a loss of  17.546  and mean absolute error of  4.142'</span></li><li><span style=white-space:pre-wrap>'The best epoch had a loss of  17.546  and mean absolute error of  4.142'</span></li><li><span style=white-space:pre-wrap>'The best epoch had a loss of  17.546  and mean absolute error of  4.142'</span></li><li><span style=white-space:pre-wrap>'The best epoch had a loss of  17.546  and mean absolute error of  4.142'</span></li><li><span style=white-space:pre-wrap>'The best epoch had a loss of  17.546  and mean absolute error of  4.142'</span></li><li><span style=white-space:pre-wrap>'The best epoch had a loss of  17.546  and mean absolute error of  4.142'</span></li><li><span style=white-space:pre-wrap>'The best epoch had a loss of  17.546  and mean absolute error of  4.142'</span></li></ol>\n"
      ],
      "text/latex": [
       "\\begin{enumerate*}\n",
       "\\item 'The best epoch had a loss of  17.546  and mean absolute error of  4.142'\n",
       "\\item 'The best epoch had a loss of  17.546  and mean absolute error of  4.142'\n",
       "\\item 'The best epoch had a loss of  17.546  and mean absolute error of  4.142'\n",
       "\\item 'The best epoch had a loss of  17.546  and mean absolute error of  4.142'\n",
       "\\item 'The best epoch had a loss of  17.546  and mean absolute error of  4.142'\n",
       "\\item 'The best epoch had a loss of  17.546  and mean absolute error of  4.142'\n",
       "\\item 'The best epoch had a loss of  17.546  and mean absolute error of  4.142'\n",
       "\\item 'The best epoch had a loss of  17.546  and mean absolute error of  4.142'\n",
       "\\item 'The best epoch had a loss of  17.546  and mean absolute error of  4.142'\n",
       "\\item 'The best epoch had a loss of  17.546  and mean absolute error of  4.142'\n",
       "\\item 'The best epoch had a loss of  17.546  and mean absolute error of  4.142'\n",
       "\\item 'The best epoch had a loss of  17.546  and mean absolute error of  4.142'\n",
       "\\item 'The best epoch had a loss of  17.546  and mean absolute error of  4.142'\n",
       "\\item 'The best epoch had a loss of  17.546  and mean absolute error of  4.142'\n",
       "\\item 'The best epoch had a loss of  17.546  and mean absolute error of  4.142'\n",
       "\\item 'The best epoch had a loss of  17.546  and mean absolute error of  4.142'\n",
       "\\item 'The best epoch had a loss of  17.546  and mean absolute error of  4.142'\n",
       "\\item 'The best epoch had a loss of  17.546  and mean absolute error of  4.142'\n",
       "\\item 'The best epoch had a loss of  17.546  and mean absolute error of  4.142'\n",
       "\\item 'The best epoch had a loss of  17.546  and mean absolute error of  4.142'\n",
       "\\end{enumerate*}\n"
      ],
      "text/markdown": [
       "1. <span style=white-space:pre-wrap>'The best epoch had a loss of  17.546  and mean absolute error of  4.142'</span>\n",
       "2. <span style=white-space:pre-wrap>'The best epoch had a loss of  17.546  and mean absolute error of  4.142'</span>\n",
       "3. <span style=white-space:pre-wrap>'The best epoch had a loss of  17.546  and mean absolute error of  4.142'</span>\n",
       "4. <span style=white-space:pre-wrap>'The best epoch had a loss of  17.546  and mean absolute error of  4.142'</span>\n",
       "5. <span style=white-space:pre-wrap>'The best epoch had a loss of  17.546  and mean absolute error of  4.142'</span>\n",
       "6. <span style=white-space:pre-wrap>'The best epoch had a loss of  17.546  and mean absolute error of  4.142'</span>\n",
       "7. <span style=white-space:pre-wrap>'The best epoch had a loss of  17.546  and mean absolute error of  4.142'</span>\n",
       "8. <span style=white-space:pre-wrap>'The best epoch had a loss of  17.546  and mean absolute error of  4.142'</span>\n",
       "9. <span style=white-space:pre-wrap>'The best epoch had a loss of  17.546  and mean absolute error of  4.142'</span>\n",
       "10. <span style=white-space:pre-wrap>'The best epoch had a loss of  17.546  and mean absolute error of  4.142'</span>\n",
       "11. <span style=white-space:pre-wrap>'The best epoch had a loss of  17.546  and mean absolute error of  4.142'</span>\n",
       "12. <span style=white-space:pre-wrap>'The best epoch had a loss of  17.546  and mean absolute error of  4.142'</span>\n",
       "13. <span style=white-space:pre-wrap>'The best epoch had a loss of  17.546  and mean absolute error of  4.142'</span>\n",
       "14. <span style=white-space:pre-wrap>'The best epoch had a loss of  17.546  and mean absolute error of  4.142'</span>\n",
       "15. <span style=white-space:pre-wrap>'The best epoch had a loss of  17.546  and mean absolute error of  4.142'</span>\n",
       "16. <span style=white-space:pre-wrap>'The best epoch had a loss of  17.546  and mean absolute error of  4.142'</span>\n",
       "17. <span style=white-space:pre-wrap>'The best epoch had a loss of  17.546  and mean absolute error of  4.142'</span>\n",
       "18. <span style=white-space:pre-wrap>'The best epoch had a loss of  17.546  and mean absolute error of  4.142'</span>\n",
       "19. <span style=white-space:pre-wrap>'The best epoch had a loss of  17.546  and mean absolute error of  4.142'</span>\n",
       "20. <span style=white-space:pre-wrap>'The best epoch had a loss of  17.546  and mean absolute error of  4.142'</span>\n",
       "\n",
       "\n"
      ],
      "text/plain": [
       " [1] \"The best epoch had a loss of  17.546  and mean absolute error of  4.142\"\n",
       " [2] \"The best epoch had a loss of  17.546  and mean absolute error of  4.142\"\n",
       " [3] \"The best epoch had a loss of  17.546  and mean absolute error of  4.142\"\n",
       " [4] \"The best epoch had a loss of  17.546  and mean absolute error of  4.142\"\n",
       " [5] \"The best epoch had a loss of  17.546  and mean absolute error of  4.142\"\n",
       " [6] \"The best epoch had a loss of  17.546  and mean absolute error of  4.142\"\n",
       " [7] \"The best epoch had a loss of  17.546  and mean absolute error of  4.142\"\n",
       " [8] \"The best epoch had a loss of  17.546  and mean absolute error of  4.142\"\n",
       " [9] \"The best epoch had a loss of  17.546  and mean absolute error of  4.142\"\n",
       "[10] \"The best epoch had a loss of  17.546  and mean absolute error of  4.142\"\n",
       "[11] \"The best epoch had a loss of  17.546  and mean absolute error of  4.142\"\n",
       "[12] \"The best epoch had a loss of  17.546  and mean absolute error of  4.142\"\n",
       "[13] \"The best epoch had a loss of  17.546  and mean absolute error of  4.142\"\n",
       "[14] \"The best epoch had a loss of  17.546  and mean absolute error of  4.142\"\n",
       "[15] \"The best epoch had a loss of  17.546  and mean absolute error of  4.142\"\n",
       "[16] \"The best epoch had a loss of  17.546  and mean absolute error of  4.142\"\n",
       "[17] \"The best epoch had a loss of  17.546  and mean absolute error of  4.142\"\n",
       "[18] \"The best epoch had a loss of  17.546  and mean absolute error of  4.142\"\n",
       "[19] \"The best epoch had a loss of  17.546  and mean absolute error of  4.142\"\n",
       "[20] \"The best epoch had a loss of  17.546  and mean absolute error of  4.142\""
      ]
     },
     "metadata": {},
     "output_type": "display_data"
    }
   ],
   "source": [
    "best_epoch <- which(history_bias$metrics$val_loss == min(history_bias$metrics$val_loss))\n",
    "loss <- history_bias$metrics$val_loss[best_epoch] %>% round(4)\n",
    "mae <- history_bias$metrics$val_mae[best_epoch] %>% round(4)\n",
    "\n",
    "paste(\"The best epoch had a loss of \", loss, \" and mean absolute error of \", mae)"
   ]
  },
  {
   "cell_type": "markdown",
   "metadata": {
    "papermill": {
     "duration": 0.026787,
     "end_time": "2020-12-07T10:31:29.329854",
     "exception": false,
     "start_time": "2020-12-07T10:31:29.303067",
     "status": "completed"
    },
    "tags": []
   },
   "source": [
    "# Prediction"
   ]
  },
  {
   "cell_type": "code",
   "execution_count": 20,
   "metadata": {
    "execution": {
     "iopub.execute_input": "2020-12-07T10:31:29.388102Z",
     "iopub.status.busy": "2020-12-07T10:31:29.386531Z",
     "iopub.status.idle": "2020-12-07T10:31:31.758618Z",
     "shell.execute_reply": "2020-12-07T10:31:31.756894Z"
    },
    "papermill": {
     "duration": 2.401982,
     "end_time": "2020-12-07T10:31:31.758840",
     "exception": false,
     "start_time": "2020-12-07T10:31:29.356858",
     "status": "completed"
    },
    "tags": []
   },
   "outputs": [
    {
     "name": "stderr",
     "output_type": "stream",
     "text": [
      "Using X as id variables\n",
      "\n"
     ]
    },
    {
     "data": {
      "text/html": [
       "<style>\n",
       ".list-inline {list-style: none; margin:0; padding: 0}\n",
       ".list-inline>li {display: inline-block}\n",
       ".list-inline>li:not(:last-child)::after {content: \"\\00b7\"; padding: 0 .5ex}\n",
       "</style>\n",
       "<ol class=list-inline><li>4.09994316101074</li><li>4.21890640258789</li><li>4.29674816131592</li><li>4.09041881561279</li><li>4.20002698898315</li><li>4.21271514892578</li></ol>\n"
      ],
      "text/latex": [
       "\\begin{enumerate*}\n",
       "\\item 4.09994316101074\n",
       "\\item 4.21890640258789\n",
       "\\item 4.29674816131592\n",
       "\\item 4.09041881561279\n",
       "\\item 4.20002698898315\n",
       "\\item 4.21271514892578\n",
       "\\end{enumerate*}\n"
      ],
      "text/markdown": [
       "1. 4.09994316101074\n",
       "2. 4.21890640258789\n",
       "3. 4.29674816131592\n",
       "4. 4.09041881561279\n",
       "5. 4.20002698898315\n",
       "6. 4.21271514892578\n",
       "\n",
       "\n"
      ],
      "text/plain": [
       "[1] 4.099943 4.218906 4.296748 4.090419 4.200027 4.212715"
      ]
     },
     "metadata": {},
     "output_type": "display_data"
    },
    {
     "data": {
      "text/html": [
       "<style>\n",
       ".list-inline {list-style: none; margin:0; padding: 0}\n",
       ".list-inline>li {display: inline-block}\n",
       ".list-inline>li:not(:last-child)::after {content: \"\\00b7\"; padding: 0 .5ex}\n",
       "</style>\n",
       "<ol class=list-inline><li>0</li><li>0</li><li>0</li><li>0</li><li>0</li><li>0</li></ol>\n"
      ],
      "text/latex": [
       "\\begin{enumerate*}\n",
       "\\item 0\n",
       "\\item 0\n",
       "\\item 0\n",
       "\\item 0\n",
       "\\item 0\n",
       "\\item 0\n",
       "\\end{enumerate*}\n"
      ],
      "text/markdown": [
       "1. 0\n",
       "2. 0\n",
       "3. 0\n",
       "4. 0\n",
       "5. 0\n",
       "6. 0\n",
       "\n",
       "\n"
      ],
      "text/plain": [
       "[1] 0 0 0 0 0 0"
      ]
     },
     "metadata": {},
     "output_type": "display_data"
    }
   ],
   "source": [
    "# data where the rating is unknown\n",
    "data_pred <- melt(as.data.frame(data_entry)) %>%\n",
    "  select(user_id = X, tweet_id = variable, rating = value) %>%\n",
    "  mutate(user_id = rep(1:n_users, n_tweets), tweet_id = rep(1:n_tweets, rep(n_users, n_tweets))) %>%\n",
    "  filter(is.na(rating))\n",
    "data_pred_bias <- data_pred\n",
    "\n",
    "# predict the ratings\n",
    "inputs <- list(data_pred$user_id, data_pred$tweet_id)\n",
    "prediction <- model %>% predict(inputs)  # simple model\n",
    "prediction_bias <- model_bias %>% predict(inputs)\n",
    "\n",
    "# mozno zaokruhlit?\n",
    "head(prediction)\n",
    "head(prediction_bias)"
   ]
  },
  {
   "cell_type": "code",
   "execution_count": 21,
   "metadata": {
    "execution": {
     "iopub.execute_input": "2020-12-07T10:31:31.821274Z",
     "iopub.status.busy": "2020-12-07T10:31:31.819672Z",
     "iopub.status.idle": "2020-12-07T10:31:32.082099Z",
     "shell.execute_reply": "2020-12-07T10:31:32.081562Z"
    },
    "papermill": {
     "duration": 0.293751,
     "end_time": "2020-12-07T10:31:32.082237",
     "exception": false,
     "start_time": "2020-12-07T10:31:31.788486",
     "status": "completed"
    },
    "tags": []
   },
   "outputs": [
    {
     "data": {
      "text/html": [
       "<table class=\"dataframe\">\n",
       "<caption>A data.frame: 100 × 253</caption>\n",
       "<thead>\n",
       "\t<tr><th scope=col>user_id</th><th scope=col>tweet_id1</th><th scope=col>tweet_id2</th><th scope=col>tweet_id3</th><th scope=col>tweet_id4</th><th scope=col>tweet_id5</th><th scope=col>tweet_id6</th><th scope=col>tweet_id7</th><th scope=col>tweet_id8</th><th scope=col>tweet_id9</th><th scope=col>⋯</th><th scope=col>tweet_id243</th><th scope=col>tweet_id244</th><th scope=col>tweet_id245</th><th scope=col>tweet_id246</th><th scope=col>tweet_id247</th><th scope=col>tweet_id248</th><th scope=col>tweet_id249</th><th scope=col>tweet_id250</th><th scope=col>tweet_id251</th><th scope=col>tweet_id252</th></tr>\n",
       "\t<tr><th scope=col>&lt;int&gt;</th><th scope=col>&lt;dbl&gt;</th><th scope=col>&lt;dbl&gt;</th><th scope=col>&lt;dbl&gt;</th><th scope=col>&lt;dbl&gt;</th><th scope=col>&lt;dbl&gt;</th><th scope=col>&lt;dbl&gt;</th><th scope=col>&lt;dbl&gt;</th><th scope=col>&lt;dbl&gt;</th><th scope=col>&lt;dbl&gt;</th><th scope=col>⋯</th><th scope=col>&lt;dbl&gt;</th><th scope=col>&lt;dbl&gt;</th><th scope=col>&lt;dbl&gt;</th><th scope=col>&lt;dbl&gt;</th><th scope=col>&lt;dbl&gt;</th><th scope=col>&lt;dbl&gt;</th><th scope=col>&lt;dbl&gt;</th><th scope=col>&lt;dbl&gt;</th><th scope=col>&lt;dbl&gt;</th><th scope=col>&lt;dbl&gt;</th></tr>\n",
       "</thead>\n",
       "<tbody>\n",
       "\t<tr><td> 1</td><td>4.000000</td><td>4.275599</td><td>4.486264</td><td>4.195258</td><td>4.377076</td><td>4.292368</td><td>4.197019</td><td>4.211802</td><td>4.575570</td><td>⋯</td><td>3.000000</td><td>3.000000</td><td>4.285399</td><td>4.265972</td><td>4.125198</td><td>4.378028</td><td>4.210076</td><td>3.964186</td><td>4.213996</td><td>5.000000</td></tr>\n",
       "\t<tr><td> 2</td><td>4.099943</td><td>4.051291</td><td>4.241676</td><td>5.000000</td><td>4.139287</td><td>5.000000</td><td>4.010329</td><td>4.012177</td><td>4.332399</td><td>⋯</td><td>4.072271</td><td>4.000000</td><td>4.035197</td><td>4.037530</td><td>3.910022</td><td>4.116840</td><td>3.000000</td><td>3.780839</td><td>3.991964</td><td>4.434196</td></tr>\n",
       "\t<tr><td> 3</td><td>4.218906</td><td>4.000000</td><td>4.285257</td><td>4.063469</td><td>4.245586</td><td>4.089353</td><td>4.000000</td><td>4.093790</td><td>4.405373</td><td>⋯</td><td>4.335568</td><td>4.566427</td><td>4.133366</td><td>4.226872</td><td>4.042293</td><td>4.332026</td><td>4.187989</td><td>4.000569</td><td>4.104434</td><td>4.450416</td></tr>\n",
       "\t<tr><td> 4</td><td>4.000000</td><td>4.007133</td><td>4.125069</td><td>3.904364</td><td>4.066030</td><td>4.000000</td><td>3.928132</td><td>4.000000</td><td>4.233926</td><td>⋯</td><td>4.092414</td><td>4.000000</td><td>3.963133</td><td>4.014555</td><td>3.860950</td><td>4.107394</td><td>3.981695</td><td>3.796278</td><td>3.931175</td><td>4.287836</td></tr>\n",
       "\t<tr><td> 5</td><td>4.296748</td><td>4.263908</td><td>5.000000</td><td>4.159848</td><td>4.356704</td><td>4.254424</td><td>4.187782</td><td>4.197226</td><td>4.533062</td><td>⋯</td><td>4.341252</td><td>4.744712</td><td>4.000000</td><td>4.000000</td><td>4.129161</td><td>4.000000</td><td>4.209538</td><td>3.986037</td><td>4.199452</td><td>4.663526</td></tr>\n",
       "\t<tr><td> 6</td><td>4.090419</td><td>4.084649</td><td>4.069908</td><td>3.929991</td><td>4.108621</td><td>3.905428</td><td>3.923140</td><td>4.000000</td><td>4.204069</td><td>⋯</td><td>5.000000</td><td>4.333812</td><td>4.010338</td><td>4.174112</td><td>3.958018</td><td>4.300354</td><td>4.149464</td><td>3.995601</td><td>3.987016</td><td>4.000000</td></tr>\n",
       "\t<tr><td> 7</td><td>4.200027</td><td>4.178940</td><td>4.138782</td><td>4.031380</td><td>4.225726</td><td>4.000443</td><td>3.990084</td><td>3.991858</td><td>4.291015</td><td>⋯</td><td>4.438071</td><td>4.435516</td><td>4.142715</td><td>4.304623</td><td>4.081903</td><td>4.000000</td><td>4.294304</td><td>4.120719</td><td>4.096274</td><td>4.365315</td></tr>\n",
       "\t<tr><td> 8</td><td>4.212715</td><td>4.203578</td><td>4.196944</td><td>4.037774</td><td>4.000000</td><td>4.037262</td><td>4.000000</td><td>4.036892</td><td>4.314301</td><td>⋯</td><td>5.000000</td><td>4.480993</td><td>4.157468</td><td>4.337691</td><td>4.000000</td><td>4.468745</td><td>4.287477</td><td>4.124598</td><td>4.119915</td><td>4.000000</td></tr>\n",
       "\t<tr><td> 9</td><td>4.189225</td><td>4.168506</td><td>5.000000</td><td>4.042051</td><td>4.228483</td><td>4.055007</td><td>4.015633</td><td>4.024074</td><td>4.334850</td><td>⋯</td><td>4.355938</td><td>4.497169</td><td>4.000000</td><td>4.248432</td><td>4.053973</td><td>4.385424</td><td>4.218429</td><td>4.026618</td><td>5.000000</td><td>4.424945</td></tr>\n",
       "\t<tr><td>10</td><td>4.146551</td><td>4.104795</td><td>4.307242</td><td>4.000000</td><td>4.198207</td><td>4.000000</td><td>4.045363</td><td>4.055967</td><td>4.393816</td><td>⋯</td><td>4.119823</td><td>4.584803</td><td>4.105453</td><td>4.086381</td><td>3.958770</td><td>4.182173</td><td>4.036679</td><td>3.810692</td><td>4.000000</td><td>5.000000</td></tr>\n",
       "\t<tr><td>11</td><td>4.049903</td><td>4.011228</td><td>4.189672</td><td>3.912563</td><td>4.089108</td><td>3.992954</td><td>3.971582</td><td>3.972419</td><td>4.267295</td><td>⋯</td><td>5.000000</td><td>5.000000</td><td>3.981221</td><td>4.013270</td><td>3.878394</td><td>4.082008</td><td>3.949739</td><td>3.760074</td><td>3.948404</td><td>4.355422</td></tr>\n",
       "\t<tr><td>12</td><td>4.227723</td><td>4.219071</td><td>4.199125</td><td>4.058479</td><td>4.250931</td><td>4.033633</td><td>4.041238</td><td>4.047894</td><td>4.341894</td><td>⋯</td><td>4.480115</td><td>4.483934</td><td>4.153024</td><td>4.323689</td><td>4.000000</td><td>4.463869</td><td>4.299062</td><td>4.131608</td><td>4.121043</td><td>4.377591</td></tr>\n",
       "\t<tr><td>13</td><td>4.171199</td><td>4.145570</td><td>4.389896</td><td>4.052905</td><td>4.230862</td><td>4.170733</td><td>4.108280</td><td>4.122970</td><td>4.444223</td><td>⋯</td><td>4.169114</td><td>4.650642</td><td>4.123637</td><td>4.116849</td><td>3.986957</td><td>4.188934</td><td>4.029525</td><td>3.812430</td><td>4.000000</td><td>4.546247</td></tr>\n",
       "\t<tr><td>14</td><td>4.116062</td><td>4.094186</td><td>4.125871</td><td>3.965818</td><td>4.148576</td><td>3.971904</td><td>4.000000</td><td>3.954513</td><td>4.249899</td><td>⋯</td><td>4.284327</td><td>4.403821</td><td>4.062023</td><td>4.175620</td><td>3.983690</td><td>4.303823</td><td>4.147872</td><td>3.969066</td><td>4.017541</td><td>4.326942</td></tr>\n",
       "\t<tr><td>15</td><td>4.050850</td><td>4.000000</td><td>4.000000</td><td>3.920228</td><td>4.095441</td><td>4.000000</td><td>3.958724</td><td>3.964550</td><td>4.260812</td><td>⋯</td><td>4.093608</td><td>4.442673</td><td>4.000000</td><td>4.032612</td><td>3.890718</td><td>4.114561</td><td>3.970305</td><td>3.778157</td><td>3.956123</td><td>4.354111</td></tr>\n",
       "\t<tr><td>16</td><td>4.186645</td><td>4.155751</td><td>5.000000</td><td>4.054947</td><td>4.222054</td><td>4.000000</td><td>4.060580</td><td>4.071872</td><td>4.403103</td><td>⋯</td><td>4.236924</td><td>4.568130</td><td>4.121214</td><td>4.157663</td><td>3.996785</td><td>4.267360</td><td>4.124876</td><td>4.000000</td><td>4.000000</td><td>5.000000</td></tr>\n",
       "\t<tr><td>17</td><td>4.185030</td><td>4.183732</td><td>4.185920</td><td>4.034989</td><td>4.224157</td><td>4.030407</td><td>4.000724</td><td>4.014381</td><td>4.308935</td><td>⋯</td><td>4.432055</td><td>4.461188</td><td>4.000000</td><td>4.286663</td><td>4.000000</td><td>4.432398</td><td>4.250999</td><td>4.074020</td><td>4.000000</td><td>4.373631</td></tr>\n",
       "\t<tr><td>18</td><td>3.000000</td><td>4.000000</td><td>4.113031</td><td>3.897449</td><td>4.054963</td><td>4.000000</td><td>4.000000</td><td>3.924037</td><td>4.234737</td><td>⋯</td><td>4.038341</td><td>4.385779</td><td>3.948884</td><td>3.982127</td><td>4.000000</td><td>4.071027</td><td>3.963864</td><td>3.773124</td><td>5.000000</td><td>4.294007</td></tr>\n",
       "\t<tr><td>19</td><td>4.089833</td><td>4.000000</td><td>4.090726</td><td>3.934472</td><td>4.112265</td><td>3.934847</td><td>4.000000</td><td>4.000000</td><td>4.224581</td><td>⋯</td><td>4.223703</td><td>4.371787</td><td>4.019142</td><td>4.126196</td><td>3.942206</td><td>4.245805</td><td>4.000000</td><td>4.000000</td><td>3.981691</td><td>4.292149</td></tr>\n",
       "\t<tr><td>20</td><td>4.107061</td><td>4.081182</td><td>5.000000</td><td>3.990313</td><td>4.172225</td><td>4.000000</td><td>4.028593</td><td>4.041149</td><td>4.350482</td><td>⋯</td><td>3.000000</td><td>4.558746</td><td>4.079580</td><td>4.082152</td><td>3.951906</td><td>4.162861</td><td>3.996008</td><td>3.784117</td><td>4.024231</td><td>4.480082</td></tr>\n",
       "\t<tr><td>21</td><td>4.148660</td><td>4.134851</td><td>4.235977</td><td>4.020494</td><td>4.199897</td><td>4.067061</td><td>4.005965</td><td>4.000000</td><td>4.331768</td><td>⋯</td><td>4.278982</td><td>4.505697</td><td>4.116888</td><td>4.183574</td><td>4.008608</td><td>5.000000</td><td>5.000000</td><td>3.933517</td><td>4.000000</td><td>4.000000</td></tr>\n",
       "\t<tr><td>22</td><td>4.000000</td><td>4.088694</td><td>4.120681</td><td>4.000000</td><td>4.134001</td><td>3.961273</td><td>3.939996</td><td>3.949640</td><td>4.243253</td><td>⋯</td><td>4.280687</td><td>4.390011</td><td>4.045994</td><td>5.000000</td><td>3.965362</td><td>4.288499</td><td>4.131631</td><td>3.954888</td><td>4.004736</td><td>4.301419</td></tr>\n",
       "\t<tr><td>23</td><td>4.143282</td><td>4.119689</td><td>4.166734</td><td>3.986510</td><td>4.157589</td><td>3.982621</td><td>3.999145</td><td>4.000000</td><td>4.304121</td><td>⋯</td><td>4.282790</td><td>4.441343</td><td>4.047209</td><td>4.160176</td><td>3.967830</td><td>4.271714</td><td>4.140571</td><td>4.000000</td><td>4.025140</td><td>4.322167</td></tr>\n",
       "\t<tr><td>24</td><td>4.127935</td><td>4.000000</td><td>4.000000</td><td>4.009908</td><td>4.182372</td><td>4.132312</td><td>4.073425</td><td>4.082226</td><td>4.406816</td><td>⋯</td><td>4.069944</td><td>4.612852</td><td>4.073615</td><td>4.043599</td><td>3.931112</td><td>5.000000</td><td>3.965277</td><td>3.745359</td><td>4.028204</td><td>4.517913</td></tr>\n",
       "\t<tr><td>25</td><td>4.093223</td><td>4.065288</td><td>4.222327</td><td>3.974657</td><td>4.144199</td><td>4.045791</td><td>3.979217</td><td>3.991779</td><td>4.308287</td><td>⋯</td><td>4.135575</td><td>4.488680</td><td>4.057260</td><td>4.075888</td><td>3.931323</td><td>4.179430</td><td>4.024547</td><td>3.815842</td><td>4.001260</td><td>4.415670</td></tr>\n",
       "\t<tr><td>26</td><td>4.259635</td><td>4.000000</td><td>4.216537</td><td>4.084986</td><td>4.282270</td><td>4.054576</td><td>4.063148</td><td>4.068116</td><td>4.365432</td><td>⋯</td><td>4.000000</td><td>4.508757</td><td>4.185124</td><td>4.364202</td><td>4.130002</td><td>4.509802</td><td>4.342784</td><td>4.174229</td><td>4.151305</td><td>4.406737</td></tr>\n",
       "\t<tr><td>27</td><td>4.127678</td><td>4.000000</td><td>4.000000</td><td>4.000000</td><td>4.185593</td><td>4.111298</td><td>4.000000</td><td>4.061098</td><td>4.374141</td><td>⋯</td><td>4.145226</td><td>4.000000</td><td>4.086139</td><td>5.000000</td><td>3.959205</td><td>4.172748</td><td>4.013904</td><td>3.803450</td><td>4.037129</td><td>4.485031</td></tr>\n",
       "\t<tr><td>28</td><td>4.120380</td><td>4.112270</td><td>4.119156</td><td>4.000000</td><td>4.150080</td><td>4.000000</td><td>3.948017</td><td>3.957977</td><td>4.246541</td><td>⋯</td><td>4.000000</td><td>4.389084</td><td>4.061604</td><td>4.199208</td><td>4.000000</td><td>4.333529</td><td>4.000000</td><td>4.001119</td><td>5.000000</td><td>4.295402</td></tr>\n",
       "\t<tr><td>29</td><td>4.146347</td><td>4.134446</td><td>5.000000</td><td>3.992332</td><td>4.169169</td><td>3.978167</td><td>3.976671</td><td>3.985544</td><td>4.280780</td><td>⋯</td><td>4.347276</td><td>4.418036</td><td>4.073180</td><td>4.208553</td><td>4.000352</td><td>4.340141</td><td>5.000000</td><td>4.015993</td><td>4.040306</td><td>4.313831</td></tr>\n",
       "\t<tr><td>30</td><td>5.000000</td><td>4.339340</td><td>4.336565</td><td>4.183149</td><td>4.385008</td><td>4.171044</td><td>4.150232</td><td>4.160098</td><td>4.000000</td><td>⋯</td><td>4.595236</td><td>3.000000</td><td>4.292505</td><td>4.447157</td><td>4.216122</td><td>4.601339</td><td>4.419003</td><td>4.229664</td><td>4.244949</td><td>4.546466</td></tr>\n",
       "\t<tr><td>⋮</td><td>⋮</td><td>⋮</td><td>⋮</td><td>⋮</td><td>⋮</td><td>⋮</td><td>⋮</td><td>⋮</td><td>⋮</td><td>⋱</td><td>⋮</td><td>⋮</td><td>⋮</td><td>⋮</td><td>⋮</td><td>⋮</td><td>⋮</td><td>⋮</td><td>⋮</td><td>⋮</td></tr>\n",
       "\t<tr><td> 71</td><td>4.000000</td><td>4.090517</td><td>4.211473</td><td>3.966183</td><td>4.143328</td><td>4.016352</td><td>3.998462</td><td>4.000000</td><td>4.300446</td><td>⋯</td><td>4.220531</td><td>4.468225</td><td>4.038496</td><td>4.117059</td><td>3.946916</td><td>4.209854</td><td>4.056857</td><td>4.000000</td><td>4.007415</td><td>4.354662</td></tr>\n",
       "\t<tr><td> 72</td><td>4.222471</td><td>4.209574</td><td>4.224513</td><td>4.059289</td><td>4.251923</td><td>4.000000</td><td>4.050138</td><td>4.000000</td><td>4.000000</td><td>⋯</td><td>4.439144</td><td>4.000000</td><td>4.154625</td><td>4.300711</td><td>4.000000</td><td>4.432850</td><td>4.267559</td><td>4.092248</td><td>4.118441</td><td>5.000000</td></tr>\n",
       "\t<tr><td> 73</td><td>4.261481</td><td>4.243773</td><td>4.272665</td><td>4.080563</td><td>4.285702</td><td>4.083966</td><td>4.108879</td><td>4.108520</td><td>4.000000</td><td>⋯</td><td>4.000000</td><td>4.560041</td><td>4.171819</td><td>4.335929</td><td>4.119628</td><td>4.448264</td><td>4.289420</td><td>4.123407</td><td>4.150302</td><td>4.440020</td></tr>\n",
       "\t<tr><td> 74</td><td>6.000000</td><td>5.000000</td><td>4.000000</td><td>4.150807</td><td>4.354043</td><td>4.146642</td><td>4.000000</td><td>4.000000</td><td>4.456143</td><td>⋯</td><td>4.000000</td><td>4.617983</td><td>4.254132</td><td>4.000000</td><td>5.000000</td><td>4.548787</td><td>4.373672</td><td>4.191400</td><td>4.215088</td><td>4.516077</td></tr>\n",
       "\t<tr><td> 75</td><td>4.000000</td><td>4.052881</td><td>4.222662</td><td>3.000000</td><td>4.124272</td><td>4.025434</td><td>4.000000</td><td>4.004342</td><td>5.000000</td><td>⋯</td><td>4.094002</td><td>6.000000</td><td>4.016867</td><td>4.035169</td><td>3.896151</td><td>4.118667</td><td>3.991838</td><td>3.790993</td><td>3.980920</td><td>4.388942</td></tr>\n",
       "\t<tr><td> 76</td><td>4.288495</td><td>4.274507</td><td>4.302277</td><td>4.000000</td><td>5.000000</td><td>4.000000</td><td>4.000000</td><td>4.120809</td><td>4.420841</td><td>⋯</td><td>4.516740</td><td>4.595220</td><td>4.232560</td><td>4.384038</td><td>4.167148</td><td>4.000000</td><td>4.334311</td><td>4.000000</td><td>4.190052</td><td>4.503704</td></tr>\n",
       "\t<tr><td> 77</td><td>3.000000</td><td>4.206534</td><td>4.160269</td><td>4.000000</td><td>4.229414</td><td>3.993146</td><td>4.000000</td><td>4.029280</td><td>4.310623</td><td>⋯</td><td>4.493478</td><td>4.444656</td><td>4.124537</td><td>4.324093</td><td>4.085811</td><td>4.459766</td><td>4.302347</td><td>4.000000</td><td>4.103834</td><td>4.327282</td></tr>\n",
       "\t<tr><td> 78</td><td>5.000000</td><td>4.187750</td><td>4.175230</td><td>4.041412</td><td>4.000000</td><td>4.020769</td><td>4.029830</td><td>4.025700</td><td>4.325832</td><td>⋯</td><td>4.418703</td><td>4.475935</td><td>4.000000</td><td>4.296748</td><td>4.083169</td><td>4.000000</td><td>4.281999</td><td>4.109372</td><td>4.105861</td><td>4.393282</td></tr>\n",
       "\t<tr><td> 79</td><td>4.157982</td><td>4.133839</td><td>4.217204</td><td>4.018634</td><td>5.000000</td><td>4.046526</td><td>4.000000</td><td>4.019762</td><td>4.333526</td><td>⋯</td><td>5.000000</td><td>4.495459</td><td>4.103242</td><td>4.178205</td><td>4.000714</td><td>4.299257</td><td>4.145133</td><td>3.949826</td><td>4.056097</td><td>4.411000</td></tr>\n",
       "\t<tr><td> 80</td><td>4.074668</td><td>4.000000</td><td>4.000000</td><td>3.912432</td><td>4.098775</td><td>4.000000</td><td>4.000000</td><td>4.000000</td><td>4.227488</td><td>⋯</td><td>4.197282</td><td>4.000000</td><td>4.000000</td><td>4.101380</td><td>4.000000</td><td>4.191542</td><td>4.057161</td><td>3.891621</td><td>3.967758</td><td>4.286487</td></tr>\n",
       "\t<tr><td> 81</td><td>4.139362</td><td>4.133131</td><td>4.000000</td><td>3.967952</td><td>4.176122</td><td>3.984325</td><td>3.993349</td><td>3.994991</td><td>4.255816</td><td>⋯</td><td>5.000000</td><td>4.424676</td><td>4.076335</td><td>4.249052</td><td>4.037342</td><td>4.357688</td><td>4.183526</td><td>4.030250</td><td>4.049393</td><td>4.319982</td></tr>\n",
       "\t<tr><td> 82</td><td>4.106573</td><td>4.073333</td><td>4.184284</td><td>4.000000</td><td>4.000000</td><td>4.004614</td><td>4.000000</td><td>3.987106</td><td>4.000000</td><td>⋯</td><td>4.174325</td><td>4.457737</td><td>4.037677</td><td>4.000000</td><td>3.934542</td><td>4.197588</td><td>4.061438</td><td>3.869541</td><td>3.999112</td><td>4.366365</td></tr>\n",
       "\t<tr><td> 83</td><td>4.232994</td><td>5.000000</td><td>4.314547</td><td>4.090886</td><td>4.271866</td><td>4.130757</td><td>4.000000</td><td>4.102331</td><td>4.429285</td><td>⋯</td><td>4.325984</td><td>5.000000</td><td>4.000000</td><td>4.236641</td><td>4.061786</td><td>4.353483</td><td>4.000000</td><td>3.992996</td><td>4.126074</td><td>4.510634</td></tr>\n",
       "\t<tr><td> 84</td><td>4.023314</td><td>4.017993</td><td>3.985881</td><td>3.887017</td><td>4.048872</td><td>3.853599</td><td>3.827069</td><td>3.841038</td><td>4.128642</td><td>⋯</td><td>4.247222</td><td>5.000000</td><td>3.976036</td><td>4.107973</td><td>3.900012</td><td>4.261181</td><td>4.104877</td><td>3.936240</td><td>4.000000</td><td>4.000000</td></tr>\n",
       "\t<tr><td> 85</td><td>4.039004</td><td>4.000000</td><td>4.038749</td><td>3.885954</td><td>4.066738</td><td>3.883256</td><td>4.000000</td><td>3.885775</td><td>4.156837</td><td>⋯</td><td>4.243618</td><td>4.300631</td><td>3.976946</td><td>4.000000</td><td>3.918382</td><td>4.236443</td><td>4.000000</td><td>3.923943</td><td>3.944255</td><td>4.000000</td></tr>\n",
       "\t<tr><td> 86</td><td>4.195044</td><td>4.170060</td><td>4.188710</td><td>4.037046</td><td>4.225261</td><td>4.034028</td><td>4.014141</td><td>4.018030</td><td>4.325581</td><td>⋯</td><td>4.372453</td><td>5.000000</td><td>4.136547</td><td>5.000000</td><td>4.057050</td><td>5.000000</td><td>4.000000</td><td>4.053550</td><td>4.000000</td><td>4.403320</td></tr>\n",
       "\t<tr><td> 87</td><td>4.000000</td><td>4.157771</td><td>4.202123</td><td>4.021106</td><td>4.217466</td><td>4.048009</td><td>3.998247</td><td>4.009504</td><td>4.303229</td><td>⋯</td><td>4.375095</td><td>4.477506</td><td>5.000000</td><td>4.258517</td><td>4.059629</td><td>4.393175</td><td>4.205974</td><td>4.021079</td><td>4.083562</td><td>4.407873</td></tr>\n",
       "\t<tr><td> 88</td><td>4.176203</td><td>5.000000</td><td>4.148172</td><td>3.992409</td><td>4.000000</td><td>3.979917</td><td>4.008584</td><td>4.000000</td><td>4.271601</td><td>⋯</td><td>4.449096</td><td>4.426350</td><td>4.097550</td><td>4.000000</td><td>4.067980</td><td>4.414304</td><td>4.248528</td><td>4.100261</td><td>4.000000</td><td>4.317610</td></tr>\n",
       "\t<tr><td> 89</td><td>4.000000</td><td>4.014698</td><td>4.006650</td><td>3.875795</td><td>4.058062</td><td>3.858548</td><td>3.871516</td><td>3.868675</td><td>4.141781</td><td>⋯</td><td>4.230983</td><td>4.279983</td><td>4.000000</td><td>4.112579</td><td>3.914050</td><td>4.233366</td><td>4.094250</td><td>3.938001</td><td>3.936022</td><td>4.000000</td></tr>\n",
       "\t<tr><td> 90</td><td>4.129004</td><td>4.116535</td><td>4.118961</td><td>3.961287</td><td>4.152930</td><td>3.952358</td><td>3.967025</td><td>3.969328</td><td>4.244335</td><td>⋯</td><td>4.356479</td><td>3.000000</td><td>4.053338</td><td>4.215717</td><td>4.003626</td><td>4.335693</td><td>4.179600</td><td>4.000000</td><td>4.027126</td><td>4.286291</td></tr>\n",
       "\t<tr><td> 91</td><td>4.000000</td><td>4.000000</td><td>4.105858</td><td>3.924191</td><td>4.094790</td><td>3.936045</td><td>4.000000</td><td>3.931637</td><td>4.216984</td><td>⋯</td><td>4.000000</td><td>4.362025</td><td>4.002397</td><td>4.111169</td><td>4.000000</td><td>4.228866</td><td>4.073774</td><td>3.901808</td><td>3.967495</td><td>4.000000</td></tr>\n",
       "\t<tr><td> 92</td><td>4.054661</td><td>4.030952</td><td>4.000000</td><td>4.000000</td><td>4.084406</td><td>3.945631</td><td>3.922091</td><td>3.931133</td><td>4.231651</td><td>⋯</td><td>4.152145</td><td>4.380638</td><td>3.990036</td><td>4.058591</td><td>4.000000</td><td>4.000000</td><td>4.000000</td><td>3.844869</td><td>3.951794</td><td>4.287563</td></tr>\n",
       "\t<tr><td> 93</td><td>4.359446</td><td>4.329465</td><td>4.415650</td><td>4.194017</td><td>4.390211</td><td>4.000000</td><td>5.000000</td><td>4.213657</td><td>4.545998</td><td>⋯</td><td>3.000000</td><td>4.719197</td><td>4.277750</td><td>4.378105</td><td>4.181300</td><td>4.000000</td><td>5.000000</td><td>4.139343</td><td>4.240493</td><td>4.610371</td></tr>\n",
       "\t<tr><td> 94</td><td>4.230030</td><td>4.000000</td><td>4.242782</td><td>4.082518</td><td>4.000000</td><td>4.084167</td><td>4.046770</td><td>4.058221</td><td>4.000000</td><td>⋯</td><td>4.411664</td><td>4.531965</td><td>4.000000</td><td>4.000000</td><td>4.087200</td><td>4.436666</td><td>4.000000</td><td>4.073902</td><td>4.000000</td><td>4.452151</td></tr>\n",
       "\t<tr><td> 95</td><td>4.189360</td><td>3.000000</td><td>4.184897</td><td>4.040833</td><td>5.000000</td><td>4.033997</td><td>4.001038</td><td>4.011165</td><td>4.321589</td><td>⋯</td><td>4.383239</td><td>4.470975</td><td>4.140495</td><td>4.260073</td><td>4.054193</td><td>4.000000</td><td>5.000000</td><td>4.053788</td><td>4.089340</td><td>4.394764</td></tr>\n",
       "\t<tr><td> 96</td><td>4.293832</td><td>4.252494</td><td>4.382021</td><td>4.143669</td><td>4.327906</td><td>4.188510</td><td>4.000000</td><td>4.163772</td><td>5.000000</td><td>⋯</td><td>4.345912</td><td>4.000000</td><td>4.220265</td><td>4.271009</td><td>4.000000</td><td>5.000000</td><td>4.236830</td><td>4.023659</td><td>4.175641</td><td>4.589025</td></tr>\n",
       "\t<tr><td> 97</td><td>4.047719</td><td>4.000000</td><td>4.000000</td><td>3.930039</td><td>4.102568</td><td>4.000000</td><td>3.938427</td><td>4.000000</td><td>4.249924</td><td>⋯</td><td>4.140339</td><td>4.428882</td><td>4.000000</td><td>4.000000</td><td>3.906817</td><td>4.000000</td><td>3.995142</td><td>3.800264</td><td>3.965948</td><td>4.346976</td></tr>\n",
       "\t<tr><td> 98</td><td>4.242840</td><td>4.243191</td><td>4.291618</td><td>4.092311</td><td>4.297219</td><td>4.123053</td><td>4.078340</td><td>4.000000</td><td>4.387812</td><td>⋯</td><td>4.481981</td><td>4.568336</td><td>4.212281</td><td>4.347269</td><td>4.000000</td><td>5.000000</td><td>4.282365</td><td>4.097415</td><td>4.000000</td><td>4.482033</td></tr>\n",
       "\t<tr><td> 99</td><td>3.997692</td><td>3.968704</td><td>4.000000</td><td>5.000000</td><td>4.045236</td><td>3.954475</td><td>3.913683</td><td>3.919695</td><td>4.207058</td><td>⋯</td><td>4.036372</td><td>4.000000</td><td>3.949384</td><td>3.980478</td><td>5.000000</td><td>4.057045</td><td>3.912421</td><td>3.723846</td><td>3.908494</td><td>4.305744</td></tr>\n",
       "\t<tr><td>100</td><td>4.220608</td><td>4.203918</td><td>4.213967</td><td>4.055703</td><td>4.249177</td><td>4.048983</td><td>4.043795</td><td>4.048634</td><td>4.348086</td><td>⋯</td><td>4.432752</td><td>4.501554</td><td>4.153461</td><td>4.299151</td><td>4.085621</td><td>5.000000</td><td>5.000000</td><td>4.093845</td><td>4.115629</td><td>5.000000</td></tr>\n",
       "</tbody>\n",
       "</table>\n"
      ],
      "text/latex": [
       "A data.frame: 100 × 253\n",
       "\\begin{tabular}{lllllllllllllllllllll}\n",
       " user\\_id & tweet\\_id1 & tweet\\_id2 & tweet\\_id3 & tweet\\_id4 & tweet\\_id5 & tweet\\_id6 & tweet\\_id7 & tweet\\_id8 & tweet\\_id9 & ⋯ & tweet\\_id243 & tweet\\_id244 & tweet\\_id245 & tweet\\_id246 & tweet\\_id247 & tweet\\_id248 & tweet\\_id249 & tweet\\_id250 & tweet\\_id251 & tweet\\_id252\\\\\n",
       " <int> & <dbl> & <dbl> & <dbl> & <dbl> & <dbl> & <dbl> & <dbl> & <dbl> & <dbl> & ⋯ & <dbl> & <dbl> & <dbl> & <dbl> & <dbl> & <dbl> & <dbl> & <dbl> & <dbl> & <dbl>\\\\\n",
       "\\hline\n",
       "\t  1 & 4.000000 & 4.275599 & 4.486264 & 4.195258 & 4.377076 & 4.292368 & 4.197019 & 4.211802 & 4.575570 & ⋯ & 3.000000 & 3.000000 & 4.285399 & 4.265972 & 4.125198 & 4.378028 & 4.210076 & 3.964186 & 4.213996 & 5.000000\\\\\n",
       "\t  2 & 4.099943 & 4.051291 & 4.241676 & 5.000000 & 4.139287 & 5.000000 & 4.010329 & 4.012177 & 4.332399 & ⋯ & 4.072271 & 4.000000 & 4.035197 & 4.037530 & 3.910022 & 4.116840 & 3.000000 & 3.780839 & 3.991964 & 4.434196\\\\\n",
       "\t  3 & 4.218906 & 4.000000 & 4.285257 & 4.063469 & 4.245586 & 4.089353 & 4.000000 & 4.093790 & 4.405373 & ⋯ & 4.335568 & 4.566427 & 4.133366 & 4.226872 & 4.042293 & 4.332026 & 4.187989 & 4.000569 & 4.104434 & 4.450416\\\\\n",
       "\t  4 & 4.000000 & 4.007133 & 4.125069 & 3.904364 & 4.066030 & 4.000000 & 3.928132 & 4.000000 & 4.233926 & ⋯ & 4.092414 & 4.000000 & 3.963133 & 4.014555 & 3.860950 & 4.107394 & 3.981695 & 3.796278 & 3.931175 & 4.287836\\\\\n",
       "\t  5 & 4.296748 & 4.263908 & 5.000000 & 4.159848 & 4.356704 & 4.254424 & 4.187782 & 4.197226 & 4.533062 & ⋯ & 4.341252 & 4.744712 & 4.000000 & 4.000000 & 4.129161 & 4.000000 & 4.209538 & 3.986037 & 4.199452 & 4.663526\\\\\n",
       "\t  6 & 4.090419 & 4.084649 & 4.069908 & 3.929991 & 4.108621 & 3.905428 & 3.923140 & 4.000000 & 4.204069 & ⋯ & 5.000000 & 4.333812 & 4.010338 & 4.174112 & 3.958018 & 4.300354 & 4.149464 & 3.995601 & 3.987016 & 4.000000\\\\\n",
       "\t  7 & 4.200027 & 4.178940 & 4.138782 & 4.031380 & 4.225726 & 4.000443 & 3.990084 & 3.991858 & 4.291015 & ⋯ & 4.438071 & 4.435516 & 4.142715 & 4.304623 & 4.081903 & 4.000000 & 4.294304 & 4.120719 & 4.096274 & 4.365315\\\\\n",
       "\t  8 & 4.212715 & 4.203578 & 4.196944 & 4.037774 & 4.000000 & 4.037262 & 4.000000 & 4.036892 & 4.314301 & ⋯ & 5.000000 & 4.480993 & 4.157468 & 4.337691 & 4.000000 & 4.468745 & 4.287477 & 4.124598 & 4.119915 & 4.000000\\\\\n",
       "\t  9 & 4.189225 & 4.168506 & 5.000000 & 4.042051 & 4.228483 & 4.055007 & 4.015633 & 4.024074 & 4.334850 & ⋯ & 4.355938 & 4.497169 & 4.000000 & 4.248432 & 4.053973 & 4.385424 & 4.218429 & 4.026618 & 5.000000 & 4.424945\\\\\n",
       "\t 10 & 4.146551 & 4.104795 & 4.307242 & 4.000000 & 4.198207 & 4.000000 & 4.045363 & 4.055967 & 4.393816 & ⋯ & 4.119823 & 4.584803 & 4.105453 & 4.086381 & 3.958770 & 4.182173 & 4.036679 & 3.810692 & 4.000000 & 5.000000\\\\\n",
       "\t 11 & 4.049903 & 4.011228 & 4.189672 & 3.912563 & 4.089108 & 3.992954 & 3.971582 & 3.972419 & 4.267295 & ⋯ & 5.000000 & 5.000000 & 3.981221 & 4.013270 & 3.878394 & 4.082008 & 3.949739 & 3.760074 & 3.948404 & 4.355422\\\\\n",
       "\t 12 & 4.227723 & 4.219071 & 4.199125 & 4.058479 & 4.250931 & 4.033633 & 4.041238 & 4.047894 & 4.341894 & ⋯ & 4.480115 & 4.483934 & 4.153024 & 4.323689 & 4.000000 & 4.463869 & 4.299062 & 4.131608 & 4.121043 & 4.377591\\\\\n",
       "\t 13 & 4.171199 & 4.145570 & 4.389896 & 4.052905 & 4.230862 & 4.170733 & 4.108280 & 4.122970 & 4.444223 & ⋯ & 4.169114 & 4.650642 & 4.123637 & 4.116849 & 3.986957 & 4.188934 & 4.029525 & 3.812430 & 4.000000 & 4.546247\\\\\n",
       "\t 14 & 4.116062 & 4.094186 & 4.125871 & 3.965818 & 4.148576 & 3.971904 & 4.000000 & 3.954513 & 4.249899 & ⋯ & 4.284327 & 4.403821 & 4.062023 & 4.175620 & 3.983690 & 4.303823 & 4.147872 & 3.969066 & 4.017541 & 4.326942\\\\\n",
       "\t 15 & 4.050850 & 4.000000 & 4.000000 & 3.920228 & 4.095441 & 4.000000 & 3.958724 & 3.964550 & 4.260812 & ⋯ & 4.093608 & 4.442673 & 4.000000 & 4.032612 & 3.890718 & 4.114561 & 3.970305 & 3.778157 & 3.956123 & 4.354111\\\\\n",
       "\t 16 & 4.186645 & 4.155751 & 5.000000 & 4.054947 & 4.222054 & 4.000000 & 4.060580 & 4.071872 & 4.403103 & ⋯ & 4.236924 & 4.568130 & 4.121214 & 4.157663 & 3.996785 & 4.267360 & 4.124876 & 4.000000 & 4.000000 & 5.000000\\\\\n",
       "\t 17 & 4.185030 & 4.183732 & 4.185920 & 4.034989 & 4.224157 & 4.030407 & 4.000724 & 4.014381 & 4.308935 & ⋯ & 4.432055 & 4.461188 & 4.000000 & 4.286663 & 4.000000 & 4.432398 & 4.250999 & 4.074020 & 4.000000 & 4.373631\\\\\n",
       "\t 18 & 3.000000 & 4.000000 & 4.113031 & 3.897449 & 4.054963 & 4.000000 & 4.000000 & 3.924037 & 4.234737 & ⋯ & 4.038341 & 4.385779 & 3.948884 & 3.982127 & 4.000000 & 4.071027 & 3.963864 & 3.773124 & 5.000000 & 4.294007\\\\\n",
       "\t 19 & 4.089833 & 4.000000 & 4.090726 & 3.934472 & 4.112265 & 3.934847 & 4.000000 & 4.000000 & 4.224581 & ⋯ & 4.223703 & 4.371787 & 4.019142 & 4.126196 & 3.942206 & 4.245805 & 4.000000 & 4.000000 & 3.981691 & 4.292149\\\\\n",
       "\t 20 & 4.107061 & 4.081182 & 5.000000 & 3.990313 & 4.172225 & 4.000000 & 4.028593 & 4.041149 & 4.350482 & ⋯ & 3.000000 & 4.558746 & 4.079580 & 4.082152 & 3.951906 & 4.162861 & 3.996008 & 3.784117 & 4.024231 & 4.480082\\\\\n",
       "\t 21 & 4.148660 & 4.134851 & 4.235977 & 4.020494 & 4.199897 & 4.067061 & 4.005965 & 4.000000 & 4.331768 & ⋯ & 4.278982 & 4.505697 & 4.116888 & 4.183574 & 4.008608 & 5.000000 & 5.000000 & 3.933517 & 4.000000 & 4.000000\\\\\n",
       "\t 22 & 4.000000 & 4.088694 & 4.120681 & 4.000000 & 4.134001 & 3.961273 & 3.939996 & 3.949640 & 4.243253 & ⋯ & 4.280687 & 4.390011 & 4.045994 & 5.000000 & 3.965362 & 4.288499 & 4.131631 & 3.954888 & 4.004736 & 4.301419\\\\\n",
       "\t 23 & 4.143282 & 4.119689 & 4.166734 & 3.986510 & 4.157589 & 3.982621 & 3.999145 & 4.000000 & 4.304121 & ⋯ & 4.282790 & 4.441343 & 4.047209 & 4.160176 & 3.967830 & 4.271714 & 4.140571 & 4.000000 & 4.025140 & 4.322167\\\\\n",
       "\t 24 & 4.127935 & 4.000000 & 4.000000 & 4.009908 & 4.182372 & 4.132312 & 4.073425 & 4.082226 & 4.406816 & ⋯ & 4.069944 & 4.612852 & 4.073615 & 4.043599 & 3.931112 & 5.000000 & 3.965277 & 3.745359 & 4.028204 & 4.517913\\\\\n",
       "\t 25 & 4.093223 & 4.065288 & 4.222327 & 3.974657 & 4.144199 & 4.045791 & 3.979217 & 3.991779 & 4.308287 & ⋯ & 4.135575 & 4.488680 & 4.057260 & 4.075888 & 3.931323 & 4.179430 & 4.024547 & 3.815842 & 4.001260 & 4.415670\\\\\n",
       "\t 26 & 4.259635 & 4.000000 & 4.216537 & 4.084986 & 4.282270 & 4.054576 & 4.063148 & 4.068116 & 4.365432 & ⋯ & 4.000000 & 4.508757 & 4.185124 & 4.364202 & 4.130002 & 4.509802 & 4.342784 & 4.174229 & 4.151305 & 4.406737\\\\\n",
       "\t 27 & 4.127678 & 4.000000 & 4.000000 & 4.000000 & 4.185593 & 4.111298 & 4.000000 & 4.061098 & 4.374141 & ⋯ & 4.145226 & 4.000000 & 4.086139 & 5.000000 & 3.959205 & 4.172748 & 4.013904 & 3.803450 & 4.037129 & 4.485031\\\\\n",
       "\t 28 & 4.120380 & 4.112270 & 4.119156 & 4.000000 & 4.150080 & 4.000000 & 3.948017 & 3.957977 & 4.246541 & ⋯ & 4.000000 & 4.389084 & 4.061604 & 4.199208 & 4.000000 & 4.333529 & 4.000000 & 4.001119 & 5.000000 & 4.295402\\\\\n",
       "\t 29 & 4.146347 & 4.134446 & 5.000000 & 3.992332 & 4.169169 & 3.978167 & 3.976671 & 3.985544 & 4.280780 & ⋯ & 4.347276 & 4.418036 & 4.073180 & 4.208553 & 4.000352 & 4.340141 & 5.000000 & 4.015993 & 4.040306 & 4.313831\\\\\n",
       "\t 30 & 5.000000 & 4.339340 & 4.336565 & 4.183149 & 4.385008 & 4.171044 & 4.150232 & 4.160098 & 4.000000 & ⋯ & 4.595236 & 3.000000 & 4.292505 & 4.447157 & 4.216122 & 4.601339 & 4.419003 & 4.229664 & 4.244949 & 4.546466\\\\\n",
       "\t ⋮ & ⋮ & ⋮ & ⋮ & ⋮ & ⋮ & ⋮ & ⋮ & ⋮ & ⋮ & ⋱ & ⋮ & ⋮ & ⋮ & ⋮ & ⋮ & ⋮ & ⋮ & ⋮ & ⋮ & ⋮\\\\\n",
       "\t  71 & 4.000000 & 4.090517 & 4.211473 & 3.966183 & 4.143328 & 4.016352 & 3.998462 & 4.000000 & 4.300446 & ⋯ & 4.220531 & 4.468225 & 4.038496 & 4.117059 & 3.946916 & 4.209854 & 4.056857 & 4.000000 & 4.007415 & 4.354662\\\\\n",
       "\t  72 & 4.222471 & 4.209574 & 4.224513 & 4.059289 & 4.251923 & 4.000000 & 4.050138 & 4.000000 & 4.000000 & ⋯ & 4.439144 & 4.000000 & 4.154625 & 4.300711 & 4.000000 & 4.432850 & 4.267559 & 4.092248 & 4.118441 & 5.000000\\\\\n",
       "\t  73 & 4.261481 & 4.243773 & 4.272665 & 4.080563 & 4.285702 & 4.083966 & 4.108879 & 4.108520 & 4.000000 & ⋯ & 4.000000 & 4.560041 & 4.171819 & 4.335929 & 4.119628 & 4.448264 & 4.289420 & 4.123407 & 4.150302 & 4.440020\\\\\n",
       "\t  74 & 6.000000 & 5.000000 & 4.000000 & 4.150807 & 4.354043 & 4.146642 & 4.000000 & 4.000000 & 4.456143 & ⋯ & 4.000000 & 4.617983 & 4.254132 & 4.000000 & 5.000000 & 4.548787 & 4.373672 & 4.191400 & 4.215088 & 4.516077\\\\\n",
       "\t  75 & 4.000000 & 4.052881 & 4.222662 & 3.000000 & 4.124272 & 4.025434 & 4.000000 & 4.004342 & 5.000000 & ⋯ & 4.094002 & 6.000000 & 4.016867 & 4.035169 & 3.896151 & 4.118667 & 3.991838 & 3.790993 & 3.980920 & 4.388942\\\\\n",
       "\t  76 & 4.288495 & 4.274507 & 4.302277 & 4.000000 & 5.000000 & 4.000000 & 4.000000 & 4.120809 & 4.420841 & ⋯ & 4.516740 & 4.595220 & 4.232560 & 4.384038 & 4.167148 & 4.000000 & 4.334311 & 4.000000 & 4.190052 & 4.503704\\\\\n",
       "\t  77 & 3.000000 & 4.206534 & 4.160269 & 4.000000 & 4.229414 & 3.993146 & 4.000000 & 4.029280 & 4.310623 & ⋯ & 4.493478 & 4.444656 & 4.124537 & 4.324093 & 4.085811 & 4.459766 & 4.302347 & 4.000000 & 4.103834 & 4.327282\\\\\n",
       "\t  78 & 5.000000 & 4.187750 & 4.175230 & 4.041412 & 4.000000 & 4.020769 & 4.029830 & 4.025700 & 4.325832 & ⋯ & 4.418703 & 4.475935 & 4.000000 & 4.296748 & 4.083169 & 4.000000 & 4.281999 & 4.109372 & 4.105861 & 4.393282\\\\\n",
       "\t  79 & 4.157982 & 4.133839 & 4.217204 & 4.018634 & 5.000000 & 4.046526 & 4.000000 & 4.019762 & 4.333526 & ⋯ & 5.000000 & 4.495459 & 4.103242 & 4.178205 & 4.000714 & 4.299257 & 4.145133 & 3.949826 & 4.056097 & 4.411000\\\\\n",
       "\t  80 & 4.074668 & 4.000000 & 4.000000 & 3.912432 & 4.098775 & 4.000000 & 4.000000 & 4.000000 & 4.227488 & ⋯ & 4.197282 & 4.000000 & 4.000000 & 4.101380 & 4.000000 & 4.191542 & 4.057161 & 3.891621 & 3.967758 & 4.286487\\\\\n",
       "\t  81 & 4.139362 & 4.133131 & 4.000000 & 3.967952 & 4.176122 & 3.984325 & 3.993349 & 3.994991 & 4.255816 & ⋯ & 5.000000 & 4.424676 & 4.076335 & 4.249052 & 4.037342 & 4.357688 & 4.183526 & 4.030250 & 4.049393 & 4.319982\\\\\n",
       "\t  82 & 4.106573 & 4.073333 & 4.184284 & 4.000000 & 4.000000 & 4.004614 & 4.000000 & 3.987106 & 4.000000 & ⋯ & 4.174325 & 4.457737 & 4.037677 & 4.000000 & 3.934542 & 4.197588 & 4.061438 & 3.869541 & 3.999112 & 4.366365\\\\\n",
       "\t  83 & 4.232994 & 5.000000 & 4.314547 & 4.090886 & 4.271866 & 4.130757 & 4.000000 & 4.102331 & 4.429285 & ⋯ & 4.325984 & 5.000000 & 4.000000 & 4.236641 & 4.061786 & 4.353483 & 4.000000 & 3.992996 & 4.126074 & 4.510634\\\\\n",
       "\t  84 & 4.023314 & 4.017993 & 3.985881 & 3.887017 & 4.048872 & 3.853599 & 3.827069 & 3.841038 & 4.128642 & ⋯ & 4.247222 & 5.000000 & 3.976036 & 4.107973 & 3.900012 & 4.261181 & 4.104877 & 3.936240 & 4.000000 & 4.000000\\\\\n",
       "\t  85 & 4.039004 & 4.000000 & 4.038749 & 3.885954 & 4.066738 & 3.883256 & 4.000000 & 3.885775 & 4.156837 & ⋯ & 4.243618 & 4.300631 & 3.976946 & 4.000000 & 3.918382 & 4.236443 & 4.000000 & 3.923943 & 3.944255 & 4.000000\\\\\n",
       "\t  86 & 4.195044 & 4.170060 & 4.188710 & 4.037046 & 4.225261 & 4.034028 & 4.014141 & 4.018030 & 4.325581 & ⋯ & 4.372453 & 5.000000 & 4.136547 & 5.000000 & 4.057050 & 5.000000 & 4.000000 & 4.053550 & 4.000000 & 4.403320\\\\\n",
       "\t  87 & 4.000000 & 4.157771 & 4.202123 & 4.021106 & 4.217466 & 4.048009 & 3.998247 & 4.009504 & 4.303229 & ⋯ & 4.375095 & 4.477506 & 5.000000 & 4.258517 & 4.059629 & 4.393175 & 4.205974 & 4.021079 & 4.083562 & 4.407873\\\\\n",
       "\t  88 & 4.176203 & 5.000000 & 4.148172 & 3.992409 & 4.000000 & 3.979917 & 4.008584 & 4.000000 & 4.271601 & ⋯ & 4.449096 & 4.426350 & 4.097550 & 4.000000 & 4.067980 & 4.414304 & 4.248528 & 4.100261 & 4.000000 & 4.317610\\\\\n",
       "\t  89 & 4.000000 & 4.014698 & 4.006650 & 3.875795 & 4.058062 & 3.858548 & 3.871516 & 3.868675 & 4.141781 & ⋯ & 4.230983 & 4.279983 & 4.000000 & 4.112579 & 3.914050 & 4.233366 & 4.094250 & 3.938001 & 3.936022 & 4.000000\\\\\n",
       "\t  90 & 4.129004 & 4.116535 & 4.118961 & 3.961287 & 4.152930 & 3.952358 & 3.967025 & 3.969328 & 4.244335 & ⋯ & 4.356479 & 3.000000 & 4.053338 & 4.215717 & 4.003626 & 4.335693 & 4.179600 & 4.000000 & 4.027126 & 4.286291\\\\\n",
       "\t  91 & 4.000000 & 4.000000 & 4.105858 & 3.924191 & 4.094790 & 3.936045 & 4.000000 & 3.931637 & 4.216984 & ⋯ & 4.000000 & 4.362025 & 4.002397 & 4.111169 & 4.000000 & 4.228866 & 4.073774 & 3.901808 & 3.967495 & 4.000000\\\\\n",
       "\t  92 & 4.054661 & 4.030952 & 4.000000 & 4.000000 & 4.084406 & 3.945631 & 3.922091 & 3.931133 & 4.231651 & ⋯ & 4.152145 & 4.380638 & 3.990036 & 4.058591 & 4.000000 & 4.000000 & 4.000000 & 3.844869 & 3.951794 & 4.287563\\\\\n",
       "\t  93 & 4.359446 & 4.329465 & 4.415650 & 4.194017 & 4.390211 & 4.000000 & 5.000000 & 4.213657 & 4.545998 & ⋯ & 3.000000 & 4.719197 & 4.277750 & 4.378105 & 4.181300 & 4.000000 & 5.000000 & 4.139343 & 4.240493 & 4.610371\\\\\n",
       "\t  94 & 4.230030 & 4.000000 & 4.242782 & 4.082518 & 4.000000 & 4.084167 & 4.046770 & 4.058221 & 4.000000 & ⋯ & 4.411664 & 4.531965 & 4.000000 & 4.000000 & 4.087200 & 4.436666 & 4.000000 & 4.073902 & 4.000000 & 4.452151\\\\\n",
       "\t  95 & 4.189360 & 3.000000 & 4.184897 & 4.040833 & 5.000000 & 4.033997 & 4.001038 & 4.011165 & 4.321589 & ⋯ & 4.383239 & 4.470975 & 4.140495 & 4.260073 & 4.054193 & 4.000000 & 5.000000 & 4.053788 & 4.089340 & 4.394764\\\\\n",
       "\t  96 & 4.293832 & 4.252494 & 4.382021 & 4.143669 & 4.327906 & 4.188510 & 4.000000 & 4.163772 & 5.000000 & ⋯ & 4.345912 & 4.000000 & 4.220265 & 4.271009 & 4.000000 & 5.000000 & 4.236830 & 4.023659 & 4.175641 & 4.589025\\\\\n",
       "\t  97 & 4.047719 & 4.000000 & 4.000000 & 3.930039 & 4.102568 & 4.000000 & 3.938427 & 4.000000 & 4.249924 & ⋯ & 4.140339 & 4.428882 & 4.000000 & 4.000000 & 3.906817 & 4.000000 & 3.995142 & 3.800264 & 3.965948 & 4.346976\\\\\n",
       "\t  98 & 4.242840 & 4.243191 & 4.291618 & 4.092311 & 4.297219 & 4.123053 & 4.078340 & 4.000000 & 4.387812 & ⋯ & 4.481981 & 4.568336 & 4.212281 & 4.347269 & 4.000000 & 5.000000 & 4.282365 & 4.097415 & 4.000000 & 4.482033\\\\\n",
       "\t  99 & 3.997692 & 3.968704 & 4.000000 & 5.000000 & 4.045236 & 3.954475 & 3.913683 & 3.919695 & 4.207058 & ⋯ & 4.036372 & 4.000000 & 3.949384 & 3.980478 & 5.000000 & 4.057045 & 3.912421 & 3.723846 & 3.908494 & 4.305744\\\\\n",
       "\t 100 & 4.220608 & 4.203918 & 4.213967 & 4.055703 & 4.249177 & 4.048983 & 4.043795 & 4.048634 & 4.348086 & ⋯ & 4.432752 & 4.501554 & 4.153461 & 4.299151 & 4.085621 & 5.000000 & 5.000000 & 4.093845 & 4.115629 & 5.000000\\\\\n",
       "\\end{tabular}\n"
      ],
      "text/markdown": [
       "\n",
       "A data.frame: 100 × 253\n",
       "\n",
       "| user_id &lt;int&gt; | tweet_id1 &lt;dbl&gt; | tweet_id2 &lt;dbl&gt; | tweet_id3 &lt;dbl&gt; | tweet_id4 &lt;dbl&gt; | tweet_id5 &lt;dbl&gt; | tweet_id6 &lt;dbl&gt; | tweet_id7 &lt;dbl&gt; | tweet_id8 &lt;dbl&gt; | tweet_id9 &lt;dbl&gt; | ⋯ ⋯ | tweet_id243 &lt;dbl&gt; | tweet_id244 &lt;dbl&gt; | tweet_id245 &lt;dbl&gt; | tweet_id246 &lt;dbl&gt; | tweet_id247 &lt;dbl&gt; | tweet_id248 &lt;dbl&gt; | tweet_id249 &lt;dbl&gt; | tweet_id250 &lt;dbl&gt; | tweet_id251 &lt;dbl&gt; | tweet_id252 &lt;dbl&gt; |\n",
       "|---|---|---|---|---|---|---|---|---|---|---|---|---|---|---|---|---|---|---|---|---|\n",
       "|  1 | 4.000000 | 4.275599 | 4.486264 | 4.195258 | 4.377076 | 4.292368 | 4.197019 | 4.211802 | 4.575570 | ⋯ | 3.000000 | 3.000000 | 4.285399 | 4.265972 | 4.125198 | 4.378028 | 4.210076 | 3.964186 | 4.213996 | 5.000000 |\n",
       "|  2 | 4.099943 | 4.051291 | 4.241676 | 5.000000 | 4.139287 | 5.000000 | 4.010329 | 4.012177 | 4.332399 | ⋯ | 4.072271 | 4.000000 | 4.035197 | 4.037530 | 3.910022 | 4.116840 | 3.000000 | 3.780839 | 3.991964 | 4.434196 |\n",
       "|  3 | 4.218906 | 4.000000 | 4.285257 | 4.063469 | 4.245586 | 4.089353 | 4.000000 | 4.093790 | 4.405373 | ⋯ | 4.335568 | 4.566427 | 4.133366 | 4.226872 | 4.042293 | 4.332026 | 4.187989 | 4.000569 | 4.104434 | 4.450416 |\n",
       "|  4 | 4.000000 | 4.007133 | 4.125069 | 3.904364 | 4.066030 | 4.000000 | 3.928132 | 4.000000 | 4.233926 | ⋯ | 4.092414 | 4.000000 | 3.963133 | 4.014555 | 3.860950 | 4.107394 | 3.981695 | 3.796278 | 3.931175 | 4.287836 |\n",
       "|  5 | 4.296748 | 4.263908 | 5.000000 | 4.159848 | 4.356704 | 4.254424 | 4.187782 | 4.197226 | 4.533062 | ⋯ | 4.341252 | 4.744712 | 4.000000 | 4.000000 | 4.129161 | 4.000000 | 4.209538 | 3.986037 | 4.199452 | 4.663526 |\n",
       "|  6 | 4.090419 | 4.084649 | 4.069908 | 3.929991 | 4.108621 | 3.905428 | 3.923140 | 4.000000 | 4.204069 | ⋯ | 5.000000 | 4.333812 | 4.010338 | 4.174112 | 3.958018 | 4.300354 | 4.149464 | 3.995601 | 3.987016 | 4.000000 |\n",
       "|  7 | 4.200027 | 4.178940 | 4.138782 | 4.031380 | 4.225726 | 4.000443 | 3.990084 | 3.991858 | 4.291015 | ⋯ | 4.438071 | 4.435516 | 4.142715 | 4.304623 | 4.081903 | 4.000000 | 4.294304 | 4.120719 | 4.096274 | 4.365315 |\n",
       "|  8 | 4.212715 | 4.203578 | 4.196944 | 4.037774 | 4.000000 | 4.037262 | 4.000000 | 4.036892 | 4.314301 | ⋯ | 5.000000 | 4.480993 | 4.157468 | 4.337691 | 4.000000 | 4.468745 | 4.287477 | 4.124598 | 4.119915 | 4.000000 |\n",
       "|  9 | 4.189225 | 4.168506 | 5.000000 | 4.042051 | 4.228483 | 4.055007 | 4.015633 | 4.024074 | 4.334850 | ⋯ | 4.355938 | 4.497169 | 4.000000 | 4.248432 | 4.053973 | 4.385424 | 4.218429 | 4.026618 | 5.000000 | 4.424945 |\n",
       "| 10 | 4.146551 | 4.104795 | 4.307242 | 4.000000 | 4.198207 | 4.000000 | 4.045363 | 4.055967 | 4.393816 | ⋯ | 4.119823 | 4.584803 | 4.105453 | 4.086381 | 3.958770 | 4.182173 | 4.036679 | 3.810692 | 4.000000 | 5.000000 |\n",
       "| 11 | 4.049903 | 4.011228 | 4.189672 | 3.912563 | 4.089108 | 3.992954 | 3.971582 | 3.972419 | 4.267295 | ⋯ | 5.000000 | 5.000000 | 3.981221 | 4.013270 | 3.878394 | 4.082008 | 3.949739 | 3.760074 | 3.948404 | 4.355422 |\n",
       "| 12 | 4.227723 | 4.219071 | 4.199125 | 4.058479 | 4.250931 | 4.033633 | 4.041238 | 4.047894 | 4.341894 | ⋯ | 4.480115 | 4.483934 | 4.153024 | 4.323689 | 4.000000 | 4.463869 | 4.299062 | 4.131608 | 4.121043 | 4.377591 |\n",
       "| 13 | 4.171199 | 4.145570 | 4.389896 | 4.052905 | 4.230862 | 4.170733 | 4.108280 | 4.122970 | 4.444223 | ⋯ | 4.169114 | 4.650642 | 4.123637 | 4.116849 | 3.986957 | 4.188934 | 4.029525 | 3.812430 | 4.000000 | 4.546247 |\n",
       "| 14 | 4.116062 | 4.094186 | 4.125871 | 3.965818 | 4.148576 | 3.971904 | 4.000000 | 3.954513 | 4.249899 | ⋯ | 4.284327 | 4.403821 | 4.062023 | 4.175620 | 3.983690 | 4.303823 | 4.147872 | 3.969066 | 4.017541 | 4.326942 |\n",
       "| 15 | 4.050850 | 4.000000 | 4.000000 | 3.920228 | 4.095441 | 4.000000 | 3.958724 | 3.964550 | 4.260812 | ⋯ | 4.093608 | 4.442673 | 4.000000 | 4.032612 | 3.890718 | 4.114561 | 3.970305 | 3.778157 | 3.956123 | 4.354111 |\n",
       "| 16 | 4.186645 | 4.155751 | 5.000000 | 4.054947 | 4.222054 | 4.000000 | 4.060580 | 4.071872 | 4.403103 | ⋯ | 4.236924 | 4.568130 | 4.121214 | 4.157663 | 3.996785 | 4.267360 | 4.124876 | 4.000000 | 4.000000 | 5.000000 |\n",
       "| 17 | 4.185030 | 4.183732 | 4.185920 | 4.034989 | 4.224157 | 4.030407 | 4.000724 | 4.014381 | 4.308935 | ⋯ | 4.432055 | 4.461188 | 4.000000 | 4.286663 | 4.000000 | 4.432398 | 4.250999 | 4.074020 | 4.000000 | 4.373631 |\n",
       "| 18 | 3.000000 | 4.000000 | 4.113031 | 3.897449 | 4.054963 | 4.000000 | 4.000000 | 3.924037 | 4.234737 | ⋯ | 4.038341 | 4.385779 | 3.948884 | 3.982127 | 4.000000 | 4.071027 | 3.963864 | 3.773124 | 5.000000 | 4.294007 |\n",
       "| 19 | 4.089833 | 4.000000 | 4.090726 | 3.934472 | 4.112265 | 3.934847 | 4.000000 | 4.000000 | 4.224581 | ⋯ | 4.223703 | 4.371787 | 4.019142 | 4.126196 | 3.942206 | 4.245805 | 4.000000 | 4.000000 | 3.981691 | 4.292149 |\n",
       "| 20 | 4.107061 | 4.081182 | 5.000000 | 3.990313 | 4.172225 | 4.000000 | 4.028593 | 4.041149 | 4.350482 | ⋯ | 3.000000 | 4.558746 | 4.079580 | 4.082152 | 3.951906 | 4.162861 | 3.996008 | 3.784117 | 4.024231 | 4.480082 |\n",
       "| 21 | 4.148660 | 4.134851 | 4.235977 | 4.020494 | 4.199897 | 4.067061 | 4.005965 | 4.000000 | 4.331768 | ⋯ | 4.278982 | 4.505697 | 4.116888 | 4.183574 | 4.008608 | 5.000000 | 5.000000 | 3.933517 | 4.000000 | 4.000000 |\n",
       "| 22 | 4.000000 | 4.088694 | 4.120681 | 4.000000 | 4.134001 | 3.961273 | 3.939996 | 3.949640 | 4.243253 | ⋯ | 4.280687 | 4.390011 | 4.045994 | 5.000000 | 3.965362 | 4.288499 | 4.131631 | 3.954888 | 4.004736 | 4.301419 |\n",
       "| 23 | 4.143282 | 4.119689 | 4.166734 | 3.986510 | 4.157589 | 3.982621 | 3.999145 | 4.000000 | 4.304121 | ⋯ | 4.282790 | 4.441343 | 4.047209 | 4.160176 | 3.967830 | 4.271714 | 4.140571 | 4.000000 | 4.025140 | 4.322167 |\n",
       "| 24 | 4.127935 | 4.000000 | 4.000000 | 4.009908 | 4.182372 | 4.132312 | 4.073425 | 4.082226 | 4.406816 | ⋯ | 4.069944 | 4.612852 | 4.073615 | 4.043599 | 3.931112 | 5.000000 | 3.965277 | 3.745359 | 4.028204 | 4.517913 |\n",
       "| 25 | 4.093223 | 4.065288 | 4.222327 | 3.974657 | 4.144199 | 4.045791 | 3.979217 | 3.991779 | 4.308287 | ⋯ | 4.135575 | 4.488680 | 4.057260 | 4.075888 | 3.931323 | 4.179430 | 4.024547 | 3.815842 | 4.001260 | 4.415670 |\n",
       "| 26 | 4.259635 | 4.000000 | 4.216537 | 4.084986 | 4.282270 | 4.054576 | 4.063148 | 4.068116 | 4.365432 | ⋯ | 4.000000 | 4.508757 | 4.185124 | 4.364202 | 4.130002 | 4.509802 | 4.342784 | 4.174229 | 4.151305 | 4.406737 |\n",
       "| 27 | 4.127678 | 4.000000 | 4.000000 | 4.000000 | 4.185593 | 4.111298 | 4.000000 | 4.061098 | 4.374141 | ⋯ | 4.145226 | 4.000000 | 4.086139 | 5.000000 | 3.959205 | 4.172748 | 4.013904 | 3.803450 | 4.037129 | 4.485031 |\n",
       "| 28 | 4.120380 | 4.112270 | 4.119156 | 4.000000 | 4.150080 | 4.000000 | 3.948017 | 3.957977 | 4.246541 | ⋯ | 4.000000 | 4.389084 | 4.061604 | 4.199208 | 4.000000 | 4.333529 | 4.000000 | 4.001119 | 5.000000 | 4.295402 |\n",
       "| 29 | 4.146347 | 4.134446 | 5.000000 | 3.992332 | 4.169169 | 3.978167 | 3.976671 | 3.985544 | 4.280780 | ⋯ | 4.347276 | 4.418036 | 4.073180 | 4.208553 | 4.000352 | 4.340141 | 5.000000 | 4.015993 | 4.040306 | 4.313831 |\n",
       "| 30 | 5.000000 | 4.339340 | 4.336565 | 4.183149 | 4.385008 | 4.171044 | 4.150232 | 4.160098 | 4.000000 | ⋯ | 4.595236 | 3.000000 | 4.292505 | 4.447157 | 4.216122 | 4.601339 | 4.419003 | 4.229664 | 4.244949 | 4.546466 |\n",
       "| ⋮ | ⋮ | ⋮ | ⋮ | ⋮ | ⋮ | ⋮ | ⋮ | ⋮ | ⋮ | ⋱ | ⋮ | ⋮ | ⋮ | ⋮ | ⋮ | ⋮ | ⋮ | ⋮ | ⋮ | ⋮ |\n",
       "|  71 | 4.000000 | 4.090517 | 4.211473 | 3.966183 | 4.143328 | 4.016352 | 3.998462 | 4.000000 | 4.300446 | ⋯ | 4.220531 | 4.468225 | 4.038496 | 4.117059 | 3.946916 | 4.209854 | 4.056857 | 4.000000 | 4.007415 | 4.354662 |\n",
       "|  72 | 4.222471 | 4.209574 | 4.224513 | 4.059289 | 4.251923 | 4.000000 | 4.050138 | 4.000000 | 4.000000 | ⋯ | 4.439144 | 4.000000 | 4.154625 | 4.300711 | 4.000000 | 4.432850 | 4.267559 | 4.092248 | 4.118441 | 5.000000 |\n",
       "|  73 | 4.261481 | 4.243773 | 4.272665 | 4.080563 | 4.285702 | 4.083966 | 4.108879 | 4.108520 | 4.000000 | ⋯ | 4.000000 | 4.560041 | 4.171819 | 4.335929 | 4.119628 | 4.448264 | 4.289420 | 4.123407 | 4.150302 | 4.440020 |\n",
       "|  74 | 6.000000 | 5.000000 | 4.000000 | 4.150807 | 4.354043 | 4.146642 | 4.000000 | 4.000000 | 4.456143 | ⋯ | 4.000000 | 4.617983 | 4.254132 | 4.000000 | 5.000000 | 4.548787 | 4.373672 | 4.191400 | 4.215088 | 4.516077 |\n",
       "|  75 | 4.000000 | 4.052881 | 4.222662 | 3.000000 | 4.124272 | 4.025434 | 4.000000 | 4.004342 | 5.000000 | ⋯ | 4.094002 | 6.000000 | 4.016867 | 4.035169 | 3.896151 | 4.118667 | 3.991838 | 3.790993 | 3.980920 | 4.388942 |\n",
       "|  76 | 4.288495 | 4.274507 | 4.302277 | 4.000000 | 5.000000 | 4.000000 | 4.000000 | 4.120809 | 4.420841 | ⋯ | 4.516740 | 4.595220 | 4.232560 | 4.384038 | 4.167148 | 4.000000 | 4.334311 | 4.000000 | 4.190052 | 4.503704 |\n",
       "|  77 | 3.000000 | 4.206534 | 4.160269 | 4.000000 | 4.229414 | 3.993146 | 4.000000 | 4.029280 | 4.310623 | ⋯ | 4.493478 | 4.444656 | 4.124537 | 4.324093 | 4.085811 | 4.459766 | 4.302347 | 4.000000 | 4.103834 | 4.327282 |\n",
       "|  78 | 5.000000 | 4.187750 | 4.175230 | 4.041412 | 4.000000 | 4.020769 | 4.029830 | 4.025700 | 4.325832 | ⋯ | 4.418703 | 4.475935 | 4.000000 | 4.296748 | 4.083169 | 4.000000 | 4.281999 | 4.109372 | 4.105861 | 4.393282 |\n",
       "|  79 | 4.157982 | 4.133839 | 4.217204 | 4.018634 | 5.000000 | 4.046526 | 4.000000 | 4.019762 | 4.333526 | ⋯ | 5.000000 | 4.495459 | 4.103242 | 4.178205 | 4.000714 | 4.299257 | 4.145133 | 3.949826 | 4.056097 | 4.411000 |\n",
       "|  80 | 4.074668 | 4.000000 | 4.000000 | 3.912432 | 4.098775 | 4.000000 | 4.000000 | 4.000000 | 4.227488 | ⋯ | 4.197282 | 4.000000 | 4.000000 | 4.101380 | 4.000000 | 4.191542 | 4.057161 | 3.891621 | 3.967758 | 4.286487 |\n",
       "|  81 | 4.139362 | 4.133131 | 4.000000 | 3.967952 | 4.176122 | 3.984325 | 3.993349 | 3.994991 | 4.255816 | ⋯ | 5.000000 | 4.424676 | 4.076335 | 4.249052 | 4.037342 | 4.357688 | 4.183526 | 4.030250 | 4.049393 | 4.319982 |\n",
       "|  82 | 4.106573 | 4.073333 | 4.184284 | 4.000000 | 4.000000 | 4.004614 | 4.000000 | 3.987106 | 4.000000 | ⋯ | 4.174325 | 4.457737 | 4.037677 | 4.000000 | 3.934542 | 4.197588 | 4.061438 | 3.869541 | 3.999112 | 4.366365 |\n",
       "|  83 | 4.232994 | 5.000000 | 4.314547 | 4.090886 | 4.271866 | 4.130757 | 4.000000 | 4.102331 | 4.429285 | ⋯ | 4.325984 | 5.000000 | 4.000000 | 4.236641 | 4.061786 | 4.353483 | 4.000000 | 3.992996 | 4.126074 | 4.510634 |\n",
       "|  84 | 4.023314 | 4.017993 | 3.985881 | 3.887017 | 4.048872 | 3.853599 | 3.827069 | 3.841038 | 4.128642 | ⋯ | 4.247222 | 5.000000 | 3.976036 | 4.107973 | 3.900012 | 4.261181 | 4.104877 | 3.936240 | 4.000000 | 4.000000 |\n",
       "|  85 | 4.039004 | 4.000000 | 4.038749 | 3.885954 | 4.066738 | 3.883256 | 4.000000 | 3.885775 | 4.156837 | ⋯ | 4.243618 | 4.300631 | 3.976946 | 4.000000 | 3.918382 | 4.236443 | 4.000000 | 3.923943 | 3.944255 | 4.000000 |\n",
       "|  86 | 4.195044 | 4.170060 | 4.188710 | 4.037046 | 4.225261 | 4.034028 | 4.014141 | 4.018030 | 4.325581 | ⋯ | 4.372453 | 5.000000 | 4.136547 | 5.000000 | 4.057050 | 5.000000 | 4.000000 | 4.053550 | 4.000000 | 4.403320 |\n",
       "|  87 | 4.000000 | 4.157771 | 4.202123 | 4.021106 | 4.217466 | 4.048009 | 3.998247 | 4.009504 | 4.303229 | ⋯ | 4.375095 | 4.477506 | 5.000000 | 4.258517 | 4.059629 | 4.393175 | 4.205974 | 4.021079 | 4.083562 | 4.407873 |\n",
       "|  88 | 4.176203 | 5.000000 | 4.148172 | 3.992409 | 4.000000 | 3.979917 | 4.008584 | 4.000000 | 4.271601 | ⋯ | 4.449096 | 4.426350 | 4.097550 | 4.000000 | 4.067980 | 4.414304 | 4.248528 | 4.100261 | 4.000000 | 4.317610 |\n",
       "|  89 | 4.000000 | 4.014698 | 4.006650 | 3.875795 | 4.058062 | 3.858548 | 3.871516 | 3.868675 | 4.141781 | ⋯ | 4.230983 | 4.279983 | 4.000000 | 4.112579 | 3.914050 | 4.233366 | 4.094250 | 3.938001 | 3.936022 | 4.000000 |\n",
       "|  90 | 4.129004 | 4.116535 | 4.118961 | 3.961287 | 4.152930 | 3.952358 | 3.967025 | 3.969328 | 4.244335 | ⋯ | 4.356479 | 3.000000 | 4.053338 | 4.215717 | 4.003626 | 4.335693 | 4.179600 | 4.000000 | 4.027126 | 4.286291 |\n",
       "|  91 | 4.000000 | 4.000000 | 4.105858 | 3.924191 | 4.094790 | 3.936045 | 4.000000 | 3.931637 | 4.216984 | ⋯ | 4.000000 | 4.362025 | 4.002397 | 4.111169 | 4.000000 | 4.228866 | 4.073774 | 3.901808 | 3.967495 | 4.000000 |\n",
       "|  92 | 4.054661 | 4.030952 | 4.000000 | 4.000000 | 4.084406 | 3.945631 | 3.922091 | 3.931133 | 4.231651 | ⋯ | 4.152145 | 4.380638 | 3.990036 | 4.058591 | 4.000000 | 4.000000 | 4.000000 | 3.844869 | 3.951794 | 4.287563 |\n",
       "|  93 | 4.359446 | 4.329465 | 4.415650 | 4.194017 | 4.390211 | 4.000000 | 5.000000 | 4.213657 | 4.545998 | ⋯ | 3.000000 | 4.719197 | 4.277750 | 4.378105 | 4.181300 | 4.000000 | 5.000000 | 4.139343 | 4.240493 | 4.610371 |\n",
       "|  94 | 4.230030 | 4.000000 | 4.242782 | 4.082518 | 4.000000 | 4.084167 | 4.046770 | 4.058221 | 4.000000 | ⋯ | 4.411664 | 4.531965 | 4.000000 | 4.000000 | 4.087200 | 4.436666 | 4.000000 | 4.073902 | 4.000000 | 4.452151 |\n",
       "|  95 | 4.189360 | 3.000000 | 4.184897 | 4.040833 | 5.000000 | 4.033997 | 4.001038 | 4.011165 | 4.321589 | ⋯ | 4.383239 | 4.470975 | 4.140495 | 4.260073 | 4.054193 | 4.000000 | 5.000000 | 4.053788 | 4.089340 | 4.394764 |\n",
       "|  96 | 4.293832 | 4.252494 | 4.382021 | 4.143669 | 4.327906 | 4.188510 | 4.000000 | 4.163772 | 5.000000 | ⋯ | 4.345912 | 4.000000 | 4.220265 | 4.271009 | 4.000000 | 5.000000 | 4.236830 | 4.023659 | 4.175641 | 4.589025 |\n",
       "|  97 | 4.047719 | 4.000000 | 4.000000 | 3.930039 | 4.102568 | 4.000000 | 3.938427 | 4.000000 | 4.249924 | ⋯ | 4.140339 | 4.428882 | 4.000000 | 4.000000 | 3.906817 | 4.000000 | 3.995142 | 3.800264 | 3.965948 | 4.346976 |\n",
       "|  98 | 4.242840 | 4.243191 | 4.291618 | 4.092311 | 4.297219 | 4.123053 | 4.078340 | 4.000000 | 4.387812 | ⋯ | 4.481981 | 4.568336 | 4.212281 | 4.347269 | 4.000000 | 5.000000 | 4.282365 | 4.097415 | 4.000000 | 4.482033 |\n",
       "|  99 | 3.997692 | 3.968704 | 4.000000 | 5.000000 | 4.045236 | 3.954475 | 3.913683 | 3.919695 | 4.207058 | ⋯ | 4.036372 | 4.000000 | 3.949384 | 3.980478 | 5.000000 | 4.057045 | 3.912421 | 3.723846 | 3.908494 | 4.305744 |\n",
       "| 100 | 4.220608 | 4.203918 | 4.213967 | 4.055703 | 4.249177 | 4.048983 | 4.043795 | 4.048634 | 4.348086 | ⋯ | 4.432752 | 4.501554 | 4.153461 | 4.299151 | 4.085621 | 5.000000 | 5.000000 | 4.093845 | 4.115629 | 5.000000 |\n",
       "\n"
      ],
      "text/plain": [
       "    user_id tweet_id1 tweet_id2 tweet_id3 tweet_id4 tweet_id5 tweet_id6\n",
       "1    1      4.000000  4.275599  4.486264  4.195258  4.377076  4.292368 \n",
       "2    2      4.099943  4.051291  4.241676  5.000000  4.139287  5.000000 \n",
       "3    3      4.218906  4.000000  4.285257  4.063469  4.245586  4.089353 \n",
       "4    4      4.000000  4.007133  4.125069  3.904364  4.066030  4.000000 \n",
       "5    5      4.296748  4.263908  5.000000  4.159848  4.356704  4.254424 \n",
       "6    6      4.090419  4.084649  4.069908  3.929991  4.108621  3.905428 \n",
       "7    7      4.200027  4.178940  4.138782  4.031380  4.225726  4.000443 \n",
       "8    8      4.212715  4.203578  4.196944  4.037774  4.000000  4.037262 \n",
       "9    9      4.189225  4.168506  5.000000  4.042051  4.228483  4.055007 \n",
       "10  10      4.146551  4.104795  4.307242  4.000000  4.198207  4.000000 \n",
       "11  11      4.049903  4.011228  4.189672  3.912563  4.089108  3.992954 \n",
       "12  12      4.227723  4.219071  4.199125  4.058479  4.250931  4.033633 \n",
       "13  13      4.171199  4.145570  4.389896  4.052905  4.230862  4.170733 \n",
       "14  14      4.116062  4.094186  4.125871  3.965818  4.148576  3.971904 \n",
       "15  15      4.050850  4.000000  4.000000  3.920228  4.095441  4.000000 \n",
       "16  16      4.186645  4.155751  5.000000  4.054947  4.222054  4.000000 \n",
       "17  17      4.185030  4.183732  4.185920  4.034989  4.224157  4.030407 \n",
       "18  18      3.000000  4.000000  4.113031  3.897449  4.054963  4.000000 \n",
       "19  19      4.089833  4.000000  4.090726  3.934472  4.112265  3.934847 \n",
       "20  20      4.107061  4.081182  5.000000  3.990313  4.172225  4.000000 \n",
       "21  21      4.148660  4.134851  4.235977  4.020494  4.199897  4.067061 \n",
       "22  22      4.000000  4.088694  4.120681  4.000000  4.134001  3.961273 \n",
       "23  23      4.143282  4.119689  4.166734  3.986510  4.157589  3.982621 \n",
       "24  24      4.127935  4.000000  4.000000  4.009908  4.182372  4.132312 \n",
       "25  25      4.093223  4.065288  4.222327  3.974657  4.144199  4.045791 \n",
       "26  26      4.259635  4.000000  4.216537  4.084986  4.282270  4.054576 \n",
       "27  27      4.127678  4.000000  4.000000  4.000000  4.185593  4.111298 \n",
       "28  28      4.120380  4.112270  4.119156  4.000000  4.150080  4.000000 \n",
       "29  29      4.146347  4.134446  5.000000  3.992332  4.169169  3.978167 \n",
       "30  30      5.000000  4.339340  4.336565  4.183149  4.385008  4.171044 \n",
       "⋮   ⋮       ⋮         ⋮         ⋮         ⋮         ⋮         ⋮        \n",
       "71   71     4.000000  4.090517  4.211473  3.966183  4.143328  4.016352 \n",
       "72   72     4.222471  4.209574  4.224513  4.059289  4.251923  4.000000 \n",
       "73   73     4.261481  4.243773  4.272665  4.080563  4.285702  4.083966 \n",
       "74   74     6.000000  5.000000  4.000000  4.150807  4.354043  4.146642 \n",
       "75   75     4.000000  4.052881  4.222662  3.000000  4.124272  4.025434 \n",
       "76   76     4.288495  4.274507  4.302277  4.000000  5.000000  4.000000 \n",
       "77   77     3.000000  4.206534  4.160269  4.000000  4.229414  3.993146 \n",
       "78   78     5.000000  4.187750  4.175230  4.041412  4.000000  4.020769 \n",
       "79   79     4.157982  4.133839  4.217204  4.018634  5.000000  4.046526 \n",
       "80   80     4.074668  4.000000  4.000000  3.912432  4.098775  4.000000 \n",
       "81   81     4.139362  4.133131  4.000000  3.967952  4.176122  3.984325 \n",
       "82   82     4.106573  4.073333  4.184284  4.000000  4.000000  4.004614 \n",
       "83   83     4.232994  5.000000  4.314547  4.090886  4.271866  4.130757 \n",
       "84   84     4.023314  4.017993  3.985881  3.887017  4.048872  3.853599 \n",
       "85   85     4.039004  4.000000  4.038749  3.885954  4.066738  3.883256 \n",
       "86   86     4.195044  4.170060  4.188710  4.037046  4.225261  4.034028 \n",
       "87   87     4.000000  4.157771  4.202123  4.021106  4.217466  4.048009 \n",
       "88   88     4.176203  5.000000  4.148172  3.992409  4.000000  3.979917 \n",
       "89   89     4.000000  4.014698  4.006650  3.875795  4.058062  3.858548 \n",
       "90   90     4.129004  4.116535  4.118961  3.961287  4.152930  3.952358 \n",
       "91   91     4.000000  4.000000  4.105858  3.924191  4.094790  3.936045 \n",
       "92   92     4.054661  4.030952  4.000000  4.000000  4.084406  3.945631 \n",
       "93   93     4.359446  4.329465  4.415650  4.194017  4.390211  4.000000 \n",
       "94   94     4.230030  4.000000  4.242782  4.082518  4.000000  4.084167 \n",
       "95   95     4.189360  3.000000  4.184897  4.040833  5.000000  4.033997 \n",
       "96   96     4.293832  4.252494  4.382021  4.143669  4.327906  4.188510 \n",
       "97   97     4.047719  4.000000  4.000000  3.930039  4.102568  4.000000 \n",
       "98   98     4.242840  4.243191  4.291618  4.092311  4.297219  4.123053 \n",
       "99   99     3.997692  3.968704  4.000000  5.000000  4.045236  3.954475 \n",
       "100 100     4.220608  4.203918  4.213967  4.055703  4.249177  4.048983 \n",
       "    tweet_id7 tweet_id8 tweet_id9 ⋯ tweet_id243 tweet_id244 tweet_id245\n",
       "1   4.197019  4.211802  4.575570  ⋯ 3.000000    3.000000    4.285399   \n",
       "2   4.010329  4.012177  4.332399  ⋯ 4.072271    4.000000    4.035197   \n",
       "3   4.000000  4.093790  4.405373  ⋯ 4.335568    4.566427    4.133366   \n",
       "4   3.928132  4.000000  4.233926  ⋯ 4.092414    4.000000    3.963133   \n",
       "5   4.187782  4.197226  4.533062  ⋯ 4.341252    4.744712    4.000000   \n",
       "6   3.923140  4.000000  4.204069  ⋯ 5.000000    4.333812    4.010338   \n",
       "7   3.990084  3.991858  4.291015  ⋯ 4.438071    4.435516    4.142715   \n",
       "8   4.000000  4.036892  4.314301  ⋯ 5.000000    4.480993    4.157468   \n",
       "9   4.015633  4.024074  4.334850  ⋯ 4.355938    4.497169    4.000000   \n",
       "10  4.045363  4.055967  4.393816  ⋯ 4.119823    4.584803    4.105453   \n",
       "11  3.971582  3.972419  4.267295  ⋯ 5.000000    5.000000    3.981221   \n",
       "12  4.041238  4.047894  4.341894  ⋯ 4.480115    4.483934    4.153024   \n",
       "13  4.108280  4.122970  4.444223  ⋯ 4.169114    4.650642    4.123637   \n",
       "14  4.000000  3.954513  4.249899  ⋯ 4.284327    4.403821    4.062023   \n",
       "15  3.958724  3.964550  4.260812  ⋯ 4.093608    4.442673    4.000000   \n",
       "16  4.060580  4.071872  4.403103  ⋯ 4.236924    4.568130    4.121214   \n",
       "17  4.000724  4.014381  4.308935  ⋯ 4.432055    4.461188    4.000000   \n",
       "18  4.000000  3.924037  4.234737  ⋯ 4.038341    4.385779    3.948884   \n",
       "19  4.000000  4.000000  4.224581  ⋯ 4.223703    4.371787    4.019142   \n",
       "20  4.028593  4.041149  4.350482  ⋯ 3.000000    4.558746    4.079580   \n",
       "21  4.005965  4.000000  4.331768  ⋯ 4.278982    4.505697    4.116888   \n",
       "22  3.939996  3.949640  4.243253  ⋯ 4.280687    4.390011    4.045994   \n",
       "23  3.999145  4.000000  4.304121  ⋯ 4.282790    4.441343    4.047209   \n",
       "24  4.073425  4.082226  4.406816  ⋯ 4.069944    4.612852    4.073615   \n",
       "25  3.979217  3.991779  4.308287  ⋯ 4.135575    4.488680    4.057260   \n",
       "26  4.063148  4.068116  4.365432  ⋯ 4.000000    4.508757    4.185124   \n",
       "27  4.000000  4.061098  4.374141  ⋯ 4.145226    4.000000    4.086139   \n",
       "28  3.948017  3.957977  4.246541  ⋯ 4.000000    4.389084    4.061604   \n",
       "29  3.976671  3.985544  4.280780  ⋯ 4.347276    4.418036    4.073180   \n",
       "30  4.150232  4.160098  4.000000  ⋯ 4.595236    3.000000    4.292505   \n",
       "⋮   ⋮         ⋮         ⋮         ⋱ ⋮           ⋮           ⋮          \n",
       "71  3.998462  4.000000  4.300446  ⋯ 4.220531    4.468225    4.038496   \n",
       "72  4.050138  4.000000  4.000000  ⋯ 4.439144    4.000000    4.154625   \n",
       "73  4.108879  4.108520  4.000000  ⋯ 4.000000    4.560041    4.171819   \n",
       "74  4.000000  4.000000  4.456143  ⋯ 4.000000    4.617983    4.254132   \n",
       "75  4.000000  4.004342  5.000000  ⋯ 4.094002    6.000000    4.016867   \n",
       "76  4.000000  4.120809  4.420841  ⋯ 4.516740    4.595220    4.232560   \n",
       "77  4.000000  4.029280  4.310623  ⋯ 4.493478    4.444656    4.124537   \n",
       "78  4.029830  4.025700  4.325832  ⋯ 4.418703    4.475935    4.000000   \n",
       "79  4.000000  4.019762  4.333526  ⋯ 5.000000    4.495459    4.103242   \n",
       "80  4.000000  4.000000  4.227488  ⋯ 4.197282    4.000000    4.000000   \n",
       "81  3.993349  3.994991  4.255816  ⋯ 5.000000    4.424676    4.076335   \n",
       "82  4.000000  3.987106  4.000000  ⋯ 4.174325    4.457737    4.037677   \n",
       "83  4.000000  4.102331  4.429285  ⋯ 4.325984    5.000000    4.000000   \n",
       "84  3.827069  3.841038  4.128642  ⋯ 4.247222    5.000000    3.976036   \n",
       "85  4.000000  3.885775  4.156837  ⋯ 4.243618    4.300631    3.976946   \n",
       "86  4.014141  4.018030  4.325581  ⋯ 4.372453    5.000000    4.136547   \n",
       "87  3.998247  4.009504  4.303229  ⋯ 4.375095    4.477506    5.000000   \n",
       "88  4.008584  4.000000  4.271601  ⋯ 4.449096    4.426350    4.097550   \n",
       "89  3.871516  3.868675  4.141781  ⋯ 4.230983    4.279983    4.000000   \n",
       "90  3.967025  3.969328  4.244335  ⋯ 4.356479    3.000000    4.053338   \n",
       "91  4.000000  3.931637  4.216984  ⋯ 4.000000    4.362025    4.002397   \n",
       "92  3.922091  3.931133  4.231651  ⋯ 4.152145    4.380638    3.990036   \n",
       "93  5.000000  4.213657  4.545998  ⋯ 3.000000    4.719197    4.277750   \n",
       "94  4.046770  4.058221  4.000000  ⋯ 4.411664    4.531965    4.000000   \n",
       "95  4.001038  4.011165  4.321589  ⋯ 4.383239    4.470975    4.140495   \n",
       "96  4.000000  4.163772  5.000000  ⋯ 4.345912    4.000000    4.220265   \n",
       "97  3.938427  4.000000  4.249924  ⋯ 4.140339    4.428882    4.000000   \n",
       "98  4.078340  4.000000  4.387812  ⋯ 4.481981    4.568336    4.212281   \n",
       "99  3.913683  3.919695  4.207058  ⋯ 4.036372    4.000000    3.949384   \n",
       "100 4.043795  4.048634  4.348086  ⋯ 4.432752    4.501554    4.153461   \n",
       "    tweet_id246 tweet_id247 tweet_id248 tweet_id249 tweet_id250 tweet_id251\n",
       "1   4.265972    4.125198    4.378028    4.210076    3.964186    4.213996   \n",
       "2   4.037530    3.910022    4.116840    3.000000    3.780839    3.991964   \n",
       "3   4.226872    4.042293    4.332026    4.187989    4.000569    4.104434   \n",
       "4   4.014555    3.860950    4.107394    3.981695    3.796278    3.931175   \n",
       "5   4.000000    4.129161    4.000000    4.209538    3.986037    4.199452   \n",
       "6   4.174112    3.958018    4.300354    4.149464    3.995601    3.987016   \n",
       "7   4.304623    4.081903    4.000000    4.294304    4.120719    4.096274   \n",
       "8   4.337691    4.000000    4.468745    4.287477    4.124598    4.119915   \n",
       "9   4.248432    4.053973    4.385424    4.218429    4.026618    5.000000   \n",
       "10  4.086381    3.958770    4.182173    4.036679    3.810692    4.000000   \n",
       "11  4.013270    3.878394    4.082008    3.949739    3.760074    3.948404   \n",
       "12  4.323689    4.000000    4.463869    4.299062    4.131608    4.121043   \n",
       "13  4.116849    3.986957    4.188934    4.029525    3.812430    4.000000   \n",
       "14  4.175620    3.983690    4.303823    4.147872    3.969066    4.017541   \n",
       "15  4.032612    3.890718    4.114561    3.970305    3.778157    3.956123   \n",
       "16  4.157663    3.996785    4.267360    4.124876    4.000000    4.000000   \n",
       "17  4.286663    4.000000    4.432398    4.250999    4.074020    4.000000   \n",
       "18  3.982127    4.000000    4.071027    3.963864    3.773124    5.000000   \n",
       "19  4.126196    3.942206    4.245805    4.000000    4.000000    3.981691   \n",
       "20  4.082152    3.951906    4.162861    3.996008    3.784117    4.024231   \n",
       "21  4.183574    4.008608    5.000000    5.000000    3.933517    4.000000   \n",
       "22  5.000000    3.965362    4.288499    4.131631    3.954888    4.004736   \n",
       "23  4.160176    3.967830    4.271714    4.140571    4.000000    4.025140   \n",
       "24  4.043599    3.931112    5.000000    3.965277    3.745359    4.028204   \n",
       "25  4.075888    3.931323    4.179430    4.024547    3.815842    4.001260   \n",
       "26  4.364202    4.130002    4.509802    4.342784    4.174229    4.151305   \n",
       "27  5.000000    3.959205    4.172748    4.013904    3.803450    4.037129   \n",
       "28  4.199208    4.000000    4.333529    4.000000    4.001119    5.000000   \n",
       "29  4.208553    4.000352    4.340141    5.000000    4.015993    4.040306   \n",
       "30  4.447157    4.216122    4.601339    4.419003    4.229664    4.244949   \n",
       "⋮   ⋮           ⋮           ⋮           ⋮           ⋮           ⋮          \n",
       "71  4.117059    3.946916    4.209854    4.056857    4.000000    4.007415   \n",
       "72  4.300711    4.000000    4.432850    4.267559    4.092248    4.118441   \n",
       "73  4.335929    4.119628    4.448264    4.289420    4.123407    4.150302   \n",
       "74  4.000000    5.000000    4.548787    4.373672    4.191400    4.215088   \n",
       "75  4.035169    3.896151    4.118667    3.991838    3.790993    3.980920   \n",
       "76  4.384038    4.167148    4.000000    4.334311    4.000000    4.190052   \n",
       "77  4.324093    4.085811    4.459766    4.302347    4.000000    4.103834   \n",
       "78  4.296748    4.083169    4.000000    4.281999    4.109372    4.105861   \n",
       "79  4.178205    4.000714    4.299257    4.145133    3.949826    4.056097   \n",
       "80  4.101380    4.000000    4.191542    4.057161    3.891621    3.967758   \n",
       "81  4.249052    4.037342    4.357688    4.183526    4.030250    4.049393   \n",
       "82  4.000000    3.934542    4.197588    4.061438    3.869541    3.999112   \n",
       "83  4.236641    4.061786    4.353483    4.000000    3.992996    4.126074   \n",
       "84  4.107973    3.900012    4.261181    4.104877    3.936240    4.000000   \n",
       "85  4.000000    3.918382    4.236443    4.000000    3.923943    3.944255   \n",
       "86  5.000000    4.057050    5.000000    4.000000    4.053550    4.000000   \n",
       "87  4.258517    4.059629    4.393175    4.205974    4.021079    4.083562   \n",
       "88  4.000000    4.067980    4.414304    4.248528    4.100261    4.000000   \n",
       "89  4.112579    3.914050    4.233366    4.094250    3.938001    3.936022   \n",
       "90  4.215717    4.003626    4.335693    4.179600    4.000000    4.027126   \n",
       "91  4.111169    4.000000    4.228866    4.073774    3.901808    3.967495   \n",
       "92  4.058591    4.000000    4.000000    4.000000    3.844869    3.951794   \n",
       "93  4.378105    4.181300    4.000000    5.000000    4.139343    4.240493   \n",
       "94  4.000000    4.087200    4.436666    4.000000    4.073902    4.000000   \n",
       "95  4.260073    4.054193    4.000000    5.000000    4.053788    4.089340   \n",
       "96  4.271009    4.000000    5.000000    4.236830    4.023659    4.175641   \n",
       "97  4.000000    3.906817    4.000000    3.995142    3.800264    3.965948   \n",
       "98  4.347269    4.000000    5.000000    4.282365    4.097415    4.000000   \n",
       "99  3.980478    5.000000    4.057045    3.912421    3.723846    3.908494   \n",
       "100 4.299151    4.085621    5.000000    5.000000    4.093845    4.115629   \n",
       "    tweet_id252\n",
       "1   5.000000   \n",
       "2   4.434196   \n",
       "3   4.450416   \n",
       "4   4.287836   \n",
       "5   4.663526   \n",
       "6   4.000000   \n",
       "7   4.365315   \n",
       "8   4.000000   \n",
       "9   4.424945   \n",
       "10  5.000000   \n",
       "11  4.355422   \n",
       "12  4.377591   \n",
       "13  4.546247   \n",
       "14  4.326942   \n",
       "15  4.354111   \n",
       "16  5.000000   \n",
       "17  4.373631   \n",
       "18  4.294007   \n",
       "19  4.292149   \n",
       "20  4.480082   \n",
       "21  4.000000   \n",
       "22  4.301419   \n",
       "23  4.322167   \n",
       "24  4.517913   \n",
       "25  4.415670   \n",
       "26  4.406737   \n",
       "27  4.485031   \n",
       "28  4.295402   \n",
       "29  4.313831   \n",
       "30  4.546466   \n",
       "⋮   ⋮          \n",
       "71  4.354662   \n",
       "72  5.000000   \n",
       "73  4.440020   \n",
       "74  4.516077   \n",
       "75  4.388942   \n",
       "76  4.503704   \n",
       "77  4.327282   \n",
       "78  4.393282   \n",
       "79  4.411000   \n",
       "80  4.286487   \n",
       "81  4.319982   \n",
       "82  4.366365   \n",
       "83  4.510634   \n",
       "84  4.000000   \n",
       "85  4.000000   \n",
       "86  4.403320   \n",
       "87  4.407873   \n",
       "88  4.317610   \n",
       "89  4.000000   \n",
       "90  4.286291   \n",
       "91  4.000000   \n",
       "92  4.287563   \n",
       "93  4.610371   \n",
       "94  4.452151   \n",
       "95  4.394764   \n",
       "96  4.589025   \n",
       "97  4.346976   \n",
       "98  4.482033   \n",
       "99  4.305744   \n",
       "100 5.000000   "
      ]
     },
     "metadata": {},
     "output_type": "display_data"
    }
   ],
   "source": [
    "# add predicted rating values to the original data\n",
    "data_pred$rating <- prediction\n",
    "data_pred_bias$rating <- prediction_bias\n",
    "\n",
    "rbind(data_pred, data) %>% spread(., tweet_id, rating, sep = \"\")"
   ]
  },
  {
   "cell_type": "code",
   "execution_count": 22,
   "metadata": {
    "execution": {
     "iopub.execute_input": "2020-12-07T10:31:32.152027Z",
     "iopub.status.busy": "2020-12-07T10:31:32.150488Z",
     "iopub.status.idle": "2020-12-07T10:31:32.394346Z",
     "shell.execute_reply": "2020-12-07T10:31:32.393380Z"
    },
    "papermill": {
     "duration": 0.279223,
     "end_time": "2020-12-07T10:31:32.394474",
     "exception": false,
     "start_time": "2020-12-07T10:31:32.115251",
     "status": "completed"
    },
    "tags": []
   },
   "outputs": [
    {
     "data": {
      "text/html": [
       "<table class=\"dataframe\">\n",
       "<caption>A data.frame: 100 × 253</caption>\n",
       "<thead>\n",
       "\t<tr><th scope=col>user_id</th><th scope=col>tweet_id1</th><th scope=col>tweet_id2</th><th scope=col>tweet_id3</th><th scope=col>tweet_id4</th><th scope=col>tweet_id5</th><th scope=col>tweet_id6</th><th scope=col>tweet_id7</th><th scope=col>tweet_id8</th><th scope=col>tweet_id9</th><th scope=col>⋯</th><th scope=col>tweet_id243</th><th scope=col>tweet_id244</th><th scope=col>tweet_id245</th><th scope=col>tweet_id246</th><th scope=col>tweet_id247</th><th scope=col>tweet_id248</th><th scope=col>tweet_id249</th><th scope=col>tweet_id250</th><th scope=col>tweet_id251</th><th scope=col>tweet_id252</th></tr>\n",
       "\t<tr><th scope=col>&lt;int&gt;</th><th scope=col>&lt;dbl&gt;</th><th scope=col>&lt;dbl&gt;</th><th scope=col>&lt;dbl&gt;</th><th scope=col>&lt;dbl&gt;</th><th scope=col>&lt;dbl&gt;</th><th scope=col>&lt;dbl&gt;</th><th scope=col>&lt;dbl&gt;</th><th scope=col>&lt;dbl&gt;</th><th scope=col>&lt;dbl&gt;</th><th scope=col>⋯</th><th scope=col>&lt;dbl&gt;</th><th scope=col>&lt;dbl&gt;</th><th scope=col>&lt;dbl&gt;</th><th scope=col>&lt;dbl&gt;</th><th scope=col>&lt;dbl&gt;</th><th scope=col>&lt;dbl&gt;</th><th scope=col>&lt;dbl&gt;</th><th scope=col>&lt;dbl&gt;</th><th scope=col>&lt;dbl&gt;</th><th scope=col>&lt;dbl&gt;</th></tr>\n",
       "</thead>\n",
       "<tbody>\n",
       "\t<tr><td> 1</td><td>4</td><td>0</td><td>0</td><td>0</td><td>0</td><td>0</td><td>0</td><td>0</td><td>0</td><td>⋯</td><td>3</td><td>3</td><td>0</td><td>0</td><td>0</td><td>0</td><td>0</td><td>0</td><td>0</td><td>5</td></tr>\n",
       "\t<tr><td> 2</td><td>0</td><td>0</td><td>0</td><td>5</td><td>0</td><td>5</td><td>0</td><td>0</td><td>0</td><td>⋯</td><td>0</td><td>4</td><td>0</td><td>0</td><td>0</td><td>0</td><td>3</td><td>0</td><td>0</td><td>0</td></tr>\n",
       "\t<tr><td> 3</td><td>0</td><td>4</td><td>0</td><td>0</td><td>0</td><td>0</td><td>4</td><td>0</td><td>0</td><td>⋯</td><td>0</td><td>0</td><td>0</td><td>0</td><td>0</td><td>0</td><td>0</td><td>0</td><td>0</td><td>0</td></tr>\n",
       "\t<tr><td> 4</td><td>4</td><td>0</td><td>0</td><td>0</td><td>0</td><td>4</td><td>0</td><td>4</td><td>0</td><td>⋯</td><td>0</td><td>4</td><td>0</td><td>0</td><td>0</td><td>0</td><td>0</td><td>0</td><td>0</td><td>0</td></tr>\n",
       "\t<tr><td> 5</td><td>0</td><td>0</td><td>5</td><td>0</td><td>0</td><td>0</td><td>0</td><td>0</td><td>0</td><td>⋯</td><td>0</td><td>0</td><td>4</td><td>4</td><td>0</td><td>4</td><td>0</td><td>0</td><td>0</td><td>0</td></tr>\n",
       "\t<tr><td> 6</td><td>0</td><td>0</td><td>0</td><td>0</td><td>0</td><td>0</td><td>0</td><td>4</td><td>0</td><td>⋯</td><td>5</td><td>0</td><td>0</td><td>0</td><td>0</td><td>0</td><td>0</td><td>0</td><td>0</td><td>4</td></tr>\n",
       "\t<tr><td> 7</td><td>0</td><td>0</td><td>0</td><td>0</td><td>0</td><td>0</td><td>0</td><td>0</td><td>0</td><td>⋯</td><td>0</td><td>0</td><td>0</td><td>0</td><td>0</td><td>4</td><td>0</td><td>0</td><td>0</td><td>0</td></tr>\n",
       "\t<tr><td> 8</td><td>0</td><td>0</td><td>0</td><td>0</td><td>4</td><td>0</td><td>4</td><td>0</td><td>0</td><td>⋯</td><td>5</td><td>0</td><td>0</td><td>0</td><td>4</td><td>0</td><td>0</td><td>0</td><td>0</td><td>4</td></tr>\n",
       "\t<tr><td> 9</td><td>0</td><td>0</td><td>5</td><td>0</td><td>0</td><td>0</td><td>0</td><td>0</td><td>0</td><td>⋯</td><td>0</td><td>0</td><td>4</td><td>0</td><td>0</td><td>0</td><td>0</td><td>0</td><td>5</td><td>0</td></tr>\n",
       "\t<tr><td>10</td><td>0</td><td>0</td><td>0</td><td>4</td><td>0</td><td>4</td><td>0</td><td>0</td><td>0</td><td>⋯</td><td>0</td><td>0</td><td>0</td><td>0</td><td>0</td><td>0</td><td>0</td><td>0</td><td>4</td><td>5</td></tr>\n",
       "\t<tr><td>11</td><td>0</td><td>0</td><td>0</td><td>0</td><td>0</td><td>0</td><td>0</td><td>0</td><td>0</td><td>⋯</td><td>5</td><td>5</td><td>0</td><td>0</td><td>0</td><td>0</td><td>0</td><td>0</td><td>0</td><td>0</td></tr>\n",
       "\t<tr><td>12</td><td>0</td><td>0</td><td>0</td><td>0</td><td>0</td><td>0</td><td>0</td><td>0</td><td>0</td><td>⋯</td><td>0</td><td>0</td><td>0</td><td>0</td><td>4</td><td>0</td><td>0</td><td>0</td><td>0</td><td>0</td></tr>\n",
       "\t<tr><td>13</td><td>0</td><td>0</td><td>0</td><td>0</td><td>0</td><td>0</td><td>0</td><td>0</td><td>0</td><td>⋯</td><td>0</td><td>0</td><td>0</td><td>0</td><td>0</td><td>0</td><td>0</td><td>0</td><td>4</td><td>0</td></tr>\n",
       "\t<tr><td>14</td><td>0</td><td>0</td><td>0</td><td>0</td><td>0</td><td>0</td><td>4</td><td>0</td><td>0</td><td>⋯</td><td>0</td><td>0</td><td>0</td><td>0</td><td>0</td><td>0</td><td>0</td><td>0</td><td>0</td><td>0</td></tr>\n",
       "\t<tr><td>15</td><td>0</td><td>4</td><td>4</td><td>0</td><td>0</td><td>4</td><td>0</td><td>0</td><td>0</td><td>⋯</td><td>0</td><td>0</td><td>4</td><td>0</td><td>0</td><td>0</td><td>0</td><td>0</td><td>0</td><td>0</td></tr>\n",
       "\t<tr><td>16</td><td>0</td><td>0</td><td>5</td><td>0</td><td>0</td><td>4</td><td>0</td><td>0</td><td>0</td><td>⋯</td><td>0</td><td>0</td><td>0</td><td>0</td><td>0</td><td>0</td><td>0</td><td>4</td><td>4</td><td>5</td></tr>\n",
       "\t<tr><td>17</td><td>0</td><td>0</td><td>0</td><td>0</td><td>0</td><td>0</td><td>0</td><td>0</td><td>0</td><td>⋯</td><td>0</td><td>0</td><td>4</td><td>0</td><td>4</td><td>0</td><td>0</td><td>0</td><td>4</td><td>0</td></tr>\n",
       "\t<tr><td>18</td><td>3</td><td>4</td><td>0</td><td>0</td><td>0</td><td>4</td><td>4</td><td>0</td><td>0</td><td>⋯</td><td>0</td><td>0</td><td>0</td><td>0</td><td>4</td><td>0</td><td>0</td><td>0</td><td>5</td><td>0</td></tr>\n",
       "\t<tr><td>19</td><td>0</td><td>4</td><td>0</td><td>0</td><td>0</td><td>0</td><td>4</td><td>4</td><td>0</td><td>⋯</td><td>0</td><td>0</td><td>0</td><td>0</td><td>0</td><td>0</td><td>4</td><td>4</td><td>0</td><td>0</td></tr>\n",
       "\t<tr><td>20</td><td>0</td><td>0</td><td>5</td><td>0</td><td>0</td><td>4</td><td>0</td><td>0</td><td>0</td><td>⋯</td><td>3</td><td>0</td><td>0</td><td>0</td><td>0</td><td>0</td><td>0</td><td>0</td><td>0</td><td>0</td></tr>\n",
       "\t<tr><td>21</td><td>0</td><td>0</td><td>0</td><td>0</td><td>0</td><td>0</td><td>0</td><td>4</td><td>0</td><td>⋯</td><td>0</td><td>0</td><td>0</td><td>0</td><td>0</td><td>5</td><td>5</td><td>0</td><td>4</td><td>4</td></tr>\n",
       "\t<tr><td>22</td><td>4</td><td>0</td><td>0</td><td>4</td><td>0</td><td>0</td><td>0</td><td>0</td><td>0</td><td>⋯</td><td>0</td><td>0</td><td>0</td><td>5</td><td>0</td><td>0</td><td>0</td><td>0</td><td>0</td><td>0</td></tr>\n",
       "\t<tr><td>23</td><td>0</td><td>0</td><td>0</td><td>0</td><td>0</td><td>0</td><td>0</td><td>4</td><td>0</td><td>⋯</td><td>0</td><td>0</td><td>0</td><td>0</td><td>0</td><td>0</td><td>0</td><td>4</td><td>0</td><td>0</td></tr>\n",
       "\t<tr><td>24</td><td>0</td><td>4</td><td>4</td><td>0</td><td>0</td><td>0</td><td>0</td><td>0</td><td>0</td><td>⋯</td><td>0</td><td>0</td><td>0</td><td>0</td><td>0</td><td>5</td><td>0</td><td>0</td><td>0</td><td>0</td></tr>\n",
       "\t<tr><td>25</td><td>0</td><td>0</td><td>0</td><td>0</td><td>0</td><td>0</td><td>0</td><td>0</td><td>0</td><td>⋯</td><td>0</td><td>0</td><td>0</td><td>0</td><td>0</td><td>0</td><td>0</td><td>0</td><td>0</td><td>0</td></tr>\n",
       "\t<tr><td>26</td><td>0</td><td>4</td><td>0</td><td>0</td><td>0</td><td>0</td><td>0</td><td>0</td><td>0</td><td>⋯</td><td>4</td><td>0</td><td>0</td><td>0</td><td>0</td><td>0</td><td>0</td><td>0</td><td>0</td><td>0</td></tr>\n",
       "\t<tr><td>27</td><td>0</td><td>4</td><td>4</td><td>4</td><td>0</td><td>0</td><td>4</td><td>0</td><td>0</td><td>⋯</td><td>0</td><td>4</td><td>0</td><td>5</td><td>0</td><td>0</td><td>0</td><td>0</td><td>0</td><td>0</td></tr>\n",
       "\t<tr><td>28</td><td>0</td><td>0</td><td>0</td><td>4</td><td>0</td><td>4</td><td>0</td><td>0</td><td>0</td><td>⋯</td><td>4</td><td>0</td><td>0</td><td>0</td><td>4</td><td>0</td><td>4</td><td>0</td><td>5</td><td>0</td></tr>\n",
       "\t<tr><td>29</td><td>0</td><td>0</td><td>5</td><td>0</td><td>0</td><td>0</td><td>0</td><td>0</td><td>0</td><td>⋯</td><td>0</td><td>0</td><td>0</td><td>0</td><td>0</td><td>0</td><td>5</td><td>0</td><td>0</td><td>0</td></tr>\n",
       "\t<tr><td>30</td><td>5</td><td>0</td><td>0</td><td>0</td><td>0</td><td>0</td><td>0</td><td>0</td><td>4</td><td>⋯</td><td>0</td><td>3</td><td>0</td><td>0</td><td>0</td><td>0</td><td>0</td><td>0</td><td>0</td><td>0</td></tr>\n",
       "\t<tr><td>⋮</td><td>⋮</td><td>⋮</td><td>⋮</td><td>⋮</td><td>⋮</td><td>⋮</td><td>⋮</td><td>⋮</td><td>⋮</td><td>⋱</td><td>⋮</td><td>⋮</td><td>⋮</td><td>⋮</td><td>⋮</td><td>⋮</td><td>⋮</td><td>⋮</td><td>⋮</td><td>⋮</td></tr>\n",
       "\t<tr><td> 71</td><td>4</td><td>0</td><td>0</td><td>0</td><td>0</td><td>0</td><td>0</td><td>4</td><td>0</td><td>⋯</td><td>0</td><td>0</td><td>0</td><td>0</td><td>0</td><td>0</td><td>0</td><td>4</td><td>0</td><td>0</td></tr>\n",
       "\t<tr><td> 72</td><td>0</td><td>0</td><td>0</td><td>0</td><td>0</td><td>4</td><td>0</td><td>4</td><td>4</td><td>⋯</td><td>0</td><td>4</td><td>0</td><td>0</td><td>4</td><td>0</td><td>0</td><td>0</td><td>0</td><td>5</td></tr>\n",
       "\t<tr><td> 73</td><td>0</td><td>0</td><td>0</td><td>0</td><td>0</td><td>0</td><td>0</td><td>0</td><td>4</td><td>⋯</td><td>4</td><td>0</td><td>0</td><td>0</td><td>0</td><td>0</td><td>0</td><td>0</td><td>0</td><td>0</td></tr>\n",
       "\t<tr><td> 74</td><td>6</td><td>5</td><td>4</td><td>0</td><td>0</td><td>0</td><td>4</td><td>4</td><td>0</td><td>⋯</td><td>4</td><td>0</td><td>0</td><td>4</td><td>5</td><td>0</td><td>0</td><td>0</td><td>0</td><td>0</td></tr>\n",
       "\t<tr><td> 75</td><td>4</td><td>0</td><td>0</td><td>3</td><td>0</td><td>0</td><td>4</td><td>0</td><td>5</td><td>⋯</td><td>0</td><td>6</td><td>0</td><td>0</td><td>0</td><td>0</td><td>0</td><td>0</td><td>0</td><td>0</td></tr>\n",
       "\t<tr><td> 76</td><td>0</td><td>0</td><td>0</td><td>4</td><td>5</td><td>4</td><td>4</td><td>0</td><td>0</td><td>⋯</td><td>0</td><td>0</td><td>0</td><td>0</td><td>0</td><td>4</td><td>0</td><td>4</td><td>0</td><td>0</td></tr>\n",
       "\t<tr><td> 77</td><td>3</td><td>0</td><td>0</td><td>4</td><td>0</td><td>0</td><td>4</td><td>0</td><td>0</td><td>⋯</td><td>0</td><td>0</td><td>0</td><td>0</td><td>0</td><td>0</td><td>0</td><td>4</td><td>0</td><td>0</td></tr>\n",
       "\t<tr><td> 78</td><td>5</td><td>0</td><td>0</td><td>0</td><td>4</td><td>0</td><td>0</td><td>0</td><td>0</td><td>⋯</td><td>0</td><td>0</td><td>4</td><td>0</td><td>0</td><td>4</td><td>0</td><td>0</td><td>0</td><td>0</td></tr>\n",
       "\t<tr><td> 79</td><td>0</td><td>0</td><td>0</td><td>0</td><td>5</td><td>0</td><td>4</td><td>0</td><td>0</td><td>⋯</td><td>5</td><td>0</td><td>0</td><td>0</td><td>0</td><td>0</td><td>0</td><td>0</td><td>0</td><td>0</td></tr>\n",
       "\t<tr><td> 80</td><td>0</td><td>4</td><td>4</td><td>0</td><td>0</td><td>4</td><td>4</td><td>4</td><td>0</td><td>⋯</td><td>0</td><td>4</td><td>4</td><td>0</td><td>4</td><td>0</td><td>0</td><td>0</td><td>0</td><td>0</td></tr>\n",
       "\t<tr><td> 81</td><td>0</td><td>0</td><td>4</td><td>0</td><td>0</td><td>0</td><td>0</td><td>0</td><td>0</td><td>⋯</td><td>5</td><td>0</td><td>0</td><td>0</td><td>0</td><td>0</td><td>0</td><td>0</td><td>0</td><td>0</td></tr>\n",
       "\t<tr><td> 82</td><td>0</td><td>0</td><td>0</td><td>4</td><td>4</td><td>0</td><td>4</td><td>0</td><td>4</td><td>⋯</td><td>0</td><td>0</td><td>0</td><td>4</td><td>0</td><td>0</td><td>0</td><td>0</td><td>0</td><td>0</td></tr>\n",
       "\t<tr><td> 83</td><td>0</td><td>5</td><td>0</td><td>0</td><td>0</td><td>0</td><td>4</td><td>0</td><td>0</td><td>⋯</td><td>0</td><td>5</td><td>4</td><td>0</td><td>0</td><td>0</td><td>4</td><td>0</td><td>0</td><td>0</td></tr>\n",
       "\t<tr><td> 84</td><td>0</td><td>0</td><td>0</td><td>0</td><td>0</td><td>0</td><td>0</td><td>0</td><td>0</td><td>⋯</td><td>0</td><td>5</td><td>0</td><td>0</td><td>0</td><td>0</td><td>0</td><td>0</td><td>4</td><td>4</td></tr>\n",
       "\t<tr><td> 85</td><td>0</td><td>4</td><td>0</td><td>0</td><td>0</td><td>0</td><td>4</td><td>0</td><td>0</td><td>⋯</td><td>0</td><td>0</td><td>0</td><td>4</td><td>0</td><td>0</td><td>4</td><td>0</td><td>0</td><td>4</td></tr>\n",
       "\t<tr><td> 86</td><td>0</td><td>0</td><td>0</td><td>0</td><td>0</td><td>0</td><td>0</td><td>0</td><td>0</td><td>⋯</td><td>0</td><td>5</td><td>0</td><td>5</td><td>0</td><td>5</td><td>4</td><td>0</td><td>4</td><td>0</td></tr>\n",
       "\t<tr><td> 87</td><td>4</td><td>0</td><td>0</td><td>0</td><td>0</td><td>0</td><td>0</td><td>0</td><td>0</td><td>⋯</td><td>0</td><td>0</td><td>5</td><td>0</td><td>0</td><td>0</td><td>0</td><td>0</td><td>0</td><td>0</td></tr>\n",
       "\t<tr><td> 88</td><td>0</td><td>5</td><td>0</td><td>0</td><td>4</td><td>0</td><td>0</td><td>4</td><td>0</td><td>⋯</td><td>0</td><td>0</td><td>0</td><td>4</td><td>0</td><td>0</td><td>0</td><td>0</td><td>4</td><td>0</td></tr>\n",
       "\t<tr><td> 89</td><td>4</td><td>0</td><td>0</td><td>0</td><td>0</td><td>0</td><td>0</td><td>0</td><td>0</td><td>⋯</td><td>0</td><td>0</td><td>4</td><td>0</td><td>0</td><td>0</td><td>0</td><td>0</td><td>0</td><td>4</td></tr>\n",
       "\t<tr><td> 90</td><td>0</td><td>0</td><td>0</td><td>0</td><td>0</td><td>0</td><td>0</td><td>0</td><td>0</td><td>⋯</td><td>0</td><td>3</td><td>0</td><td>0</td><td>0</td><td>0</td><td>0</td><td>4</td><td>0</td><td>0</td></tr>\n",
       "\t<tr><td> 91</td><td>4</td><td>4</td><td>0</td><td>0</td><td>0</td><td>0</td><td>4</td><td>0</td><td>0</td><td>⋯</td><td>4</td><td>0</td><td>0</td><td>0</td><td>4</td><td>0</td><td>0</td><td>0</td><td>0</td><td>4</td></tr>\n",
       "\t<tr><td> 92</td><td>0</td><td>0</td><td>4</td><td>4</td><td>0</td><td>0</td><td>0</td><td>0</td><td>0</td><td>⋯</td><td>0</td><td>0</td><td>0</td><td>0</td><td>4</td><td>4</td><td>4</td><td>0</td><td>0</td><td>0</td></tr>\n",
       "\t<tr><td> 93</td><td>0</td><td>0</td><td>0</td><td>0</td><td>0</td><td>4</td><td>5</td><td>0</td><td>0</td><td>⋯</td><td>3</td><td>0</td><td>0</td><td>0</td><td>0</td><td>4</td><td>5</td><td>0</td><td>0</td><td>0</td></tr>\n",
       "\t<tr><td> 94</td><td>0</td><td>4</td><td>0</td><td>0</td><td>4</td><td>0</td><td>0</td><td>0</td><td>4</td><td>⋯</td><td>0</td><td>0</td><td>4</td><td>4</td><td>0</td><td>0</td><td>4</td><td>0</td><td>4</td><td>0</td></tr>\n",
       "\t<tr><td> 95</td><td>0</td><td>3</td><td>0</td><td>0</td><td>5</td><td>0</td><td>0</td><td>0</td><td>0</td><td>⋯</td><td>0</td><td>0</td><td>0</td><td>0</td><td>0</td><td>4</td><td>5</td><td>0</td><td>0</td><td>0</td></tr>\n",
       "\t<tr><td> 96</td><td>0</td><td>0</td><td>0</td><td>0</td><td>0</td><td>0</td><td>4</td><td>0</td><td>5</td><td>⋯</td><td>0</td><td>4</td><td>0</td><td>0</td><td>4</td><td>5</td><td>0</td><td>0</td><td>0</td><td>0</td></tr>\n",
       "\t<tr><td> 97</td><td>0</td><td>4</td><td>4</td><td>0</td><td>0</td><td>4</td><td>0</td><td>4</td><td>0</td><td>⋯</td><td>0</td><td>0</td><td>4</td><td>4</td><td>0</td><td>4</td><td>0</td><td>0</td><td>0</td><td>0</td></tr>\n",
       "\t<tr><td> 98</td><td>0</td><td>0</td><td>0</td><td>0</td><td>0</td><td>0</td><td>0</td><td>4</td><td>0</td><td>⋯</td><td>0</td><td>0</td><td>0</td><td>0</td><td>4</td><td>5</td><td>0</td><td>0</td><td>4</td><td>0</td></tr>\n",
       "\t<tr><td> 99</td><td>0</td><td>0</td><td>4</td><td>5</td><td>0</td><td>0</td><td>0</td><td>0</td><td>0</td><td>⋯</td><td>0</td><td>4</td><td>0</td><td>0</td><td>5</td><td>0</td><td>0</td><td>0</td><td>0</td><td>0</td></tr>\n",
       "\t<tr><td>100</td><td>0</td><td>0</td><td>0</td><td>0</td><td>0</td><td>0</td><td>0</td><td>0</td><td>0</td><td>⋯</td><td>0</td><td>0</td><td>0</td><td>0</td><td>0</td><td>5</td><td>5</td><td>0</td><td>0</td><td>5</td></tr>\n",
       "</tbody>\n",
       "</table>\n"
      ],
      "text/latex": [
       "A data.frame: 100 × 253\n",
       "\\begin{tabular}{lllllllllllllllllllll}\n",
       " user\\_id & tweet\\_id1 & tweet\\_id2 & tweet\\_id3 & tweet\\_id4 & tweet\\_id5 & tweet\\_id6 & tweet\\_id7 & tweet\\_id8 & tweet\\_id9 & ⋯ & tweet\\_id243 & tweet\\_id244 & tweet\\_id245 & tweet\\_id246 & tweet\\_id247 & tweet\\_id248 & tweet\\_id249 & tweet\\_id250 & tweet\\_id251 & tweet\\_id252\\\\\n",
       " <int> & <dbl> & <dbl> & <dbl> & <dbl> & <dbl> & <dbl> & <dbl> & <dbl> & <dbl> & ⋯ & <dbl> & <dbl> & <dbl> & <dbl> & <dbl> & <dbl> & <dbl> & <dbl> & <dbl> & <dbl>\\\\\n",
       "\\hline\n",
       "\t  1 & 4 & 0 & 0 & 0 & 0 & 0 & 0 & 0 & 0 & ⋯ & 3 & 3 & 0 & 0 & 0 & 0 & 0 & 0 & 0 & 5\\\\\n",
       "\t  2 & 0 & 0 & 0 & 5 & 0 & 5 & 0 & 0 & 0 & ⋯ & 0 & 4 & 0 & 0 & 0 & 0 & 3 & 0 & 0 & 0\\\\\n",
       "\t  3 & 0 & 4 & 0 & 0 & 0 & 0 & 4 & 0 & 0 & ⋯ & 0 & 0 & 0 & 0 & 0 & 0 & 0 & 0 & 0 & 0\\\\\n",
       "\t  4 & 4 & 0 & 0 & 0 & 0 & 4 & 0 & 4 & 0 & ⋯ & 0 & 4 & 0 & 0 & 0 & 0 & 0 & 0 & 0 & 0\\\\\n",
       "\t  5 & 0 & 0 & 5 & 0 & 0 & 0 & 0 & 0 & 0 & ⋯ & 0 & 0 & 4 & 4 & 0 & 4 & 0 & 0 & 0 & 0\\\\\n",
       "\t  6 & 0 & 0 & 0 & 0 & 0 & 0 & 0 & 4 & 0 & ⋯ & 5 & 0 & 0 & 0 & 0 & 0 & 0 & 0 & 0 & 4\\\\\n",
       "\t  7 & 0 & 0 & 0 & 0 & 0 & 0 & 0 & 0 & 0 & ⋯ & 0 & 0 & 0 & 0 & 0 & 4 & 0 & 0 & 0 & 0\\\\\n",
       "\t  8 & 0 & 0 & 0 & 0 & 4 & 0 & 4 & 0 & 0 & ⋯ & 5 & 0 & 0 & 0 & 4 & 0 & 0 & 0 & 0 & 4\\\\\n",
       "\t  9 & 0 & 0 & 5 & 0 & 0 & 0 & 0 & 0 & 0 & ⋯ & 0 & 0 & 4 & 0 & 0 & 0 & 0 & 0 & 5 & 0\\\\\n",
       "\t 10 & 0 & 0 & 0 & 4 & 0 & 4 & 0 & 0 & 0 & ⋯ & 0 & 0 & 0 & 0 & 0 & 0 & 0 & 0 & 4 & 5\\\\\n",
       "\t 11 & 0 & 0 & 0 & 0 & 0 & 0 & 0 & 0 & 0 & ⋯ & 5 & 5 & 0 & 0 & 0 & 0 & 0 & 0 & 0 & 0\\\\\n",
       "\t 12 & 0 & 0 & 0 & 0 & 0 & 0 & 0 & 0 & 0 & ⋯ & 0 & 0 & 0 & 0 & 4 & 0 & 0 & 0 & 0 & 0\\\\\n",
       "\t 13 & 0 & 0 & 0 & 0 & 0 & 0 & 0 & 0 & 0 & ⋯ & 0 & 0 & 0 & 0 & 0 & 0 & 0 & 0 & 4 & 0\\\\\n",
       "\t 14 & 0 & 0 & 0 & 0 & 0 & 0 & 4 & 0 & 0 & ⋯ & 0 & 0 & 0 & 0 & 0 & 0 & 0 & 0 & 0 & 0\\\\\n",
       "\t 15 & 0 & 4 & 4 & 0 & 0 & 4 & 0 & 0 & 0 & ⋯ & 0 & 0 & 4 & 0 & 0 & 0 & 0 & 0 & 0 & 0\\\\\n",
       "\t 16 & 0 & 0 & 5 & 0 & 0 & 4 & 0 & 0 & 0 & ⋯ & 0 & 0 & 0 & 0 & 0 & 0 & 0 & 4 & 4 & 5\\\\\n",
       "\t 17 & 0 & 0 & 0 & 0 & 0 & 0 & 0 & 0 & 0 & ⋯ & 0 & 0 & 4 & 0 & 4 & 0 & 0 & 0 & 4 & 0\\\\\n",
       "\t 18 & 3 & 4 & 0 & 0 & 0 & 4 & 4 & 0 & 0 & ⋯ & 0 & 0 & 0 & 0 & 4 & 0 & 0 & 0 & 5 & 0\\\\\n",
       "\t 19 & 0 & 4 & 0 & 0 & 0 & 0 & 4 & 4 & 0 & ⋯ & 0 & 0 & 0 & 0 & 0 & 0 & 4 & 4 & 0 & 0\\\\\n",
       "\t 20 & 0 & 0 & 5 & 0 & 0 & 4 & 0 & 0 & 0 & ⋯ & 3 & 0 & 0 & 0 & 0 & 0 & 0 & 0 & 0 & 0\\\\\n",
       "\t 21 & 0 & 0 & 0 & 0 & 0 & 0 & 0 & 4 & 0 & ⋯ & 0 & 0 & 0 & 0 & 0 & 5 & 5 & 0 & 4 & 4\\\\\n",
       "\t 22 & 4 & 0 & 0 & 4 & 0 & 0 & 0 & 0 & 0 & ⋯ & 0 & 0 & 0 & 5 & 0 & 0 & 0 & 0 & 0 & 0\\\\\n",
       "\t 23 & 0 & 0 & 0 & 0 & 0 & 0 & 0 & 4 & 0 & ⋯ & 0 & 0 & 0 & 0 & 0 & 0 & 0 & 4 & 0 & 0\\\\\n",
       "\t 24 & 0 & 4 & 4 & 0 & 0 & 0 & 0 & 0 & 0 & ⋯ & 0 & 0 & 0 & 0 & 0 & 5 & 0 & 0 & 0 & 0\\\\\n",
       "\t 25 & 0 & 0 & 0 & 0 & 0 & 0 & 0 & 0 & 0 & ⋯ & 0 & 0 & 0 & 0 & 0 & 0 & 0 & 0 & 0 & 0\\\\\n",
       "\t 26 & 0 & 4 & 0 & 0 & 0 & 0 & 0 & 0 & 0 & ⋯ & 4 & 0 & 0 & 0 & 0 & 0 & 0 & 0 & 0 & 0\\\\\n",
       "\t 27 & 0 & 4 & 4 & 4 & 0 & 0 & 4 & 0 & 0 & ⋯ & 0 & 4 & 0 & 5 & 0 & 0 & 0 & 0 & 0 & 0\\\\\n",
       "\t 28 & 0 & 0 & 0 & 4 & 0 & 4 & 0 & 0 & 0 & ⋯ & 4 & 0 & 0 & 0 & 4 & 0 & 4 & 0 & 5 & 0\\\\\n",
       "\t 29 & 0 & 0 & 5 & 0 & 0 & 0 & 0 & 0 & 0 & ⋯ & 0 & 0 & 0 & 0 & 0 & 0 & 5 & 0 & 0 & 0\\\\\n",
       "\t 30 & 5 & 0 & 0 & 0 & 0 & 0 & 0 & 0 & 4 & ⋯ & 0 & 3 & 0 & 0 & 0 & 0 & 0 & 0 & 0 & 0\\\\\n",
       "\t ⋮ & ⋮ & ⋮ & ⋮ & ⋮ & ⋮ & ⋮ & ⋮ & ⋮ & ⋮ & ⋱ & ⋮ & ⋮ & ⋮ & ⋮ & ⋮ & ⋮ & ⋮ & ⋮ & ⋮ & ⋮\\\\\n",
       "\t  71 & 4 & 0 & 0 & 0 & 0 & 0 & 0 & 4 & 0 & ⋯ & 0 & 0 & 0 & 0 & 0 & 0 & 0 & 4 & 0 & 0\\\\\n",
       "\t  72 & 0 & 0 & 0 & 0 & 0 & 4 & 0 & 4 & 4 & ⋯ & 0 & 4 & 0 & 0 & 4 & 0 & 0 & 0 & 0 & 5\\\\\n",
       "\t  73 & 0 & 0 & 0 & 0 & 0 & 0 & 0 & 0 & 4 & ⋯ & 4 & 0 & 0 & 0 & 0 & 0 & 0 & 0 & 0 & 0\\\\\n",
       "\t  74 & 6 & 5 & 4 & 0 & 0 & 0 & 4 & 4 & 0 & ⋯ & 4 & 0 & 0 & 4 & 5 & 0 & 0 & 0 & 0 & 0\\\\\n",
       "\t  75 & 4 & 0 & 0 & 3 & 0 & 0 & 4 & 0 & 5 & ⋯ & 0 & 6 & 0 & 0 & 0 & 0 & 0 & 0 & 0 & 0\\\\\n",
       "\t  76 & 0 & 0 & 0 & 4 & 5 & 4 & 4 & 0 & 0 & ⋯ & 0 & 0 & 0 & 0 & 0 & 4 & 0 & 4 & 0 & 0\\\\\n",
       "\t  77 & 3 & 0 & 0 & 4 & 0 & 0 & 4 & 0 & 0 & ⋯ & 0 & 0 & 0 & 0 & 0 & 0 & 0 & 4 & 0 & 0\\\\\n",
       "\t  78 & 5 & 0 & 0 & 0 & 4 & 0 & 0 & 0 & 0 & ⋯ & 0 & 0 & 4 & 0 & 0 & 4 & 0 & 0 & 0 & 0\\\\\n",
       "\t  79 & 0 & 0 & 0 & 0 & 5 & 0 & 4 & 0 & 0 & ⋯ & 5 & 0 & 0 & 0 & 0 & 0 & 0 & 0 & 0 & 0\\\\\n",
       "\t  80 & 0 & 4 & 4 & 0 & 0 & 4 & 4 & 4 & 0 & ⋯ & 0 & 4 & 4 & 0 & 4 & 0 & 0 & 0 & 0 & 0\\\\\n",
       "\t  81 & 0 & 0 & 4 & 0 & 0 & 0 & 0 & 0 & 0 & ⋯ & 5 & 0 & 0 & 0 & 0 & 0 & 0 & 0 & 0 & 0\\\\\n",
       "\t  82 & 0 & 0 & 0 & 4 & 4 & 0 & 4 & 0 & 4 & ⋯ & 0 & 0 & 0 & 4 & 0 & 0 & 0 & 0 & 0 & 0\\\\\n",
       "\t  83 & 0 & 5 & 0 & 0 & 0 & 0 & 4 & 0 & 0 & ⋯ & 0 & 5 & 4 & 0 & 0 & 0 & 4 & 0 & 0 & 0\\\\\n",
       "\t  84 & 0 & 0 & 0 & 0 & 0 & 0 & 0 & 0 & 0 & ⋯ & 0 & 5 & 0 & 0 & 0 & 0 & 0 & 0 & 4 & 4\\\\\n",
       "\t  85 & 0 & 4 & 0 & 0 & 0 & 0 & 4 & 0 & 0 & ⋯ & 0 & 0 & 0 & 4 & 0 & 0 & 4 & 0 & 0 & 4\\\\\n",
       "\t  86 & 0 & 0 & 0 & 0 & 0 & 0 & 0 & 0 & 0 & ⋯ & 0 & 5 & 0 & 5 & 0 & 5 & 4 & 0 & 4 & 0\\\\\n",
       "\t  87 & 4 & 0 & 0 & 0 & 0 & 0 & 0 & 0 & 0 & ⋯ & 0 & 0 & 5 & 0 & 0 & 0 & 0 & 0 & 0 & 0\\\\\n",
       "\t  88 & 0 & 5 & 0 & 0 & 4 & 0 & 0 & 4 & 0 & ⋯ & 0 & 0 & 0 & 4 & 0 & 0 & 0 & 0 & 4 & 0\\\\\n",
       "\t  89 & 4 & 0 & 0 & 0 & 0 & 0 & 0 & 0 & 0 & ⋯ & 0 & 0 & 4 & 0 & 0 & 0 & 0 & 0 & 0 & 4\\\\\n",
       "\t  90 & 0 & 0 & 0 & 0 & 0 & 0 & 0 & 0 & 0 & ⋯ & 0 & 3 & 0 & 0 & 0 & 0 & 0 & 4 & 0 & 0\\\\\n",
       "\t  91 & 4 & 4 & 0 & 0 & 0 & 0 & 4 & 0 & 0 & ⋯ & 4 & 0 & 0 & 0 & 4 & 0 & 0 & 0 & 0 & 4\\\\\n",
       "\t  92 & 0 & 0 & 4 & 4 & 0 & 0 & 0 & 0 & 0 & ⋯ & 0 & 0 & 0 & 0 & 4 & 4 & 4 & 0 & 0 & 0\\\\\n",
       "\t  93 & 0 & 0 & 0 & 0 & 0 & 4 & 5 & 0 & 0 & ⋯ & 3 & 0 & 0 & 0 & 0 & 4 & 5 & 0 & 0 & 0\\\\\n",
       "\t  94 & 0 & 4 & 0 & 0 & 4 & 0 & 0 & 0 & 4 & ⋯ & 0 & 0 & 4 & 4 & 0 & 0 & 4 & 0 & 4 & 0\\\\\n",
       "\t  95 & 0 & 3 & 0 & 0 & 5 & 0 & 0 & 0 & 0 & ⋯ & 0 & 0 & 0 & 0 & 0 & 4 & 5 & 0 & 0 & 0\\\\\n",
       "\t  96 & 0 & 0 & 0 & 0 & 0 & 0 & 4 & 0 & 5 & ⋯ & 0 & 4 & 0 & 0 & 4 & 5 & 0 & 0 & 0 & 0\\\\\n",
       "\t  97 & 0 & 4 & 4 & 0 & 0 & 4 & 0 & 4 & 0 & ⋯ & 0 & 0 & 4 & 4 & 0 & 4 & 0 & 0 & 0 & 0\\\\\n",
       "\t  98 & 0 & 0 & 0 & 0 & 0 & 0 & 0 & 4 & 0 & ⋯ & 0 & 0 & 0 & 0 & 4 & 5 & 0 & 0 & 4 & 0\\\\\n",
       "\t  99 & 0 & 0 & 4 & 5 & 0 & 0 & 0 & 0 & 0 & ⋯ & 0 & 4 & 0 & 0 & 5 & 0 & 0 & 0 & 0 & 0\\\\\n",
       "\t 100 & 0 & 0 & 0 & 0 & 0 & 0 & 0 & 0 & 0 & ⋯ & 0 & 0 & 0 & 0 & 0 & 5 & 5 & 0 & 0 & 5\\\\\n",
       "\\end{tabular}\n"
      ],
      "text/markdown": [
       "\n",
       "A data.frame: 100 × 253\n",
       "\n",
       "| user_id &lt;int&gt; | tweet_id1 &lt;dbl&gt; | tweet_id2 &lt;dbl&gt; | tweet_id3 &lt;dbl&gt; | tweet_id4 &lt;dbl&gt; | tweet_id5 &lt;dbl&gt; | tweet_id6 &lt;dbl&gt; | tweet_id7 &lt;dbl&gt; | tweet_id8 &lt;dbl&gt; | tweet_id9 &lt;dbl&gt; | ⋯ ⋯ | tweet_id243 &lt;dbl&gt; | tweet_id244 &lt;dbl&gt; | tweet_id245 &lt;dbl&gt; | tweet_id246 &lt;dbl&gt; | tweet_id247 &lt;dbl&gt; | tweet_id248 &lt;dbl&gt; | tweet_id249 &lt;dbl&gt; | tweet_id250 &lt;dbl&gt; | tweet_id251 &lt;dbl&gt; | tweet_id252 &lt;dbl&gt; |\n",
       "|---|---|---|---|---|---|---|---|---|---|---|---|---|---|---|---|---|---|---|---|---|\n",
       "|  1 | 4 | 0 | 0 | 0 | 0 | 0 | 0 | 0 | 0 | ⋯ | 3 | 3 | 0 | 0 | 0 | 0 | 0 | 0 | 0 | 5 |\n",
       "|  2 | 0 | 0 | 0 | 5 | 0 | 5 | 0 | 0 | 0 | ⋯ | 0 | 4 | 0 | 0 | 0 | 0 | 3 | 0 | 0 | 0 |\n",
       "|  3 | 0 | 4 | 0 | 0 | 0 | 0 | 4 | 0 | 0 | ⋯ | 0 | 0 | 0 | 0 | 0 | 0 | 0 | 0 | 0 | 0 |\n",
       "|  4 | 4 | 0 | 0 | 0 | 0 | 4 | 0 | 4 | 0 | ⋯ | 0 | 4 | 0 | 0 | 0 | 0 | 0 | 0 | 0 | 0 |\n",
       "|  5 | 0 | 0 | 5 | 0 | 0 | 0 | 0 | 0 | 0 | ⋯ | 0 | 0 | 4 | 4 | 0 | 4 | 0 | 0 | 0 | 0 |\n",
       "|  6 | 0 | 0 | 0 | 0 | 0 | 0 | 0 | 4 | 0 | ⋯ | 5 | 0 | 0 | 0 | 0 | 0 | 0 | 0 | 0 | 4 |\n",
       "|  7 | 0 | 0 | 0 | 0 | 0 | 0 | 0 | 0 | 0 | ⋯ | 0 | 0 | 0 | 0 | 0 | 4 | 0 | 0 | 0 | 0 |\n",
       "|  8 | 0 | 0 | 0 | 0 | 4 | 0 | 4 | 0 | 0 | ⋯ | 5 | 0 | 0 | 0 | 4 | 0 | 0 | 0 | 0 | 4 |\n",
       "|  9 | 0 | 0 | 5 | 0 | 0 | 0 | 0 | 0 | 0 | ⋯ | 0 | 0 | 4 | 0 | 0 | 0 | 0 | 0 | 5 | 0 |\n",
       "| 10 | 0 | 0 | 0 | 4 | 0 | 4 | 0 | 0 | 0 | ⋯ | 0 | 0 | 0 | 0 | 0 | 0 | 0 | 0 | 4 | 5 |\n",
       "| 11 | 0 | 0 | 0 | 0 | 0 | 0 | 0 | 0 | 0 | ⋯ | 5 | 5 | 0 | 0 | 0 | 0 | 0 | 0 | 0 | 0 |\n",
       "| 12 | 0 | 0 | 0 | 0 | 0 | 0 | 0 | 0 | 0 | ⋯ | 0 | 0 | 0 | 0 | 4 | 0 | 0 | 0 | 0 | 0 |\n",
       "| 13 | 0 | 0 | 0 | 0 | 0 | 0 | 0 | 0 | 0 | ⋯ | 0 | 0 | 0 | 0 | 0 | 0 | 0 | 0 | 4 | 0 |\n",
       "| 14 | 0 | 0 | 0 | 0 | 0 | 0 | 4 | 0 | 0 | ⋯ | 0 | 0 | 0 | 0 | 0 | 0 | 0 | 0 | 0 | 0 |\n",
       "| 15 | 0 | 4 | 4 | 0 | 0 | 4 | 0 | 0 | 0 | ⋯ | 0 | 0 | 4 | 0 | 0 | 0 | 0 | 0 | 0 | 0 |\n",
       "| 16 | 0 | 0 | 5 | 0 | 0 | 4 | 0 | 0 | 0 | ⋯ | 0 | 0 | 0 | 0 | 0 | 0 | 0 | 4 | 4 | 5 |\n",
       "| 17 | 0 | 0 | 0 | 0 | 0 | 0 | 0 | 0 | 0 | ⋯ | 0 | 0 | 4 | 0 | 4 | 0 | 0 | 0 | 4 | 0 |\n",
       "| 18 | 3 | 4 | 0 | 0 | 0 | 4 | 4 | 0 | 0 | ⋯ | 0 | 0 | 0 | 0 | 4 | 0 | 0 | 0 | 5 | 0 |\n",
       "| 19 | 0 | 4 | 0 | 0 | 0 | 0 | 4 | 4 | 0 | ⋯ | 0 | 0 | 0 | 0 | 0 | 0 | 4 | 4 | 0 | 0 |\n",
       "| 20 | 0 | 0 | 5 | 0 | 0 | 4 | 0 | 0 | 0 | ⋯ | 3 | 0 | 0 | 0 | 0 | 0 | 0 | 0 | 0 | 0 |\n",
       "| 21 | 0 | 0 | 0 | 0 | 0 | 0 | 0 | 4 | 0 | ⋯ | 0 | 0 | 0 | 0 | 0 | 5 | 5 | 0 | 4 | 4 |\n",
       "| 22 | 4 | 0 | 0 | 4 | 0 | 0 | 0 | 0 | 0 | ⋯ | 0 | 0 | 0 | 5 | 0 | 0 | 0 | 0 | 0 | 0 |\n",
       "| 23 | 0 | 0 | 0 | 0 | 0 | 0 | 0 | 4 | 0 | ⋯ | 0 | 0 | 0 | 0 | 0 | 0 | 0 | 4 | 0 | 0 |\n",
       "| 24 | 0 | 4 | 4 | 0 | 0 | 0 | 0 | 0 | 0 | ⋯ | 0 | 0 | 0 | 0 | 0 | 5 | 0 | 0 | 0 | 0 |\n",
       "| 25 | 0 | 0 | 0 | 0 | 0 | 0 | 0 | 0 | 0 | ⋯ | 0 | 0 | 0 | 0 | 0 | 0 | 0 | 0 | 0 | 0 |\n",
       "| 26 | 0 | 4 | 0 | 0 | 0 | 0 | 0 | 0 | 0 | ⋯ | 4 | 0 | 0 | 0 | 0 | 0 | 0 | 0 | 0 | 0 |\n",
       "| 27 | 0 | 4 | 4 | 4 | 0 | 0 | 4 | 0 | 0 | ⋯ | 0 | 4 | 0 | 5 | 0 | 0 | 0 | 0 | 0 | 0 |\n",
       "| 28 | 0 | 0 | 0 | 4 | 0 | 4 | 0 | 0 | 0 | ⋯ | 4 | 0 | 0 | 0 | 4 | 0 | 4 | 0 | 5 | 0 |\n",
       "| 29 | 0 | 0 | 5 | 0 | 0 | 0 | 0 | 0 | 0 | ⋯ | 0 | 0 | 0 | 0 | 0 | 0 | 5 | 0 | 0 | 0 |\n",
       "| 30 | 5 | 0 | 0 | 0 | 0 | 0 | 0 | 0 | 4 | ⋯ | 0 | 3 | 0 | 0 | 0 | 0 | 0 | 0 | 0 | 0 |\n",
       "| ⋮ | ⋮ | ⋮ | ⋮ | ⋮ | ⋮ | ⋮ | ⋮ | ⋮ | ⋮ | ⋱ | ⋮ | ⋮ | ⋮ | ⋮ | ⋮ | ⋮ | ⋮ | ⋮ | ⋮ | ⋮ |\n",
       "|  71 | 4 | 0 | 0 | 0 | 0 | 0 | 0 | 4 | 0 | ⋯ | 0 | 0 | 0 | 0 | 0 | 0 | 0 | 4 | 0 | 0 |\n",
       "|  72 | 0 | 0 | 0 | 0 | 0 | 4 | 0 | 4 | 4 | ⋯ | 0 | 4 | 0 | 0 | 4 | 0 | 0 | 0 | 0 | 5 |\n",
       "|  73 | 0 | 0 | 0 | 0 | 0 | 0 | 0 | 0 | 4 | ⋯ | 4 | 0 | 0 | 0 | 0 | 0 | 0 | 0 | 0 | 0 |\n",
       "|  74 | 6 | 5 | 4 | 0 | 0 | 0 | 4 | 4 | 0 | ⋯ | 4 | 0 | 0 | 4 | 5 | 0 | 0 | 0 | 0 | 0 |\n",
       "|  75 | 4 | 0 | 0 | 3 | 0 | 0 | 4 | 0 | 5 | ⋯ | 0 | 6 | 0 | 0 | 0 | 0 | 0 | 0 | 0 | 0 |\n",
       "|  76 | 0 | 0 | 0 | 4 | 5 | 4 | 4 | 0 | 0 | ⋯ | 0 | 0 | 0 | 0 | 0 | 4 | 0 | 4 | 0 | 0 |\n",
       "|  77 | 3 | 0 | 0 | 4 | 0 | 0 | 4 | 0 | 0 | ⋯ | 0 | 0 | 0 | 0 | 0 | 0 | 0 | 4 | 0 | 0 |\n",
       "|  78 | 5 | 0 | 0 | 0 | 4 | 0 | 0 | 0 | 0 | ⋯ | 0 | 0 | 4 | 0 | 0 | 4 | 0 | 0 | 0 | 0 |\n",
       "|  79 | 0 | 0 | 0 | 0 | 5 | 0 | 4 | 0 | 0 | ⋯ | 5 | 0 | 0 | 0 | 0 | 0 | 0 | 0 | 0 | 0 |\n",
       "|  80 | 0 | 4 | 4 | 0 | 0 | 4 | 4 | 4 | 0 | ⋯ | 0 | 4 | 4 | 0 | 4 | 0 | 0 | 0 | 0 | 0 |\n",
       "|  81 | 0 | 0 | 4 | 0 | 0 | 0 | 0 | 0 | 0 | ⋯ | 5 | 0 | 0 | 0 | 0 | 0 | 0 | 0 | 0 | 0 |\n",
       "|  82 | 0 | 0 | 0 | 4 | 4 | 0 | 4 | 0 | 4 | ⋯ | 0 | 0 | 0 | 4 | 0 | 0 | 0 | 0 | 0 | 0 |\n",
       "|  83 | 0 | 5 | 0 | 0 | 0 | 0 | 4 | 0 | 0 | ⋯ | 0 | 5 | 4 | 0 | 0 | 0 | 4 | 0 | 0 | 0 |\n",
       "|  84 | 0 | 0 | 0 | 0 | 0 | 0 | 0 | 0 | 0 | ⋯ | 0 | 5 | 0 | 0 | 0 | 0 | 0 | 0 | 4 | 4 |\n",
       "|  85 | 0 | 4 | 0 | 0 | 0 | 0 | 4 | 0 | 0 | ⋯ | 0 | 0 | 0 | 4 | 0 | 0 | 4 | 0 | 0 | 4 |\n",
       "|  86 | 0 | 0 | 0 | 0 | 0 | 0 | 0 | 0 | 0 | ⋯ | 0 | 5 | 0 | 5 | 0 | 5 | 4 | 0 | 4 | 0 |\n",
       "|  87 | 4 | 0 | 0 | 0 | 0 | 0 | 0 | 0 | 0 | ⋯ | 0 | 0 | 5 | 0 | 0 | 0 | 0 | 0 | 0 | 0 |\n",
       "|  88 | 0 | 5 | 0 | 0 | 4 | 0 | 0 | 4 | 0 | ⋯ | 0 | 0 | 0 | 4 | 0 | 0 | 0 | 0 | 4 | 0 |\n",
       "|  89 | 4 | 0 | 0 | 0 | 0 | 0 | 0 | 0 | 0 | ⋯ | 0 | 0 | 4 | 0 | 0 | 0 | 0 | 0 | 0 | 4 |\n",
       "|  90 | 0 | 0 | 0 | 0 | 0 | 0 | 0 | 0 | 0 | ⋯ | 0 | 3 | 0 | 0 | 0 | 0 | 0 | 4 | 0 | 0 |\n",
       "|  91 | 4 | 4 | 0 | 0 | 0 | 0 | 4 | 0 | 0 | ⋯ | 4 | 0 | 0 | 0 | 4 | 0 | 0 | 0 | 0 | 4 |\n",
       "|  92 | 0 | 0 | 4 | 4 | 0 | 0 | 0 | 0 | 0 | ⋯ | 0 | 0 | 0 | 0 | 4 | 4 | 4 | 0 | 0 | 0 |\n",
       "|  93 | 0 | 0 | 0 | 0 | 0 | 4 | 5 | 0 | 0 | ⋯ | 3 | 0 | 0 | 0 | 0 | 4 | 5 | 0 | 0 | 0 |\n",
       "|  94 | 0 | 4 | 0 | 0 | 4 | 0 | 0 | 0 | 4 | ⋯ | 0 | 0 | 4 | 4 | 0 | 0 | 4 | 0 | 4 | 0 |\n",
       "|  95 | 0 | 3 | 0 | 0 | 5 | 0 | 0 | 0 | 0 | ⋯ | 0 | 0 | 0 | 0 | 0 | 4 | 5 | 0 | 0 | 0 |\n",
       "|  96 | 0 | 0 | 0 | 0 | 0 | 0 | 4 | 0 | 5 | ⋯ | 0 | 4 | 0 | 0 | 4 | 5 | 0 | 0 | 0 | 0 |\n",
       "|  97 | 0 | 4 | 4 | 0 | 0 | 4 | 0 | 4 | 0 | ⋯ | 0 | 0 | 4 | 4 | 0 | 4 | 0 | 0 | 0 | 0 |\n",
       "|  98 | 0 | 0 | 0 | 0 | 0 | 0 | 0 | 4 | 0 | ⋯ | 0 | 0 | 0 | 0 | 4 | 5 | 0 | 0 | 4 | 0 |\n",
       "|  99 | 0 | 0 | 4 | 5 | 0 | 0 | 0 | 0 | 0 | ⋯ | 0 | 4 | 0 | 0 | 5 | 0 | 0 | 0 | 0 | 0 |\n",
       "| 100 | 0 | 0 | 0 | 0 | 0 | 0 | 0 | 0 | 0 | ⋯ | 0 | 0 | 0 | 0 | 0 | 5 | 5 | 0 | 0 | 5 |\n",
       "\n"
      ],
      "text/plain": [
       "    user_id tweet_id1 tweet_id2 tweet_id3 tweet_id4 tweet_id5 tweet_id6\n",
       "1    1      4         0         0         0         0         0        \n",
       "2    2      0         0         0         5         0         5        \n",
       "3    3      0         4         0         0         0         0        \n",
       "4    4      4         0         0         0         0         4        \n",
       "5    5      0         0         5         0         0         0        \n",
       "6    6      0         0         0         0         0         0        \n",
       "7    7      0         0         0         0         0         0        \n",
       "8    8      0         0         0         0         4         0        \n",
       "9    9      0         0         5         0         0         0        \n",
       "10  10      0         0         0         4         0         4        \n",
       "11  11      0         0         0         0         0         0        \n",
       "12  12      0         0         0         0         0         0        \n",
       "13  13      0         0         0         0         0         0        \n",
       "14  14      0         0         0         0         0         0        \n",
       "15  15      0         4         4         0         0         4        \n",
       "16  16      0         0         5         0         0         4        \n",
       "17  17      0         0         0         0         0         0        \n",
       "18  18      3         4         0         0         0         4        \n",
       "19  19      0         4         0         0         0         0        \n",
       "20  20      0         0         5         0         0         4        \n",
       "21  21      0         0         0         0         0         0        \n",
       "22  22      4         0         0         4         0         0        \n",
       "23  23      0         0         0         0         0         0        \n",
       "24  24      0         4         4         0         0         0        \n",
       "25  25      0         0         0         0         0         0        \n",
       "26  26      0         4         0         0         0         0        \n",
       "27  27      0         4         4         4         0         0        \n",
       "28  28      0         0         0         4         0         4        \n",
       "29  29      0         0         5         0         0         0        \n",
       "30  30      5         0         0         0         0         0        \n",
       "⋮   ⋮       ⋮         ⋮         ⋮         ⋮         ⋮         ⋮        \n",
       "71   71     4         0         0         0         0         0        \n",
       "72   72     0         0         0         0         0         4        \n",
       "73   73     0         0         0         0         0         0        \n",
       "74   74     6         5         4         0         0         0        \n",
       "75   75     4         0         0         3         0         0        \n",
       "76   76     0         0         0         4         5         4        \n",
       "77   77     3         0         0         4         0         0        \n",
       "78   78     5         0         0         0         4         0        \n",
       "79   79     0         0         0         0         5         0        \n",
       "80   80     0         4         4         0         0         4        \n",
       "81   81     0         0         4         0         0         0        \n",
       "82   82     0         0         0         4         4         0        \n",
       "83   83     0         5         0         0         0         0        \n",
       "84   84     0         0         0         0         0         0        \n",
       "85   85     0         4         0         0         0         0        \n",
       "86   86     0         0         0         0         0         0        \n",
       "87   87     4         0         0         0         0         0        \n",
       "88   88     0         5         0         0         4         0        \n",
       "89   89     4         0         0         0         0         0        \n",
       "90   90     0         0         0         0         0         0        \n",
       "91   91     4         4         0         0         0         0        \n",
       "92   92     0         0         4         4         0         0        \n",
       "93   93     0         0         0         0         0         4        \n",
       "94   94     0         4         0         0         4         0        \n",
       "95   95     0         3         0         0         5         0        \n",
       "96   96     0         0         0         0         0         0        \n",
       "97   97     0         4         4         0         0         4        \n",
       "98   98     0         0         0         0         0         0        \n",
       "99   99     0         0         4         5         0         0        \n",
       "100 100     0         0         0         0         0         0        \n",
       "    tweet_id7 tweet_id8 tweet_id9 ⋯ tweet_id243 tweet_id244 tweet_id245\n",
       "1   0         0         0         ⋯ 3           3           0          \n",
       "2   0         0         0         ⋯ 0           4           0          \n",
       "3   4         0         0         ⋯ 0           0           0          \n",
       "4   0         4         0         ⋯ 0           4           0          \n",
       "5   0         0         0         ⋯ 0           0           4          \n",
       "6   0         4         0         ⋯ 5           0           0          \n",
       "7   0         0         0         ⋯ 0           0           0          \n",
       "8   4         0         0         ⋯ 5           0           0          \n",
       "9   0         0         0         ⋯ 0           0           4          \n",
       "10  0         0         0         ⋯ 0           0           0          \n",
       "11  0         0         0         ⋯ 5           5           0          \n",
       "12  0         0         0         ⋯ 0           0           0          \n",
       "13  0         0         0         ⋯ 0           0           0          \n",
       "14  4         0         0         ⋯ 0           0           0          \n",
       "15  0         0         0         ⋯ 0           0           4          \n",
       "16  0         0         0         ⋯ 0           0           0          \n",
       "17  0         0         0         ⋯ 0           0           4          \n",
       "18  4         0         0         ⋯ 0           0           0          \n",
       "19  4         4         0         ⋯ 0           0           0          \n",
       "20  0         0         0         ⋯ 3           0           0          \n",
       "21  0         4         0         ⋯ 0           0           0          \n",
       "22  0         0         0         ⋯ 0           0           0          \n",
       "23  0         4         0         ⋯ 0           0           0          \n",
       "24  0         0         0         ⋯ 0           0           0          \n",
       "25  0         0         0         ⋯ 0           0           0          \n",
       "26  0         0         0         ⋯ 4           0           0          \n",
       "27  4         0         0         ⋯ 0           4           0          \n",
       "28  0         0         0         ⋯ 4           0           0          \n",
       "29  0         0         0         ⋯ 0           0           0          \n",
       "30  0         0         4         ⋯ 0           3           0          \n",
       "⋮   ⋮         ⋮         ⋮         ⋱ ⋮           ⋮           ⋮          \n",
       "71  0         4         0         ⋯ 0           0           0          \n",
       "72  0         4         4         ⋯ 0           4           0          \n",
       "73  0         0         4         ⋯ 4           0           0          \n",
       "74  4         4         0         ⋯ 4           0           0          \n",
       "75  4         0         5         ⋯ 0           6           0          \n",
       "76  4         0         0         ⋯ 0           0           0          \n",
       "77  4         0         0         ⋯ 0           0           0          \n",
       "78  0         0         0         ⋯ 0           0           4          \n",
       "79  4         0         0         ⋯ 5           0           0          \n",
       "80  4         4         0         ⋯ 0           4           4          \n",
       "81  0         0         0         ⋯ 5           0           0          \n",
       "82  4         0         4         ⋯ 0           0           0          \n",
       "83  4         0         0         ⋯ 0           5           4          \n",
       "84  0         0         0         ⋯ 0           5           0          \n",
       "85  4         0         0         ⋯ 0           0           0          \n",
       "86  0         0         0         ⋯ 0           5           0          \n",
       "87  0         0         0         ⋯ 0           0           5          \n",
       "88  0         4         0         ⋯ 0           0           0          \n",
       "89  0         0         0         ⋯ 0           0           4          \n",
       "90  0         0         0         ⋯ 0           3           0          \n",
       "91  4         0         0         ⋯ 4           0           0          \n",
       "92  0         0         0         ⋯ 0           0           0          \n",
       "93  5         0         0         ⋯ 3           0           0          \n",
       "94  0         0         4         ⋯ 0           0           4          \n",
       "95  0         0         0         ⋯ 0           0           0          \n",
       "96  4         0         5         ⋯ 0           4           0          \n",
       "97  0         4         0         ⋯ 0           0           4          \n",
       "98  0         4         0         ⋯ 0           0           0          \n",
       "99  0         0         0         ⋯ 0           4           0          \n",
       "100 0         0         0         ⋯ 0           0           0          \n",
       "    tweet_id246 tweet_id247 tweet_id248 tweet_id249 tweet_id250 tweet_id251\n",
       "1   0           0           0           0           0           0          \n",
       "2   0           0           0           3           0           0          \n",
       "3   0           0           0           0           0           0          \n",
       "4   0           0           0           0           0           0          \n",
       "5   4           0           4           0           0           0          \n",
       "6   0           0           0           0           0           0          \n",
       "7   0           0           4           0           0           0          \n",
       "8   0           4           0           0           0           0          \n",
       "9   0           0           0           0           0           5          \n",
       "10  0           0           0           0           0           4          \n",
       "11  0           0           0           0           0           0          \n",
       "12  0           4           0           0           0           0          \n",
       "13  0           0           0           0           0           4          \n",
       "14  0           0           0           0           0           0          \n",
       "15  0           0           0           0           0           0          \n",
       "16  0           0           0           0           4           4          \n",
       "17  0           4           0           0           0           4          \n",
       "18  0           4           0           0           0           5          \n",
       "19  0           0           0           4           4           0          \n",
       "20  0           0           0           0           0           0          \n",
       "21  0           0           5           5           0           4          \n",
       "22  5           0           0           0           0           0          \n",
       "23  0           0           0           0           4           0          \n",
       "24  0           0           5           0           0           0          \n",
       "25  0           0           0           0           0           0          \n",
       "26  0           0           0           0           0           0          \n",
       "27  5           0           0           0           0           0          \n",
       "28  0           4           0           4           0           5          \n",
       "29  0           0           0           5           0           0          \n",
       "30  0           0           0           0           0           0          \n",
       "⋮   ⋮           ⋮           ⋮           ⋮           ⋮           ⋮          \n",
       "71  0           0           0           0           4           0          \n",
       "72  0           4           0           0           0           0          \n",
       "73  0           0           0           0           0           0          \n",
       "74  4           5           0           0           0           0          \n",
       "75  0           0           0           0           0           0          \n",
       "76  0           0           4           0           4           0          \n",
       "77  0           0           0           0           4           0          \n",
       "78  0           0           4           0           0           0          \n",
       "79  0           0           0           0           0           0          \n",
       "80  0           4           0           0           0           0          \n",
       "81  0           0           0           0           0           0          \n",
       "82  4           0           0           0           0           0          \n",
       "83  0           0           0           4           0           0          \n",
       "84  0           0           0           0           0           4          \n",
       "85  4           0           0           4           0           0          \n",
       "86  5           0           5           4           0           4          \n",
       "87  0           0           0           0           0           0          \n",
       "88  4           0           0           0           0           4          \n",
       "89  0           0           0           0           0           0          \n",
       "90  0           0           0           0           4           0          \n",
       "91  0           4           0           0           0           0          \n",
       "92  0           4           4           4           0           0          \n",
       "93  0           0           4           5           0           0          \n",
       "94  4           0           0           4           0           4          \n",
       "95  0           0           4           5           0           0          \n",
       "96  0           4           5           0           0           0          \n",
       "97  4           0           4           0           0           0          \n",
       "98  0           4           5           0           0           4          \n",
       "99  0           5           0           0           0           0          \n",
       "100 0           0           5           5           0           0          \n",
       "    tweet_id252\n",
       "1   5          \n",
       "2   0          \n",
       "3   0          \n",
       "4   0          \n",
       "5   0          \n",
       "6   4          \n",
       "7   0          \n",
       "8   4          \n",
       "9   0          \n",
       "10  5          \n",
       "11  0          \n",
       "12  0          \n",
       "13  0          \n",
       "14  0          \n",
       "15  0          \n",
       "16  5          \n",
       "17  0          \n",
       "18  0          \n",
       "19  0          \n",
       "20  0          \n",
       "21  4          \n",
       "22  0          \n",
       "23  0          \n",
       "24  0          \n",
       "25  0          \n",
       "26  0          \n",
       "27  0          \n",
       "28  0          \n",
       "29  0          \n",
       "30  0          \n",
       "⋮   ⋮          \n",
       "71  0          \n",
       "72  5          \n",
       "73  0          \n",
       "74  0          \n",
       "75  0          \n",
       "76  0          \n",
       "77  0          \n",
       "78  0          \n",
       "79  0          \n",
       "80  0          \n",
       "81  0          \n",
       "82  0          \n",
       "83  0          \n",
       "84  4          \n",
       "85  4          \n",
       "86  0          \n",
       "87  0          \n",
       "88  0          \n",
       "89  4          \n",
       "90  0          \n",
       "91  4          \n",
       "92  0          \n",
       "93  0          \n",
       "94  0          \n",
       "95  0          \n",
       "96  0          \n",
       "97  0          \n",
       "98  0          \n",
       "99  0          \n",
       "100 5          "
      ]
     },
     "metadata": {},
     "output_type": "display_data"
    }
   ],
   "source": [
    "rbind(data_pred_bias, data) %>% spread(., tweet_id, rating, sep = \"\")"
   ]
  }
 ],
 "metadata": {
  "kernelspec": {
   "display_name": "R",
   "language": "R",
   "name": "ir"
  },
  "language_info": {
   "codemirror_mode": "r",
   "file_extension": ".r",
   "mimetype": "text/x-r-source",
   "name": "R",
   "pygments_lexer": "r",
   "version": "3.6.3"
  },
  "papermill": {
   "default_parameters": {},
   "duration": 42.733332,
   "end_time": "2020-12-07T10:31:34.733300",
   "environment_variables": {},
   "exception": null,
   "input_path": "__notebook__.ipynb",
   "output_path": "__notebook__.ipynb",
   "parameters": {},
   "start_time": "2020-12-07T10:30:51.999968",
   "version": "2.2.2"
  }
 },
 "nbformat": 4,
 "nbformat_minor": 4
}
